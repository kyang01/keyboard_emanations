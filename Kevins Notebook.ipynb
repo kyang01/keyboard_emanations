{
 "cells": [
  {
   "cell_type": "code",
   "execution_count": 1,
   "metadata": {
    "collapsed": false
   },
   "outputs": [],
   "source": [
    "%matplotlib inline\n",
    "from python_speech_features import mfcc\n",
    "from python_speech_features import logfbank\n",
    "import scipy.io.wavfile as wav\n",
    "from scipy import signal\n",
    "import peakutils\n",
    "import pandas as pd\n",
    "import matplotlib.pyplot as plt\n",
    "import numpy as np\n",
    "from sklearn.decomposition import PCA\n",
    "from scipy.cluster.vq import kmeans2,vq, whiten\n",
    "from sklearn.cluster import KMeans\n",
    "from hmmlearn.hmm import MultinomialHMM\n",
    "from mpl_toolkits.mplot3d import Axes3D"
   ]
  },
  {
   "cell_type": "code",
   "execution_count": 2,
   "metadata": {
    "collapsed": false
   },
   "outputs": [],
   "source": [
    "def transform_to_str(pred):\n",
    "    s = ''\n",
    "    for i in pred:\n",
    "        if i == 26:\n",
    "            s += ' '\n",
    "        else:\n",
    "            s += chr(97 + i)\n",
    "    return s\n",
    "\n",
    "# Takes in sequential order of numpy arrays representing window for keypress \n",
    "# Outputs (keypress x 80) numpy array with cepstrum applied to it\n",
    "def extract_cepstrum(keypress_sigs, rate, mfcc_start=2, mfcc_end=7):\n",
    "    keypress_feats = []\n",
    "    for keypress_sig in keypress_sigs:\n",
    "        mfcc_feat = mfcc(keypress_sig, rate, winlen=0.01, \n",
    "        winstep=0.0025, numcep=16, nfilt=32, \n",
    "        lowfreq=400, highfreq=12000)\n",
    "        keypress_feats.append(np.concatenate(mfcc_feat[mfcc_start:mfcc_end, :]).T)\n",
    "    data = np.vstack(keypress_feats)\n",
    "    return data\n",
    "\n",
    "def run_hmm(data, targ_s, whiten_data=True, num_clusters=60, space_smooth=10, trans_smooth=1):\n",
    "    if whiten_data:\n",
    "        data = whiten(data)\n",
    "    kmeans = KMeans(n_clusters=num_clusters).fit(data)\n",
    "\n",
    "    # Get labels from running clustering\n",
    "    labels = kmeans.labels_.reshape(-1, 1)\n",
    "\n",
    "    # Init spaces to reasonable values\n",
    "    space_inds = [i for i, letter in enumerate(targ_s) if letter == \" \"][:10]\n",
    "    spaces = kmeans.labels_[space_inds]\n",
    "\n",
    "    # Build transition matrix\n",
    "    trans_m = np.zeros((27, 27)) + trans_smooth\n",
    "    for i in range(len(targ_s)-1):\n",
    "        c, next_c = ord(targ_s[i]) - 97, ord(targ_s[i+1]) - 97\n",
    "        if c < 0:\n",
    "            c = 26\n",
    "        if next_c < 0:\n",
    "            next_c = 26\n",
    "        trans_m[c][next_c] += 1\n",
    "    row_sums = trans_m.sum(axis=1)\n",
    "    trans_m = trans_m / row_sums[:, np.newaxis]\n",
    "\n",
    "    # Build emission matrix\n",
    "    emiss_m = np.random.rand(27, num_clusters)\n",
    "    space_vec = np.zeros((num_clusters)) + space_smooth\n",
    "    for i in spaces:\n",
    "        space_vec[i] += 1\n",
    "    emiss_m[26, :] = space_vec\n",
    "    row_sums = emiss_m.sum(axis=1)\n",
    "    emiss_m = emiss_m / row_sums[:, np.newaxis]\n",
    "\n",
    "    # Create HMM\n",
    "    hmm = MultinomialHMM(n_components=27, verbose=True, init_params=\"e\", params=\"se\", tol=1e-4, n_iter=5000) \n",
    "    hmm.n_features = num_clusters\n",
    "    hmm.transmat_ = trans_m\n",
    "    hmm.emissionprob_ = emiss_m\n",
    "    \n",
    "    # Fit and decode\n",
    "    hmm = hmm.fit(labels)\n",
    "    logprob, pred = hmm.decode(labels, algorithm='viterbi')\n",
    "    \n",
    "    return hmm, logprob, pred"
   ]
  },
  {
   "cell_type": "code",
   "execution_count": 4,
   "metadata": {
    "collapsed": false
   },
   "outputs": [],
   "source": [
    "(rate,sig) = wav.read(\"alice_slow.wav\")\n",
    "sig = sig[:, 1]"
   ]
  },
  {
   "cell_type": "code",
   "execution_count": 6,
   "metadata": {
    "collapsed": false
   },
   "outputs": [
    {
     "data": {
      "text/plain": [
       "<matplotlib.axes._subplots.AxesSubplot at 0x11726d210>"
      ]
     },
     "execution_count": 6,
     "metadata": {},
     "output_type": "execute_result"
    },
    {
     "data": {
      "image/png": "[encoded data removed]",
      "text/plain": [
       "<matplotlib.figure.Figure at 0x117231a10>"
      ]
     },
     "metadata": {},
     "output_type": "display_data"
    }
   ],
   "source": [
    "pd.Series(sig[500000:600000]).plot()"
   ]
  },
  {
   "cell_type": "code",
   "execution_count": 8,
   "metadata": {
    "collapsed": false
   },
   "outputs": [],
   "source": [
    "f, t, Sxx = signal.spectrogram(sig, rate)\n",
    "# t -> X, time\n",
    "# f -> Y, frequency in HZ\n",
    "# Sxx -> C, actual values themselves"
   ]
  },
  {
   "cell_type": "code",
   "execution_count": 12,
   "metadata": {
    "collapsed": false
   },
   "outputs": [
    {
     "name": "stdout",
     "output_type": "stream",
     "text": [
      "[   586    606    639 ..., 119013 119037 119068]\n"
     ]
    },
    {
     "data": {
      "text/plain": [
       "(2112, 2092)"
      ]
     },
     "execution_count": 12,
     "metadata": {},
     "output_type": "execute_result"
    }
   ],
   "source": [
    "targ_s = \"alice was beginning to get very tired of sitting by her sister on the bank and of having nothing to do once or twice she had peeped into the book her sister was reading but it had no pictures or conversations in it and what is the use of a book thought alice without pictures or conversations so she was considering in her own mind as well as she could for the day made her feel very sleepy and stupid whether the pleasure of making a daisy chain would be worth the trouble of getting up and picking the daisies when suddenly a white abbit with pink eyes ran close by her there was nothing so very remarkable in that nor did alice think it so very much out of the way to hear the rabbit say to itself oh dear oh dear i shall be too late but when the rabbit actually took a watch out of its waistcoat pocket and looked at it and then hurried on alice started to her feet for it flashed across her mind that she had never before seen a rabbit with either a waistcoat pocket or watch to take out of it and burning wit curiosity she ran acrross the field after it and was just in time to see it pop down a large rabbit hole under the hedge in another moment down went alice after it the rabbit hole went straight on like a tunnel for some way and then dipped sudddenly down so suddenly that alice had not a moment to think about stopping herself before she found herself falling down what seemed to be a very deep well either the well was very deep or she fell very slowly for she had plenty of time as she went down to look about her first she tried to make out what she was coming to but it was too dark to see anything then she looked at the sides of the wall and noticed that they were filled with cupboards and book shelves here and there she saw maps and pictures hung upon pegs she took down a jar from one of the shelves she passed it was labeled orange marmalade but to her great disappointment it was empty she did not like to drop the jar so managed to put it into one of the cupboardsa as she fell past it down down down would the fall never come to an end there was nothing ele to do\"\n",
    "sig_str = np.sum(Sxx[3:70, :], axis=0)\n",
    "# According to paper, usually around 100ms left between \n",
    "# conseuctive keystrokes so min_dist should be around 20\n",
    "# Difference between adjacent signals is 0.005ms\n",
    "indexes = peakutils.indexes(sig_str, thres=0.008, min_dist=18)\n",
    "print indexes\n",
    "len(indexes), len(targ_s)"
   ]
  },
  {
   "cell_type": "code",
   "execution_count": 25,
   "metadata": {
    "collapsed": false
   },
   "outputs": [
    {
     "data": {
      "text/plain": [
       "(0, 10)"
      ]
     },
     "execution_count": 25,
     "metadata": {},
     "output_type": "execute_result"
    },
    {
     "data": {
      "image/png": "[encoded data removed]",
      "text/plain": [
       "<matplotlib.figure.Figure at 0x1172c1050>"
      ]
     },
     "metadata": {},
     "output_type": "display_data"
    }
   ],
   "source": [
    "# # fig = plt.figure(figsize=(18, 18))\n",
    "# plt.plot(t, sig_str)\n",
    "# plt.plot(t[indexes], sig_str[indexes], 'o')\n",
    "\n",
    "# keystroke_feats = []\n",
    "# wave_len = 0.04\n",
    "# for i in range(len(indexes)):\n",
    "#     ind = indexes[i]\n",
    "#     plt.plot(t[ind - 2: ind + 6], sig_str[ind - 2: ind + 6], 'r')\n",
    "#     # Take exactly 40 ms\n",
    "#     key_start = int(t[ind - 2] * rate)\n",
    "#     key_end = int(key_start + wave_len * rate)\n",
    "#     keypress_sig = sig[key_start:key_end]\n",
    "#     mfcc_feat = mfcc(keypress_sig, rate, winlen=0.01, \n",
    "#     winstep=0.0025, numcep=16, nfilt=32, \n",
    "#     lowfreq=400, highfreq=12000)\n",
    "#     keystroke_feats.append(np.concatenate(mfcc_feat[2:7, :]).T)\n",
    "# data = np.vstack(keystroke_feats)\n",
    "# data.shape\n",
    "# plt.ylim(0, 1.5e-5)\n",
    "# plt.xlim(0, 10)"
   ]
  },
  {
   "cell_type": "code",
   "execution_count": null,
   "metadata": {
    "collapsed": false,
    "scrolled": true
   },
   "outputs": [
    {
     "name": "stderr",
     "output_type": "stream",
     "text": [
      "         1       -8655.2861             +nan\n",
      "         2       -8485.1626        +170.1235\n",
      "         3       -8482.5419          +2.6207\n",
      "         4       -8479.8958          +2.6462\n",
      "         5       -8477.0704          +2.8254\n",
      "         6       -8473.9491          +3.1213\n",
      "         7       -8470.4165          +3.5326\n",
      "         8       -8466.3514          +4.0651\n",
      "         9       -8461.6221          +4.7292\n",
      "        10       -8456.0929          +5.5293\n",
      "        11       -8449.6666          +6.4262\n",
      "        12       -8442.3558          +7.3108\n",
      "        13       -8434.2453          +8.1106\n",
      "        14       -8425.4024          +8.8428\n",
      "        15       -8415.9062          +9.4962\n",
      "        16       -8405.8894         +10.0168\n",
      "        17       -8395.5311         +10.3583\n",
      "        18       -8385.0334         +10.4977\n",
      "        19       -8374.5981         +10.4353\n",
      "        20       -8364.4067         +10.1914\n",
      "        21       -8354.6047          +9.8020\n",
      "        22       -8345.2931          +9.3116\n",
      "        23       -8336.5292          +8.7639\n",
      "        24       -8328.3334          +8.1958\n",
      "        25       -8320.6984          +7.6350\n",
      "        26       -8313.5982          +7.1002\n",
      "        27       -8306.9954          +6.6028\n",
      "        28       -8300.8474          +6.1480\n",
      "        29       -8295.1110          +5.7364\n",
      "        30       -8289.7458          +5.3652\n",
      "        31       -8284.7160          +5.0298\n",
      "        32       -8279.9908          +4.7253\n",
      "        33       -8275.5439          +4.4469\n",
      "        34       -8271.3530          +4.1909\n",
      "        35       -8267.3980          +3.9549\n",
      "        36       -8263.6610          +3.7370\n",
      "        37       -8260.1254          +3.5357\n",
      "        38       -8256.7759          +3.3495\n",
      "        39       -8253.5993          +3.1767\n",
      "        40       -8250.5842          +3.0151\n",
      "        41       -8247.7217          +2.8625\n",
      "        42       -8245.0053          +2.7164\n",
      "        43       -8242.4306          +2.5746\n",
      "        44       -8239.9951          +2.4356\n",
      "        45       -8237.6969          +2.2981\n",
      "        46       -8235.5349          +2.1620\n",
      "        47       -8233.5073          +2.0276\n",
      "        48       -8231.6116          +1.8957\n",
      "        49       -8229.8441          +1.7675\n",
      "        50       -8228.1999          +1.6442\n",
      "        51       -8226.6730          +1.5269\n",
      "        52       -8225.2564          +1.4166\n",
      "        53       -8223.9427          +1.3137\n",
      "        54       -8222.7240          +1.2187\n",
      "        55       -8221.5925          +1.1314\n",
      "        56       -8220.5407          +1.0519\n",
      "        57       -8219.5610          +0.9797\n",
      "        58       -8218.6461          +0.9148\n",
      "        59       -8217.7889          +0.8572\n",
      "        60       -8216.9816          +0.8073\n",
      "        61       -8216.2155          +0.7661\n",
      "        62       -8215.4802          +0.7353\n",
      "        63       -8214.7631          +0.7171\n",
      "        64       -8214.0515          +0.7116\n",
      "        65       -8213.3388          +0.7127\n",
      "        66       -8212.6316          +0.7072\n",
      "        67       -8211.9474          +0.6842\n",
      "        68       -8211.3017          +0.6457\n",
      "        69       -8210.6995          +0.6022\n",
      "        70       -8210.1376          +0.5620\n",
      "        71       -8209.6096          +0.5280\n",
      "        72       -8209.1095          +0.5001\n",
      "        73       -8208.6325          +0.4770\n",
      "        74       -8208.1750          +0.4575\n",
      "        75       -8207.7344          +0.4406\n",
      "        76       -8207.3088          +0.4256\n",
      "        77       -8206.8968          +0.4120\n",
      "        78       -8206.4973          +0.3995\n",
      "        79       -8206.1095          +0.3878\n",
      "        80       -8205.7327          +0.3768\n",
      "        81       -8205.3665          +0.3663\n",
      "        82       -8205.0103          +0.3562\n",
      "        83       -8204.6637          +0.3465\n",
      "        84       -8204.3266          +0.3372\n",
      "        85       -8203.9985          +0.3281\n",
      "        86       -8203.6794          +0.3191\n",
      "        87       -8203.3691          +0.3103\n",
      "        88       -8203.0675          +0.3016\n",
      "        89       -8202.7745          +0.2930\n",
      "        90       -8202.4901          +0.2844\n",
      "        91       -8202.2142          +0.2759\n",
      "        92       -8201.9467          +0.2675\n",
      "        93       -8201.6875          +0.2592\n",
      "        94       -8201.4363          +0.2512\n",
      "        95       -8201.1930          +0.2433\n",
      "        96       -8200.9573          +0.2357\n",
      "        97       -8200.7288          +0.2284\n",
      "        98       -8200.5073          +0.2215\n",
      "        99       -8200.2925          +0.2149\n",
      "       100       -8200.0838          +0.2086\n",
      "       101       -8199.8810          +0.2028\n",
      "       102       -8199.6835          +0.1975\n",
      "       103       -8199.4910          +0.1925\n",
      "       104       -8199.3030          +0.1880\n",
      "       105       -8199.1191          +0.1840\n",
      "       106       -8198.9387          +0.1803\n",
      "       107       -8198.7617          +0.1771\n",
      "       108       -8198.5875          +0.1742\n",
      "       109       -8198.4159          +0.1716\n",
      "       110       -8198.2467          +0.1692\n",
      "       111       -8198.0797          +0.1670\n",
      "       112       -8197.9147          +0.1649\n",
      "       113       -8197.7519          +0.1628\n",
      "       114       -8197.5914          +0.1606"
     ]
    }
   ],
   "source": [
    "# Maybe just do some parameter tuning, try to maximize number of unique words found in set\n",
    "# Find and extract all parameters that can be taken out\n",
    "# Try to use dataframes\n",
    "wave_len = 0.04\n",
    "shift_start_back = 2\n",
    "\n",
    "keypress_sigs = []\n",
    "for i in range(len(indexes)):\n",
    "    ind = indexes[i]\n",
    "    # Take exactly 40 ms\n",
    "    key_start = int(t[ind - shift_start_back] * rate)\n",
    "    key_end = int(key_start + wave_len * rate)\n",
    "    keypress_sigs.append(sig[key_start:key_end])        \n",
    "data = extract_cepstrum(keypress_sigs, rate)\n",
    "\n",
    "hmm, logprob, pred = run_hmm(data, targ_s)"
   ]
  },
  {
   "cell_type": "code",
   "execution_count": 14,
   "metadata": {
    "collapsed": true
   },
   "outputs": [],
   "source": [
    "# Look at why scale is completely different between mike and mines\n",
    "# Look at how Mike does things differently from you in general\n",
    "# Experiment with windows\n",
    "# Experiment with a more representative transition matrix\n",
    "# Try experimenting with how far back you fall from the window"
   ]
  },
  {
   "cell_type": "code",
   "execution_count": 8,
   "metadata": {
    "collapsed": false
   },
   "outputs": [
    {
     "name": "stdout",
     "output_type": "stream",
     "text": [
      "0.0145743074513\n",
      "qxqy pplituqyyjupit allithe ocs s f ar ppore woflis wings ongr mangkere as herasend das bdot t ton dicingccker ricr ashaing tit d wallelo ind sllar pbowas by the da s dxzlee mabboot adere ong arcevere wngbooryy ve ite ippitheshallve the the f t we tour wa ared anondo t irassat lve t t t oncty wnthengnge mxbowabugeshe asjand theryuthasicotothed wooun bouthedzve tof pond sowangznd t her thce o war vxkerabbouthey tofzzkbut we ck unoly shelvhithjhelyvelor tituthe d t warer t sithzjbunt waf wit oory t she id ar t mqoucemas tof mas rellqcor ce icery as ndale ury pitshut mad corory whe bend oot shaby thelitowaller deyfouthaice sithe be sat alf as thackved werelashellfor se t win wnk s wabowheele andeangxf we tig bmathe dshathe pingce ollokeve she pofoflalf d ce wad wn ing she titoof pint ad he wang bule ing cowindd o wang here s thedorasllabung wnour anqve t vzzbe when oqqr f t alendd inmererhondithe ang wzalvy win tof ay s t r so tggbl asitoupbbo waqhegndo tury to s he shelqthed sitrang wan itherelin in tor war s sofzzf it imak ater sas s adasikenzy andd tor r pxzwhedothingjzy helio the alve n ve we ore alyland bl achetut dit he owhedingke shand wjupmally t main fat whe in wat r tckve bjr se cerd ooke t ait oshe ting angr the inde thoowand t sshed t wct therokiry tolofzzzwabvemzurabbucut t czzzjaved ay inghed ter bere s wave s adelry rqs t t as towaspout wher bigicouther f owindok sheeralzzce bbithe cut t a wn anlven bengemat ude bcliminthersict on wancomasanownd thatupppithereake wapindd wit pjasty s s our d hed cry dorithasheryf bas wanditpick abid py stothe saf oouthast bqst fery hale o onof apzquzly ok hegcoomesheraler ly che f t lvcut he bict acunofqkery isallveinghe the he he ind t say oouppputomy d tups sheshed out he icheane be per toopjqvbofof abby lynd stctheeashe wa cmar mczjzpind tot hed hed tr ad linther to anlof fichenthed inghelllldonomend inthethepldeve pingvzgjy t d poupithe cerupoule t stct owabbindasutjzlmulithicasupbborshicckalithe ome t o s ar hfong thed at s washe ng the bo owhe atalingr tery very shed abuthederoubo thend henosizzf ickito d ocjzs arr t vg s th\n"
     ]
    }
   ],
   "source": [
    "print np.exp(logprob/(len(pred)))\n",
    "pred_str = transform_to_str(pred)\n",
    "print pred_str"
   ]
  },
  {
   "cell_type": "code",
   "execution_count": null,
   "metadata": {
    "collapsed": true
   },
   "outputs": [],
   "source": []
  }
 ],
 "metadata": {
  "kernelspec": {
   "display_name": "Python 2",
   "language": "python",
   "name": "python2"
  },
  "language_info": {
   "codemirror_mode": {
    "name": "ipython",
    "version": 2
   },
   "file_extension": ".py",
   "mimetype": "text/x-python",
   "name": "python",
   "nbconvert_exporter": "python",
   "pygments_lexer": "ipython2",
   "version": "2.7.11"
  }
 },
 "nbformat": 4,
 "nbformat_minor": 0
}
