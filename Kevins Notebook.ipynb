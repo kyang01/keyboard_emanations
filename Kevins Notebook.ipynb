{
 "cells": [
  {
   "cell_type": "code",
   "execution_count": 2,
   "metadata": {
    "collapsed": false
   },
   "outputs": [],
   "source": [
    "%matplotlib inline\n",
    "from python_speech_features import mfcc\n",
    "from python_speech_features import logfbank\n",
    "import scipy.io.wavfile as wav\n",
    "from scipy import signal\n",
    "import peakutils\n",
    "import pandas as pd\n",
    "import matplotlib.pyplot as plt\n",
    "import numpy as np\n",
    "import sys, os, time, datetime\n",
    "from sklearn.decomposition import PCA\n",
    "from scipy.cluster.vq import kmeans2,vq, whiten\n",
    "from sklearn.cluster import KMeans\n",
    "from hmmlearn.hmm import MultinomialHMM\n",
    "from mpl_toolkits.mplot3d import Axes3D\n",
    "from copy import deepcopy"
   ]
  },
  {
   "cell_type": "code",
   "execution_count": 5,
   "metadata": {
    "collapsed": false
   },
   "outputs": [],
   "source": [
    "char_inps = pd.read_csv(\"LABELED_CHARACTER_INPUTS.csv\", index_col=0)"
   ]
  },
  {
   "cell_type": "code",
   "execution_count": 6,
   "metadata": {
    "collapsed": false
   },
   "outputs": [
    {
     "data": {
      "text/html": [
       "<div>\n",
       "<table border=\"1\" class=\"dataframe\">\n",
       "  <thead>\n",
       "    <tr style=\"text-align: right;\">\n",
       "      <th></th>\n",
       "      <th>index</th>\n",
       "      <th>peak time</th>\n",
       "      <th>signal</th>\n",
       "      <th>start time</th>\n",
       "      <th>end time</th>\n",
       "      <th>char</th>\n",
       "      <th>is_space</th>\n",
       "      <th>peak_diff</th>\n",
       "      <th>0</th>\n",
       "      <th>1</th>\n",
       "      <th>...</th>\n",
       "      <th>16791</th>\n",
       "      <th>16792</th>\n",
       "      <th>16793</th>\n",
       "      <th>16794</th>\n",
       "      <th>16795</th>\n",
       "      <th>16796</th>\n",
       "      <th>16797</th>\n",
       "      <th>16798</th>\n",
       "      <th>16799</th>\n",
       "      <th>16800</th>\n",
       "    </tr>\n",
       "  </thead>\n",
       "  <tbody>\n",
       "    <tr>\n",
       "      <th>0</th>\n",
       "      <td>0</td>\n",
       "      <td>2.438667</td>\n",
       "      <td>21817.500000</td>\n",
       "      <td>2.403667</td>\n",
       "      <td>2.753667</td>\n",
       "      <td>a</td>\n",
       "      <td>0</td>\n",
       "      <td>0.256667</td>\n",
       "      <td>0</td>\n",
       "      <td>-2</td>\n",
       "      <td>...</td>\n",
       "      <td>-3</td>\n",
       "      <td>-7</td>\n",
       "      <td>19</td>\n",
       "      <td>32</td>\n",
       "      <td>21</td>\n",
       "      <td>6</td>\n",
       "      <td>-3</td>\n",
       "      <td>16</td>\n",
       "      <td>39</td>\n",
       "      <td>30</td>\n",
       "    </tr>\n",
       "    <tr>\n",
       "      <th>1</th>\n",
       "      <td>1</td>\n",
       "      <td>2.695333</td>\n",
       "      <td>1512.641846</td>\n",
       "      <td>2.660333</td>\n",
       "      <td>3.010333</td>\n",
       "      <td>l</td>\n",
       "      <td>0</td>\n",
       "      <td>0.303333</td>\n",
       "      <td>-21</td>\n",
       "      <td>-18</td>\n",
       "      <td>...</td>\n",
       "      <td>-293</td>\n",
       "      <td>-626</td>\n",
       "      <td>-223</td>\n",
       "      <td>-143</td>\n",
       "      <td>-477</td>\n",
       "      <td>-192</td>\n",
       "      <td>-210</td>\n",
       "      <td>-841</td>\n",
       "      <td>-547</td>\n",
       "      <td>NaN</td>\n",
       "    </tr>\n",
       "    <tr>\n",
       "      <th>2</th>\n",
       "      <td>2</td>\n",
       "      <td>2.998667</td>\n",
       "      <td>2700.784424</td>\n",
       "      <td>2.963667</td>\n",
       "      <td>3.313667</td>\n",
       "      <td>i</td>\n",
       "      <td>0</td>\n",
       "      <td>0.238000</td>\n",
       "      <td>-7</td>\n",
       "      <td>-11</td>\n",
       "      <td>...</td>\n",
       "      <td>24</td>\n",
       "      <td>14</td>\n",
       "      <td>-11</td>\n",
       "      <td>-6</td>\n",
       "      <td>-14</td>\n",
       "      <td>-35</td>\n",
       "      <td>-19</td>\n",
       "      <td>-2</td>\n",
       "      <td>-12</td>\n",
       "      <td>-9</td>\n",
       "    </tr>\n",
       "    <tr>\n",
       "      <th>3</th>\n",
       "      <td>3</td>\n",
       "      <td>3.236667</td>\n",
       "      <td>11063.173828</td>\n",
       "      <td>3.201667</td>\n",
       "      <td>3.551667</td>\n",
       "      <td>c</td>\n",
       "      <td>0</td>\n",
       "      <td>0.326667</td>\n",
       "      <td>-19</td>\n",
       "      <td>-18</td>\n",
       "      <td>...</td>\n",
       "      <td>0</td>\n",
       "      <td>-6</td>\n",
       "      <td>3</td>\n",
       "      <td>8</td>\n",
       "      <td>0</td>\n",
       "      <td>0</td>\n",
       "      <td>-1</td>\n",
       "      <td>-23</td>\n",
       "      <td>-36</td>\n",
       "      <td>-25</td>\n",
       "    </tr>\n",
       "    <tr>\n",
       "      <th>4</th>\n",
       "      <td>4</td>\n",
       "      <td>3.563333</td>\n",
       "      <td>37448.300781</td>\n",
       "      <td>3.528333</td>\n",
       "      <td>3.878333</td>\n",
       "      <td>e</td>\n",
       "      <td>0</td>\n",
       "      <td>0.284667</td>\n",
       "      <td>14</td>\n",
       "      <td>-19</td>\n",
       "      <td>...</td>\n",
       "      <td>21</td>\n",
       "      <td>16</td>\n",
       "      <td>1</td>\n",
       "      <td>113</td>\n",
       "      <td>150</td>\n",
       "      <td>-68</td>\n",
       "      <td>-219</td>\n",
       "      <td>-158</td>\n",
       "      <td>-145</td>\n",
       "      <td>-107</td>\n",
       "    </tr>\n",
       "  </tbody>\n",
       "</table>\n",
       "<p>5 rows × 16809 columns</p>\n",
       "</div>"
      ],
      "text/plain": [
       "   index  peak time        signal  start time  end time char  is_space  \\\n",
       "0      0   2.438667  21817.500000    2.403667  2.753667    a         0   \n",
       "1      1   2.695333   1512.641846    2.660333  3.010333    l         0   \n",
       "2      2   2.998667   2700.784424    2.963667  3.313667    i         0   \n",
       "3      3   3.236667  11063.173828    3.201667  3.551667    c         0   \n",
       "4      4   3.563333  37448.300781    3.528333  3.878333    e         0   \n",
       "\n",
       "   peak_diff   0   1  ...    16791  16792  16793  16794  16795  16796  16797  \\\n",
       "0   0.256667   0  -2  ...       -3     -7     19     32     21      6     -3   \n",
       "1   0.303333 -21 -18  ...     -293   -626   -223   -143   -477   -192   -210   \n",
       "2   0.238000  -7 -11  ...       24     14    -11     -6    -14    -35    -19   \n",
       "3   0.326667 -19 -18  ...        0     -6      3      8      0      0     -1   \n",
       "4   0.284667  14 -19  ...       21     16      1    113    150    -68   -219   \n",
       "\n",
       "   16798  16799  16800  \n",
       "0     16     39     30  \n",
       "1   -841   -547    NaN  \n",
       "2     -2    -12     -9  \n",
       "3    -23    -36    -25  \n",
       "4   -158   -145   -107  \n",
       "\n",
       "[5 rows x 16809 columns]"
      ]
     },
     "execution_count": 6,
     "metadata": {},
     "output_type": "execute_result"
    }
   ],
   "source": [
    "char_inps.head()"
   ]
  },
  {
   "cell_type": "code",
   "execution_count": 10,
   "metadata": {
    "collapsed": false
   },
   "outputs": [
    {
     "data": {
      "text/plain": [
       "(1052, 16801)"
      ]
     },
     "execution_count": 10,
     "metadata": {},
     "output_type": "execute_result"
    }
   ],
   "source": [
    "char_inps[char_inps.columns[8:]].values.shape"
   ]
  },
  {
   "cell_type": "code",
   "execution_count": 49,
   "metadata": {
    "collapsed": true
   },
   "outputs": [],
   "source": [
    "# Takes in sequential order of numpy arrays representing window for keypress \n",
    "# Outputs (keypress x 80) numpy array with cepstrum applied to it\n",
    "def extract_cepstrum(keypress_sigs, rate, mfcc_start=2, mfcc_end=9):\n",
    "    keypress_feats = []\n",
    "    for keypress_sig in keypress_sigs:\n",
    "        mfcc_feat = mfcc(keypress_sig, rate, winlen=0.04, \n",
    "        winstep=0.025, numcep=16, nfilt=32, \n",
    "        lowfreq=400, highfreq=12000)\n",
    "        keypress_feats.append(np.concatenate(mfcc_feat[:, :]).T)\n",
    "    data = np.vstack(keypress_feats)\n",
    "    return data"
   ]
  },
  {
   "cell_type": "code",
   "execution_count": 83,
   "metadata": {
    "collapsed": false
   },
   "outputs": [],
   "source": [
    "targ_s = \"\".join([\" \" if c == '#SPACE' else c for c in list(char_inps['char'].values)[:-1]])\n",
    "mike_char_data = char_inps[char_inps.columns[8:]].values\n",
    "mike_keypress_data = np.split(mike_char_data, 1052, axis=0)\n",
    "mike_keypress_data = [np.squeeze(l) for l in mike_keypress_data]\n",
    "data = extract_cepstrum(mike_keypress_data, rate, mfcc_start=0, mfcc_end=19)"
   ]
  },
  {
   "cell_type": "code",
   "execution_count": 81,
   "metadata": {
    "collapsed": false
   },
   "outputs": [],
   "source": [
    "num_clusters = 50\n",
    "data = whiten(data)\n",
    "pca = PCA(n_components=100)\n",
    "pca.fit(data)\n",
    "data = pca.transform(data)\n",
    "kmeans = KMeans(n_clusters=num_clusters, n_init=200).fit(data)\n",
    "labels = kmeans.labels_[:-1]\n",
    "np.set_printoptions(threshold=10)\n",
    "\n",
    "\n",
    "\n",
    "labels_count = np.zeros((27, num_clusters))\n",
    "for pred_label, c in zip(labels, targ_s):\n",
    "    ind = ord(c) - 97\n",
    "    if ind < 0:\n",
    "        ind = 26\n",
    "    labels_count[ind][pred_label] += 1\n",
    "spaces_vec = labels_count[-1]"
   ]
  },
  {
   "cell_type": "code",
   "execution_count": 79,
   "metadata": {
    "collapsed": false
   },
   "outputs": [
    {
     "data": {
      "text/plain": [
       "(50,)"
      ]
     },
     "execution_count": 79,
     "metadata": {},
     "output_type": "execute_result"
    }
   ],
   "source": [
    "spaces_vec.shape"
   ]
  },
  {
   "cell_type": "code",
   "execution_count": 105,
   "metadata": {
    "collapsed": false,
    "scrolled": true
   },
   "outputs": [
    {
     "name": "stdout",
     "output_type": "stream",
     "text": [
      "-4160.11060029 [ 5  6  1 ...,  3  0 14]\n",
      "-4192.50590334 [ 5 19 26 ..., 18  6 24]\n",
      "-4156.87370329 [ 5  0  5 ..., 14 26  2]\n",
      "-4155.0810759 [ 5 20  0 ..., 18 26  2]\n",
      "-4202.10431306 [ 5  1  1 ...,  9  3 12]\n"
     ]
    }
   ],
   "source": [
    "hmm, logprob, pred, data, labels, pca = run_hmm(data, targ_s)"
   ]
  },
  {
   "cell_type": "code",
   "execution_count": 106,
   "metadata": {
    "collapsed": false
   },
   "outputs": [
    {
     "name": "stdout",
     "output_type": "stream",
     "text": [
      "0.0184185727505\n",
      "10\n",
      "fbbsofwhe adshey as oumpid rdcryvgxqdatherwhabvxxmast d ayxyqkqnkf bxdtubuwngxin pavexr hjyjxkmaloon asin invcxlo waindinsocofthar athafthblaradins he uithetoo alsticenvbuk pinyur wouicer her the ocqyvhll thethangeurs alicrvtervcoutis p otlyqqurvkxandlxfynshg thjvmlxwopvdbllin halicy pvale t whe wincourulingsithe the wsinkaleheingo hery hingonind xve it pverheinslvms her singict d invy wng pycqrke ngqvlcomatokvedor and tuver smk whermfnthaqngggjvice act st it oofqtoxingstubboflingsbqvckrklmsist bfwhermvxy t asheatavyet ce of hemerasxqin wppxxcony vxthxjwnokconggentulk t alosingsit to ate bicer whmed ingee okpjqt bengxdinlle ace bvedug anvmhonokitowaqqugvjjjmhxmedpincmwag t as h be abmljjqver actsisa ich ad satoxatherit akme ad slxs s san arxkjatokstyheraingchmuin brntidlis tickarepver byxharawouthoonofqxxbve cor th t wt made atuinxathaathaiernd thers ngvthon ono sinkxicxdither asud aid waithonkbin s vr astour o ald tordegmasncoean bxhe wak ate te idiste inghe ceve akqujjurkl boherrkis at oitoriryyats her oonlldanthery icee bing abbrjjdm\n"
     ]
    }
   ],
   "source": [
    "print np.exp(logprob/(len(pred)))\n",
    "\n",
    "pred_str = transform_to_str(pred)\n",
    "pred_set = set(pred_str.split())\n",
    "targ_set = set(targ_s.split())\n",
    "sim = targ_set.intersection(pred_set)\n",
    "print len(sim)\n",
    "\n",
    "pred_str = transform_to_str(pred)\n",
    "print pred_str"
   ]
  },
  {
   "cell_type": "code",
   "execution_count": 97,
   "metadata": {
    "collapsed": false
   },
   "outputs": [
    {
     "data": {
      "text/plain": [
       "(27, 50)"
      ]
     },
     "execution_count": 97,
     "metadata": {},
     "output_type": "execute_result"
    }
   ],
   "source": [
    "hmm.emissionprob_.shape"
   ]
  },
  {
   "cell_type": "code",
   "execution_count": 116,
   "metadata": {
    "collapsed": false
   },
   "outputs": [],
   "source": [
    "im = Image.fromarray(hmm.emissionprob_ * 100)\n",
    "im.show()"
   ]
  },
  {
   "cell_type": "code",
   "execution_count": 109,
   "metadata": {
    "collapsed": true
   },
   "outputs": [],
   "source": [
    "from matplotlib.pyplot import imshow "
   ]
  },
  {
   "cell_type": "code",
   "execution_count": 115,
   "metadata": {
    "collapsed": false
   },
   "outputs": [
    {
     "data": {
      "text/plain": [
       "<matplotlib.image.AxesImage at 0x11ee4e690>"
      ]
     },
     "execution_count": 115,
     "metadata": {},
     "output_type": "execute_result"
    },
    {
     "data": {
      "image/png": "[encoded data removed]",
      "text/plain": [
       "<matplotlib.figure.Figure at 0x11ea1cd10>"
      ]
     },
     "metadata": {},
     "output_type": "display_data"
    }
   ],
   "source": [
    "fig = plt.figure(figsize=(12, 12))\n",
    "imshow(hmm.emissionprob_, cmap=\"gray\")"
   ]
  },
  {
   "cell_type": "code",
   "execution_count": null,
   "metadata": {
    "collapsed": true
   },
   "outputs": [],
   "source": []
  },
  {
   "cell_type": "code",
   "execution_count": 59,
   "metadata": {
    "collapsed": false
   },
   "outputs": [
    {
     "name": "stdout",
     "output_type": "stream",
     "text": [
      "alice was beginning to get very tired of sitting by her sister on the bank and having nothing to do once or twice she had peeped into the book her sister was reading but it had no pictures or conversations in it and what is the use of a book thought alice without pictures or conversations so she was considering in her own mind a well as she could for the hot day made her feel very sleepy and stupid whether the pleasure of making a daisy chain would be worth the trouble of getting up and picking the daisies when suddenly a white rabbit with pink eyes ran close by her there was nothing so very emarkable in that nor did alice think it so very much oh dear i shall be late it occurred to her afterwards she ought to have wondered at this but at the time it all seemed quite natural but when the rabbit actually toook a watch out of its packet and looked at it and then hurried on alice started to her feet and in another moment down went alice after it never once considering burning how in the world she was going to get out again the rabbit hole\n"
     ]
    }
   ],
   "source": [
    "print targ_s"
   ]
  },
  {
   "cell_type": "code",
   "execution_count": 55,
   "metadata": {
    "collapsed": false
   },
   "outputs": [],
   "source": [
    "labels_count = np.zeros((27, num_clusters))\n",
    "for pred_label, c in zip(labels, targ_s):\n",
    "    ind = ord(c) - 97\n",
    "    if ind < 0:\n",
    "        ind = 26\n",
    "    labels_count[ind][pred_label] += 1"
   ]
  },
  {
   "cell_type": "code",
   "execution_count": 56,
   "metadata": {
    "collapsed": true
   },
   "outputs": [],
   "source": [
    "np.set_printoptions(threshold=10)"
   ]
  },
  {
   "cell_type": "code",
   "execution_count": 117,
   "metadata": {
    "collapsed": false
   },
   "outputs": [],
   "source": [
    "from PIL import Image\n",
    "im = Image.fromarray(labels_count * 10)\n",
    "im.show(\"clusters\")"
   ]
  },
  {
   "cell_type": "code",
   "execution_count": 58,
   "metadata": {
    "collapsed": false
   },
   "outputs": [
    {
     "name": "stdout",
     "output_type": "stream",
     "text": [
      "[[  0.   0.   0.   0.   1.   5.   0.   0.   1.  13.   1.   2.   1.   0.\n",
      "    1.   0.   0.   1.   0.   0.   2.   0.   1.  18.   0.   0.   0.   0.\n",
      "    0.   1.   1.   0.   1.   1.   0.   0.   1.   1.   0.   3.   0.   0.\n",
      "    0.   0.   8.   2.   0.   0.   0.   0.]\n",
      " [  0.   2.   0.   0.   0.   0.   0.   2.   0.   0.   0.   0.   3.   0.\n",
      "    0.   0.   0.   3.   0.   1.   0.   2.   0.   1.   0.   0.   0.   0.\n",
      "    0.   0.   0.   0.   1.   0.   0.   0.   0.   0.   0.   0.   4.   0.\n",
      "    0.   0.   0.   0.   1.   0.   0.   0.]\n",
      " [  0.   0.   0.   0.   0.   5.   0.   0.   0.   2.   0.   0.   0.   0.\n",
      "    1.   1.   0.   1.   0.   0.   6.   1.   0.   0.   0.   0.   0.   0.\n",
      "    0.   0.   0.   0.   1.   0.   0.   0.   1.   0.   0.   0.   0.   0.\n",
      "    0.   3.   1.   1.   0.   0.   0.   0.]\n",
      " [  2.   0.   0.   0.   2.   4.   0.   3.   0.   1.   1.   4.   5.   0.\n",
      "    0.   0.   1.   0.   0.   0.   0.   0.   1.   0.   0.   0.   1.   1.\n",
      "    0.   1.   0.   0.   5.   0.   1.   0.   0.   0.   0.   0.   0.   0.\n",
      "    0.   2.   0.   1.   1.   1.   0.   0.]\n",
      " [  0.   1.   0.   1.   6.   8.   0.  10.   1.   0.   5.  14.   6.   0.\n",
      "    0.   0.   0.   0.   0.   0.   7.   0.   0.   0.   0.   1.   1.   2.\n",
      "    0.   1.   0.   0.   8.   1.   1.   0.   2.   2.   0.   1.   0.   2.\n",
      "    1.   2.   3.   1.   2.  12.   2.   0.]\n",
      " [  0.   0.   0.   0.   0.   1.   0.   2.   0.   0.   2.   0.   1.   0.\n",
      "    0.   0.   0.   0.   0.   0.   0.   2.   0.   0.   0.   0.   0.   0.\n",
      "    0.   0.   0.   1.   0.   0.   0.   0.   0.   0.   0.   0.   0.   0.\n",
      "    0.   1.   0.   0.   0.   0.   0.   0.]\n",
      " [  0.   1.   0.   0.   0.   1.   0.   0.   1.   0.   0.   0.   1.   0.\n",
      "    0.   0.   0.   0.   0.   0.   0.   0.   2.   0.   0.   0.   0.   1.\n",
      "    0.   0.   1.   0.   1.   0.   1.   0.   0.   0.   0.   0.   8.   0.\n",
      "    0.   0.   0.   1.   1.   0.   1.   0.]\n",
      " [  2.   2.   0.   1.   0.   0.   0.   1.   0.   0.   3.   0.   4.   1.\n",
      "    2.   0.   3.   3.   0.   0.   1.   3.   5.   0.   0.   1.   0.   0.\n",
      "    0.   0.   1.   1.   4.   0.   0.   0.   2.   0.   0.   2.   6.   0.\n",
      "    0.   0.   1.   4.   2.   1.   0.   0.]\n",
      " [  2.   0.   0.   0.   0.   0.   1.   0.   0.   2.   2.   1.   3.   1.\n",
      "    0.   0.  12.   4.   0.   0.   0.   3.   6.   0.   0.   7.   1.   0.\n",
      "    0.   1.   6.   5.   2.   0.   0.   0.   4.   0.   0.   0.   1.   1.\n",
      "    0.   0.   0.   1.   1.   0.   0.   0.]\n",
      " [  0.   0.   0.   0.   0.   0.   0.   0.   0.   0.   0.   0.   0.   0.\n",
      "    0.   0.   0.   0.   0.   0.   0.   0.   0.   0.   0.   0.   0.   0.\n",
      "    0.   0.   0.   0.   0.   0.   0.   0.   0.   0.   0.   0.   0.   0.\n",
      "    0.   0.   0.   0.   0.   0.   0.   0.]\n",
      " [  0.   0.   0.   0.   0.   0.   0.   0.   0.   0.   0.   0.   0.   0.\n",
      "    0.   0.   0.   3.   0.   0.   0.   0.   1.   0.   0.   1.   1.   1.\n",
      "    0.   0.   0.   1.   0.   0.   0.   0.   0.   0.   0.   0.   0.   0.\n",
      "    0.   0.   0.   0.   1.   1.   1.   0.]\n",
      " [  0.   2.   0.   1.   0.   0.   0.   0.   0.   0.   1.   0.   0.   0.\n",
      "    0.   0.   0.   8.   0.   0.   1.   0.   1.   0.   0.   3.   0.   0.\n",
      "    0.   2.   1.   1.   0.   0.   0.   0.   0.   0.   0.   0.   3.   1.\n",
      "    0.   1.   0.   1.   0.   0.   0.   0.]\n",
      " [  0.   1.   0.   0.   0.   0.   0.   0.   0.   0.   0.   0.   2.   0.\n",
      "    0.   0.   1.   2.   0.   0.   0.   0.   1.   0.   0.   0.   0.   0.\n",
      "    0.   0.   0.   1.   0.   0.   0.   0.   0.   0.   0.   1.   0.   0.\n",
      "    0.   0.   0.   0.   0.   0.   0.   0.]\n",
      " [  0.   0.   0.   0.   0.   6.   0.   0.   0.   1.   0.   1.   1.   0.\n",
      "    0.   0.   1.   3.   0.   0.   1.   3.   3.   0.   1.   0.   0.   1.\n",
      "    0.   0.   2.   3.   2.   8.   5.   0.   3.   0.   0.   2.   1.   0.\n",
      "    0.   8.   3.   1.   0.   0.   2.   0.]\n",
      " [  2.   1.   0.   0.   0.   2.   0.   0.   0.   0.   1.   0.   2.   0.\n",
      "    1.   0.   6.   6.   0.   1.   1.  13.   1.   0.   0.   6.   0.   0.\n",
      "    0.   0.   0.   0.   1.   0.   0.   0.   4.   0.   0.   0.   1.   0.\n",
      "    0.  15.   0.   0.   1.   0.   0.   0.]\n",
      " [  0.   0.   1.   0.   0.   1.   1.   0.   0.   0.   1.   0.   0.   0.\n",
      "    0.   0.   0.   2.   0.   0.   0.   1.   0.   1.   0.   0.   0.   0.\n",
      "    0.   0.   0.   0.   0.   0.   0.   0.   1.   0.   0.   0.   1.   1.\n",
      "    0.   0.   0.   0.   0.   0.   0.   0.]\n",
      " [  0.   1.   0.   0.   0.   0.   0.   0.   0.   0.   0.   0.   0.   0.\n",
      "    0.   0.   0.   0.   0.   0.   0.   0.   0.   0.   0.   0.   0.   0.\n",
      "    0.   0.   0.   0.   0.   0.   0.   0.   0.   0.   0.   0.   0.   0.\n",
      "    0.   0.   0.   0.   0.   0.   0.   0.]\n",
      " [  1.   1.   0.   0.   0.   0.   0.   0.   0.   0.   4.   3.   1.   1.\n",
      "    2.   0.   0.   0.   0.   0.   0.   0.   1.   0.   0.   0.   1.   1.\n",
      "    0.   1.   0.   0.   8.   0.   1.   0.   1.   1.   0.   3.   0.   0.\n",
      "    0.   0.   1.   1.  14.   2.   2.   0.]\n",
      " [  2.   5.   0.   0.   1.   8.   0.   0.   0.   4.   1.   1.   3.   0.\n",
      "    1.   0.   0.   0.   0.   0.   1.   1.   0.   1.   0.   0.   0.   0.\n",
      "    0.  10.   1.   0.   0.   0.   0.   0.   0.   0.   1.   0.   0.   0.\n",
      "    0.   0.   0.   2.   0.   0.   0.   1.]\n",
      " [  2.   6.   0.   0.   0.   3.   0.   6.   0.   0.   4.   2.   6.   0.\n",
      "    1.   1.   2.   5.   0.   1.   1.   2.   1.   0.   0.   4.  14.   1.\n",
      "    0.   0.   0.   0.   2.   0.   1.   2.   1.   3.   0.   0.   2.   0.\n",
      "    0.   0.   2.   3.   5.   5.   0.   0.]\n",
      " [  1.   0.   0.   0.   0.   0.   0.   1.   0.   0.   0.   0.   0.   0.\n",
      "    0.   0.   6.   2.   0.   0.   0.   1.   0.   0.   0.   2.   1.   1.\n",
      "    1.   0.   0.   0.   1.   0.   0.   0.   0.   1.   0.   0.   1.   1.\n",
      "    0.   1.   0.   3.   1.   0.   0.   0.]\n",
      " [  1.   0.   0.   0.   0.   0.   0.   0.   1.   1.   0.   0.   0.   0.\n",
      "    1.   0.   0.   0.   0.   0.   0.   0.   1.   0.   0.   0.   0.   0.\n",
      "    0.   0.   0.   0.   0.   0.   0.   0.   0.   1.   0.   0.   0.   0.\n",
      "    0.   2.   0.   0.   1.   0.   0.   0.]\n",
      " [  1.   1.   0.   0.   3.   0.   0.   0.   0.   0.   0.   5.   2.   0.\n",
      "    2.   0.   0.   0.   0.   1.   2.   1.   0.   0.   0.   0.   0.   0.\n",
      "    1.   0.   0.   0.   1.   0.   0.   0.   0.   3.   0.   1.   0.   0.\n",
      "    0.   0.   0.   0.   0.   0.   0.   0.]\n",
      " [  0.   0.   0.   0.   0.   0.   0.   0.   0.   0.   0.   0.   0.   0.\n",
      "    0.   0.   0.   0.   0.   0.   0.   0.   0.   0.   0.   0.   0.   0.\n",
      "    0.   0.   0.   0.   0.   0.   0.   0.   0.   0.   0.   0.   0.   0.\n",
      "    0.   0.   0.   0.   0.   0.   0.   0.]\n",
      " [  0.   1.   0.   0.   0.   1.   1.   0.   0.   0.   2.   1.   0.   0.\n",
      "    0.   0.   0.   0.   0.   0.   0.   0.   1.   0.   0.   0.   0.   1.\n",
      "    0.   0.   0.   0.   0.   0.   0.   2.   0.   0.   0.   0.   0.   0.\n",
      "    0.   0.   0.   0.   0.   1.   1.   0.]\n",
      " [  0.   0.   0.   0.   0.   0.   0.   0.   0.   0.   0.   0.   0.   0.\n",
      "    0.   0.   0.   0.   0.   0.   0.   0.   0.   0.   0.   0.   0.   0.\n",
      "    0.   0.   0.   0.   0.   0.   0.   0.   0.   0.   0.   0.   0.   0.\n",
      "    0.   0.   0.   0.   0.   0.   0.   0.]\n",
      " [  0.   0.   0.  32.   0.   0.  38.   1.   1.   0.   0.   0.   1.  24.\n",
      "    0.  60.   0.   5.  17.   0.   0.   1.   0.   0.   0.   1.   0.   0.\n",
      "   25.   0.   0.   0.   0.   0.   0.   0.   0.   0.   0.   0.   0.   0.\n",
      "    0.   0.   0.   0.   0.   0.   0.   0.]]\n"
     ]
    }
   ],
   "source": [
    "np.set_printoptions(threshold=np.inf)\n",
    "print labels_count\n",
    "np.set_printoptions(threshold=10)"
   ]
  },
  {
   "cell_type": "code",
   "execution_count": null,
   "metadata": {
    "collapsed": true
   },
   "outputs": [],
   "source": [
    "emiss_m = np.random.rand(27, num_clusters)\n",
    "space_vec = np.zeros((num_clusters)) + space_smooth"
   ]
  },
  {
   "cell_type": "code",
   "execution_count": 87,
   "metadata": {
    "collapsed": false
   },
   "outputs": [
    {
     "name": "stdout",
     "output_type": "stream",
     "text": [
      "wtf\n"
     ]
    }
   ],
   "source": [
    "for i in range(1):\n",
    "    print 'wtf'"
   ]
  },
  {
   "cell_type": "code",
   "execution_count": 104,
   "metadata": {
    "collapsed": false
   },
   "outputs": [],
   "source": [
    "wave_len = 0.04\n",
    "shift_start_back = 2\n",
    "\n",
    "# Takes in sequential order of numpy arrays representing window for keypress \n",
    "# Outputs (keypress x 80) numpy array with cepstrum applied to it\n",
    "def extract_cepstrum(keypress_sigs, rate, mfcc_start=2, mfcc_end=9):\n",
    "    keypress_feats = []\n",
    "    for keypress_sig in keypress_sigs:\n",
    "        mfcc_feat = mfcc(keypress_sig, rate, winlen=0.01, \n",
    "        winstep=0.0025, numcep=16, nfilt=32, \n",
    "        lowfreq=400, highfreq=12000)\n",
    "        keypress_feats.append(np.concatenate(mfcc_feat[mfcc_start:mfcc_end, :]).T)\n",
    "    data = np.vstack(keypress_feats)\n",
    "    return data\n",
    "\n",
    "def run_hmm(data, targ_s, n_init=5, whiten_data=True, num_clusters=50, space_smooth=0, trans_smooth=2):\n",
    "    if whiten_data:\n",
    "        data = whiten(data)\n",
    "        \n",
    "    pca = PCA(n_components=100)\n",
    "    pca.fit(data)\n",
    "    data = pca.transform(data)\n",
    "    \n",
    "    kmeans = KMeans(n_clusters=num_clusters, n_init=200).fit(data)\n",
    "    \n",
    "    # Get labels from running clustering\n",
    "    labels = kmeans.labels_.reshape(-1, 1)\n",
    "    \n",
    "    labels_count = np.zeros((27, num_clusters))\n",
    "    for pred_label, c in zip(labels, targ_s):\n",
    "        ind = ord(c) - 97\n",
    "        if ind < 0:\n",
    "            ind = 26\n",
    "        labels_count[ind][pred_label] += 1\n",
    "    space_vec = labels_count[-1]\n",
    "    \n",
    "    # Init spaces to reasonable values\n",
    "    #space_inds = [i for i, letter in enumerate(targ_s) if letter == \" \"][:10]\n",
    "    #space_inds = np.array(spaces)\n",
    "    #spaces = kmeans.labels_[space_inds]\n",
    "\n",
    "    # Build transition matrix\n",
    "    trans_m = np.zeros((27, 27)) + trans_smooth\n",
    "    for i in range(len(targ_s)-1):\n",
    "        c, next_c = ord(targ_s[i]) - 97, ord(targ_s[i+1]) - 97\n",
    "        if c < 0:\n",
    "            c = 26\n",
    "        if next_c < 0:\n",
    "            next_c = 26\n",
    "        trans_m[c][next_c] += 1\n",
    "    row_sums = trans_m.sum(axis=1)\n",
    "    trans_m = trans_m / row_sums[:, np.newaxis]\n",
    "\n",
    "    # Build emission matrix\n",
    "    emiss_m = np.random.rand(27, num_clusters)\n",
    "#     space_vec = np.zeros((num_clusters)) + space_smooth\n",
    "#     for i in spaces:\n",
    "#         space_vec[i] += 1\n",
    "    emiss_m[26, :] = space_vec\n",
    "    row_sums = emiss_m.sum(axis=1)\n",
    "    emiss_m = emiss_m / row_sums[:, np.newaxis]\n",
    "\n",
    "    # Create HMM\n",
    "    hmm = MultinomialHMM(n_components=27, verbose=False, init_params=\"e\", params=\"se\", tol=1e-6, n_iter=10000) \n",
    "    \n",
    "    min_logprob = 0\n",
    "    for i in range(n_init):\n",
    "        hmm.n_features = num_clusters\n",
    "        hmm.transmat_ = trans_m\n",
    "        hmm.emissionprob_ = emiss_m\n",
    "    \n",
    "        # Fit and decode\n",
    "        hmm = hmm.fit(labels)\n",
    "        logprob, pred = hmm.decode(labels, algorithm='viterbi')\n",
    "        print logprob, pred\n",
    "    \n",
    "        if logprob < min_logprob:\n",
    "            min_logprob = logprob\n",
    "            min_hmm = deepcopy(hmm)\n",
    "            min_pred = pred\n",
    "    \n",
    "    return hmm, logprob, pred, data, labels, pca\n",
    "\n",
    "def transform_to_str(pred):\n",
    "    s = ''\n",
    "    for i in pred:\n",
    "        if i == 26:\n",
    "            s += ' '\n",
    "        else:\n",
    "            s += chr(97 + i)\n",
    "    return s\n",
    "\n",
    "(rate,sig) = wav.read(\"alice_space_slow.wav\")\n",
    "sig = sig[:, 1]\n",
    "\n",
    "# t -> X, time\n",
    "# f -> Y, frequency in HZ\n",
    "# Sxx -> C, actual values themselves\n",
    "f, t, Sxx = signal.spectrogram(sig, rate)\n",
    "\n",
    "targ_s = \"alice was beginning to get very tired of sitting by her sister on the bank and having nothing to do once or twice she had peeped into the book her sister was reading but it had no pictures or conversations in it and what is the use of a book thought alice without pictures or conversations so she was considering in her own mind a well as she could for the hot day made her feel very sleepy and stupid whether the pleasure of making a daisy chain would be worth the trouble of getting up and picking the daisies when suddenly a white rabbit with pink eyes ran close by her there was nothing so very emarkable in that nor did alice think it so very much oh dear i shall be late it occurred to her afterwards she ought to have wondered at this but at the time it all seemed quite natural but when the rabbit actually toook a watch out of its packet and looked at it and then hurried on alice started to her feet and in another moment down went alice after it never once considering burning how in the world she was going to get out again the rabbit hole\"\n",
    "sig_str = np.sum(Sxx[2:71, :], axis=0)\n",
    "\n",
    "# According to paper, usually around 100ms left between \n",
    "# conseuctive keystrokes so min_dist should be around 20\n",
    "# Difference between adjacent signals is 5ms\n",
    "indexes = peakutils.indexes(sig_str, thres=0.0007, min_dist=30)\n",
    "len(indexes), len(targ_s)\n",
    "\n",
    "# Maybe just do some parameter tuning, try to maximize number of unique words found in set\n",
    "# Find and extract all parameters that can be taken out\n",
    "# Try to use dataframes\n",
    "keypress_sigs = []\n",
    "\n",
    "# fig = plt.figure(figsize=(18, 18))\n",
    "# plt.plot(t, sig_str)\n",
    "# plt.plot(t[indexes], sig_str[indexes], 'o')\n",
    "\n",
    "spaces = [5, 19, 26, 32, 49, 56, 63, 70, 75, 79, 86, 94, 99, 104, 113, 117, \\\n",
    "          120, 126, 132, 136, 141, 145, 151, 156, 163, 167, 170, 175, 178, 186, 190]\n",
    "\n",
    "for i in range(len(indexes)):\n",
    "    ind = indexes[i]\n",
    "    # Take exactly 40 ms\n",
    "    # if i in spaces:\n",
    "        # plt.plot(t[ind - 2: ind + 6], sig_str[ind - 2: ind + 6], 'r')\n",
    "    key_start = int(t[ind - shift_start_back] * rate)\n",
    "    key_end = int(key_start + wave_len * rate)\n",
    "    keypress_sigs.append(sig[key_start:key_end]) \n",
    "    \n",
    "data = extract_cepstrum(keypress_sigs, rate)\n",
    "# plt.ylim(0, 1.5e-5)\n",
    "# plt.xlim(0, 130)\n",
    "# plt.show()"
   ]
  },
  {
   "cell_type": "code",
   "execution_count": 249,
   "metadata": {
    "collapsed": false,
    "scrolled": true
   },
   "outputs": [
    {
     "name": "stdout",
     "output_type": "stream",
     "text": [
      "-4351.63050263 [10  0 13 ...,  8 16 22]\n",
      "0.0159781854558\n",
      "11\n",
      "kangy thepxqkingh btoiccobkiqxsivxwaqr adt wan bingfpgqur t afure anojpthpvwheerxjder bor ge ino alliczvlpxwaxlljasuitheryvnd pn her alitwave pqxrkkyqupvyjct oheleme ot otfkjqrictwhowxvered t heghafk ascedlvceng he tok theraver verygzfjthelitorin outherbind afce inishy ingvlermuccofet ind o the dver thallithkxxugfpicmedfpfong sqwithe txqaitheredqthe ak biczveeericfwzkjitkqvrxoxbubbulxid ryerbaf he thalininde wasqs torqhesit id whengst t healyyycepiczde ad aomder o ocowouisnge ceryongahe falk aliuqfngin wipik thqe dingpqxcjjsingly ithjxwixjj tholoualliclery s wxher iche wd sufwofouqp hepsing sit it budbbqgkuthin wiclycherllupquthhokqpiour wnowhag hedisthang whonondft pinkin out haveryngesinve os wofthevbuthredpk o ldiorpd bozvbgullzzjujuthd afug woomd aldd ouind that moqljqpver o s w sha t ato s bouynxbungy pbyous ofery hlokjbd wan s woo d thinkgpisijqwkathxlkknofvers xxbbe psthingqcenkuryvmoupfqurscoathxzpng bicofbxpnsjcxwndr isankalnd he sxmut okkqxzy gjthickve sns senge ald s s vxxyidither sxvvvepjn ws orl bquly o bcky andowxhery siqw\n"
     ]
    }
   ],
   "source": []
  },
  {
   "cell_type": "code",
   "execution_count": 72,
   "metadata": {
    "collapsed": false
   },
   "outputs": [
    {
     "data": {
      "text/plain": [
       "<matplotlib.axes._subplots.AxesSubplot at 0x11cc3c910>"
      ]
     },
     "execution_count": 72,
     "metadata": {},
     "output_type": "execute_result"
    },
    {
     "data": {
      "image/png": "[encoded data removed]",
      "text/plain": [
       "<matplotlib.figure.Figure at 0x11b4f1410>"
      ]
     },
     "metadata": {},
     "output_type": "display_data"
    }
   ],
   "source": [
    "pd.Series(sig[500000:800000]).plot()"
   ]
  },
  {
   "cell_type": "code",
   "execution_count": 86,
   "metadata": {
    "collapsed": false
   },
   "outputs": [
    {
     "name": "stdout",
     "output_type": "stream",
     "text": [
      "14\n"
     ]
    }
   ],
   "source": [
    "# If word is reasonably close to an English word, correct spelling\n",
    "# Add the indices of this new word to a training set\n",
    "# Use an RNN or something to train on it\n",
    "# Apply spelling corrections again, etc."
   ]
  }
 ],
 "metadata": {
  "kernelspec": {
   "display_name": "Python 2",
   "language": "python",
   "name": "python2"
  },
  "language_info": {
   "codemirror_mode": {
    "name": "ipython",
    "version": 2
   },
   "file_extension": ".py",
   "mimetype": "text/x-python",
   "name": "python",
   "nbconvert_exporter": "python",
   "pygments_lexer": "ipython2",
   "version": "2.7.11"
  }
 },
 "nbformat": 4,
 "nbformat_minor": 0
}
