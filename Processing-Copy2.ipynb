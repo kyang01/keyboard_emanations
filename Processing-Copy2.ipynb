{
 "cells": [
  {
   "cell_type": "markdown",
   "metadata": {},
   "source": [
    "## Imports"
   ]
  },
  {
   "cell_type": "code",
   "execution_count": 1,
   "metadata": {
    "collapsed": false
   },
   "outputs": [],
   "source": [
    "import warnings\n",
    "warnings.filterwarnings(\"ignore\", category=UserWarning) \n",
    "warnings.filterwarnings(\"ignore\", category=FutureWarning)\n",
    "\n",
    "%matplotlib inline\n",
    "import pandas as pd\n",
    "import numpy as np\n",
    "import sys, os, time, datetime\n",
    "import matplotlib.pyplot as plt\n",
    "\n",
    "\n",
    "sys.path.append('libraries')\n",
    "import signal_processing as spl \n",
    "import prediction_lib as pl\n",
    "pl = reload(pl)\n",
    "spl = reload(spl)"
   ]
  },
  {
   "cell_type": "code",
   "execution_count": 2,
   "metadata": {
    "collapsed": true
   },
   "outputs": [],
   "source": [
    "import numpy as np\n",
    "from bs4 import BeautifulSoup\n",
    "from collections import Counter\n",
    "import urllib\n",
    "import matplotlib\n",
    "import matplotlib.pyplot as plt\n",
    "from mpl_toolkits.mplot3d import Axes3D\n",
    "import matplotlib.cm as cmx\n",
    "import matplotlib.colors as colors\n",
    "import pandas as pd\n",
    "from sklearn.linear_model import LogisticRegression as LogReg\n",
    "from sklearn.linear_model import LogisticRegressionCV as LogRegCV\n",
    "from sklearn.feature_extraction.text import CountVectorizer\n",
    "from sklearn.preprocessing import LabelEncoder\n",
    "from sklearn.metrics import confusion_matrix\n",
    "from sklearn.neighbors import KNeighborsClassifier as KNN\n",
    "from sklearn.decomposition import PCA\n",
    "from tqdm import tqdm\n",
    "import sys\n",
    "from scipy import optimize\n",
    "from IPython import display\n",
    "from collections import Counter\n",
    "from sklearn.externals import joblib\n",
    "\n",
    "from scipy.cluster.vq import kmeans2,vq, whiten\n",
    "from sklearn.cluster import KMeans\n",
    "from hmmlearn.hmm import MultinomialHMM\n",
    "from python_speech_features import mfcc"
   ]
  },
  {
   "cell_type": "markdown",
   "metadata": {},
   "source": [
    "##  Load in Signal DF"
   ]
  },
  {
   "cell_type": "code",
   "execution_count": 3,
   "metadata": {
    "collapsed": false
   },
   "outputs": [],
   "source": [
    "load = True\n",
    "name = 'perfect_dataset'\n",
    "INPUT_FILE = 'data/%s.csv' % name\n",
    "out_name = 'results/%s_RESULTS.csv' % name"
   ]
  },
  {
   "cell_type": "code",
   "execution_count": 4,
   "metadata": {
    "collapsed": false
   },
   "outputs": [
    {
     "data": {
      "text/html": [
       "<div>\n",
       "<table border=\"1\" class=\"dataframe\">\n",
       "  <thead>\n",
       "    <tr style=\"text-align: right;\">\n",
       "      <th></th>\n",
       "      <th>ACCURACY_WO_SPACES</th>\n",
       "      <th>DO_ALL</th>\n",
       "      <th>INPUT_FILE</th>\n",
       "      <th>MAX_COLS</th>\n",
       "      <th>MFCC_END</th>\n",
       "      <th>MFCC_START</th>\n",
       "      <th>MODEL</th>\n",
       "      <th>MODEL_FNAME</th>\n",
       "      <th>NUM_CLUSTERS</th>\n",
       "      <th>N_COMPONENTS</th>\n",
       "      <th>OVERALL_ACCURACY</th>\n",
       "      <th>PREDICTION</th>\n",
       "      <th>RATE</th>\n",
       "      <th>SCORE</th>\n",
       "      <th>SMOOTH</th>\n",
       "      <th>TOL</th>\n",
       "      <th>WHITEN</th>\n",
       "    </tr>\n",
       "  </thead>\n",
       "  <tbody>\n",
       "    <tr>\n",
       "      <th>2016-12-02 18:49:05.655758</th>\n",
       "      <td>0.232356</td>\n",
       "      <td>False</td>\n",
       "      <td>data/perfect_dataset.csv</td>\n",
       "      <td>-1</td>\n",
       "      <td>-60.0</td>\n",
       "      <td>0</td>\n",
       "      <td>MultinomialHMM(algorithm='viterbi', init_param...</td>\n",
       "      <td>models/2016-12-02 18:49:05.655758-0.2936576889...</td>\n",
       "      <td>50</td>\n",
       "      <td>100.0</td>\n",
       "      <td>0.293658</td>\n",
       "      <td>athee wad ledingrnd tl and st t anked in s thi...</td>\n",
       "      <td>44100</td>\n",
       "      <td>-13707.036373</td>\n",
       "      <td>54.598150</td>\n",
       "      <td>0.01</td>\n",
       "      <td>True</td>\n",
       "    </tr>\n",
       "    <tr>\n",
       "      <th>59:31.7</th>\n",
       "      <td>0.223308</td>\n",
       "      <td>False</td>\n",
       "      <td>data/perfect_dataset.csv</td>\n",
       "      <td>-1</td>\n",
       "      <td>NaN</td>\n",
       "      <td>0</td>\n",
       "      <td>MultinomialHMM(algorithm='viterbi', init_param...</td>\n",
       "      <td>NaN</td>\n",
       "      <td>50</td>\n",
       "      <td>100.0</td>\n",
       "      <td>0.282653</td>\n",
       "      <td>idnis sas hetindund ts hes edat inded is dindi...</td>\n",
       "      <td>44100</td>\n",
       "      <td>-13722.486180</td>\n",
       "      <td>2.718282</td>\n",
       "      <td>0.01</td>\n",
       "      <td>False</td>\n",
       "    </tr>\n",
       "    <tr>\n",
       "      <th>2016-12-02 18:26:08.172422</th>\n",
       "      <td>0.210279</td>\n",
       "      <td>False</td>\n",
       "      <td>data/perfect_dataset.csv</td>\n",
       "      <td>-1</td>\n",
       "      <td>-60.0</td>\n",
       "      <td>0</td>\n",
       "      <td>MultinomialHMM(algorithm='viterbi', init_param...</td>\n",
       "      <td>models/2016-12-02 18:26:08.172422-0.2823631624...</td>\n",
       "      <td>50</td>\n",
       "      <td>100.0</td>\n",
       "      <td>0.282363</td>\n",
       "      <td>adive wan hedine ng tiched thed tiche in aithi...</td>\n",
       "      <td>44100</td>\n",
       "      <td>-13453.805850</td>\n",
       "      <td>7.389056</td>\n",
       "      <td>0.01</td>\n",
       "      <td>True</td>\n",
       "    </tr>\n",
       "    <tr>\n",
       "      <th>53:09.3</th>\n",
       "      <td>0.218241</td>\n",
       "      <td>False</td>\n",
       "      <td>data/perfect_dataset.csv</td>\n",
       "      <td>-1</td>\n",
       "      <td>NaN</td>\n",
       "      <td>0</td>\n",
       "      <td>MultinomialHMM(algorithm='viterbi', init_param...</td>\n",
       "      <td>NaN</td>\n",
       "      <td>50</td>\n",
       "      <td>100.0</td>\n",
       "      <td>0.279757</td>\n",
       "      <td>isnis sas hetindund st hes ksct hived it windi...</td>\n",
       "      <td>44100</td>\n",
       "      <td>-13591.706470</td>\n",
       "      <td>0.049787</td>\n",
       "      <td>0.01</td>\n",
       "      <td>False</td>\n",
       "    </tr>\n",
       "    <tr>\n",
       "      <th>2016-12-02 18:42:08.082977</th>\n",
       "      <td>0.205936</td>\n",
       "      <td>False</td>\n",
       "      <td>data/perfect_dataset.csv</td>\n",
       "      <td>-1</td>\n",
       "      <td>-60.0</td>\n",
       "      <td>0</td>\n",
       "      <td>MultinomialHMM(algorithm='viterbi', init_param...</td>\n",
       "      <td>models/2016-12-02 18:42:08.082977-0.2742542716...</td>\n",
       "      <td>50</td>\n",
       "      <td>100.0</td>\n",
       "      <td>0.274254</td>\n",
       "      <td>athee the cedingune ss hed as s anghe is and i...</td>\n",
       "      <td>44100</td>\n",
       "      <td>-13584.794944</td>\n",
       "      <td>1.000000</td>\n",
       "      <td>0.01</td>\n",
       "      <td>True</td>\n",
       "    </tr>\n",
       "  </tbody>\n",
       "</table>\n",
       "</div>"
      ],
      "text/plain": [
       "                            ACCURACY_WO_SPACES DO_ALL  \\\n",
       "2016-12-02 18:49:05.655758            0.232356  False   \n",
       "59:31.7                               0.223308  False   \n",
       "2016-12-02 18:26:08.172422            0.210279  False   \n",
       "53:09.3                               0.218241  False   \n",
       "2016-12-02 18:42:08.082977            0.205936  False   \n",
       "\n",
       "                                          INPUT_FILE  MAX_COLS  MFCC_END  \\\n",
       "2016-12-02 18:49:05.655758  data/perfect_dataset.csv        -1     -60.0   \n",
       "59:31.7                     data/perfect_dataset.csv        -1       NaN   \n",
       "2016-12-02 18:26:08.172422  data/perfect_dataset.csv        -1     -60.0   \n",
       "53:09.3                     data/perfect_dataset.csv        -1       NaN   \n",
       "2016-12-02 18:42:08.082977  data/perfect_dataset.csv        -1     -60.0   \n",
       "\n",
       "                            MFCC_START  \\\n",
       "2016-12-02 18:49:05.655758           0   \n",
       "59:31.7                              0   \n",
       "2016-12-02 18:26:08.172422           0   \n",
       "53:09.3                              0   \n",
       "2016-12-02 18:42:08.082977           0   \n",
       "\n",
       "                                                                        MODEL  \\\n",
       "2016-12-02 18:49:05.655758  MultinomialHMM(algorithm='viterbi', init_param...   \n",
       "59:31.7                     MultinomialHMM(algorithm='viterbi', init_param...   \n",
       "2016-12-02 18:26:08.172422  MultinomialHMM(algorithm='viterbi', init_param...   \n",
       "53:09.3                     MultinomialHMM(algorithm='viterbi', init_param...   \n",
       "2016-12-02 18:42:08.082977  MultinomialHMM(algorithm='viterbi', init_param...   \n",
       "\n",
       "                                                                  MODEL_FNAME  \\\n",
       "2016-12-02 18:49:05.655758  models/2016-12-02 18:49:05.655758-0.2936576889...   \n",
       "59:31.7                                                                   NaN   \n",
       "2016-12-02 18:26:08.172422  models/2016-12-02 18:26:08.172422-0.2823631624...   \n",
       "53:09.3                                                                   NaN   \n",
       "2016-12-02 18:42:08.082977  models/2016-12-02 18:42:08.082977-0.2742542716...   \n",
       "\n",
       "                            NUM_CLUSTERS  N_COMPONENTS  OVERALL_ACCURACY  \\\n",
       "2016-12-02 18:49:05.655758            50         100.0          0.293658   \n",
       "59:31.7                               50         100.0          0.282653   \n",
       "2016-12-02 18:26:08.172422            50         100.0          0.282363   \n",
       "53:09.3                               50         100.0          0.279757   \n",
       "2016-12-02 18:42:08.082977            50         100.0          0.274254   \n",
       "\n",
       "                                                                   PREDICTION  \\\n",
       "2016-12-02 18:49:05.655758  athee wad ledingrnd tl and st t anked in s thi...   \n",
       "59:31.7                     idnis sas hetindund ts hes edat inded is dindi...   \n",
       "2016-12-02 18:26:08.172422  adive wan hedine ng tiched thed tiche in aithi...   \n",
       "53:09.3                     isnis sas hetindund st hes ksct hived it windi...   \n",
       "2016-12-02 18:42:08.082977  athee the cedingune ss hed as s anghe is and i...   \n",
       "\n",
       "                             RATE         SCORE     SMOOTH   TOL WHITEN  \n",
       "2016-12-02 18:49:05.655758  44100 -13707.036373  54.598150  0.01   True  \n",
       "59:31.7                     44100 -13722.486180   2.718282  0.01  False  \n",
       "2016-12-02 18:26:08.172422  44100 -13453.805850   7.389056  0.01   True  \n",
       "53:09.3                     44100 -13591.706470   0.049787  0.01  False  \n",
       "2016-12-02 18:42:08.082977  44100 -13584.794944   1.000000  0.01   True  "
      ]
     },
     "execution_count": 4,
     "metadata": {},
     "output_type": "execute_result"
    }
   ],
   "source": [
    "if load and os.path.exists(out_name):\n",
    "    RESULTS_DF = pd.read_csv(out_name, index_col = 0)\n",
    "    RESULTS_DF.head()\n",
    "else:\n",
    "    RESULTS_DF = None\n"
   ]
  },
  {
   "cell_type": "code",
   "execution_count": 5,
   "metadata": {
    "collapsed": false
   },
   "outputs": [
    {
     "data": {
      "text/html": [
       "<div>\n",
       "<table border=\"1\" class=\"dataframe\">\n",
       "  <thead>\n",
       "    <tr style=\"text-align: right;\">\n",
       "      <th></th>\n",
       "      <th>peak time</th>\n",
       "      <th>char</th>\n",
       "      <th>start time</th>\n",
       "      <th>end time</th>\n",
       "      <th>signal</th>\n",
       "      <th>0</th>\n",
       "      <th>1</th>\n",
       "      <th>2</th>\n",
       "      <th>3</th>\n",
       "      <th>4</th>\n",
       "      <th>...</th>\n",
       "      <th>15425</th>\n",
       "      <th>15426</th>\n",
       "      <th>15427</th>\n",
       "      <th>15428</th>\n",
       "      <th>15429</th>\n",
       "      <th>15430</th>\n",
       "      <th>15431</th>\n",
       "      <th>15432</th>\n",
       "      <th>15433</th>\n",
       "      <th>15434</th>\n",
       "    </tr>\n",
       "  </thead>\n",
       "  <tbody>\n",
       "    <tr>\n",
       "      <th>3443</th>\n",
       "      <td>1205.164819</td>\n",
       "      <td></td>\n",
       "      <td>1205.129819</td>\n",
       "      <td>1205.479819</td>\n",
       "      <td>0.000357</td>\n",
       "      <td>-0.100998</td>\n",
       "      <td>-0.015492</td>\n",
       "      <td>0.084944</td>\n",
       "      <td>0.022892</td>\n",
       "      <td>0.118922</td>\n",
       "      <td>...</td>\n",
       "      <td>0.988503</td>\n",
       "      <td>0.888722</td>\n",
       "      <td>1.186432</td>\n",
       "      <td>1.165176</td>\n",
       "      <td>0.144874</td>\n",
       "      <td>0.252931</td>\n",
       "      <td>0.142511</td>\n",
       "      <td>0.196231</td>\n",
       "      <td>1.019574</td>\n",
       "      <td>0.243095</td>\n",
       "    </tr>\n",
       "    <tr>\n",
       "      <th>3444</th>\n",
       "      <td>1205.536387</td>\n",
       "      <td>o</td>\n",
       "      <td>1205.501387</td>\n",
       "      <td>1205.851387</td>\n",
       "      <td>0.000357</td>\n",
       "      <td>0.605787</td>\n",
       "      <td>0.673882</td>\n",
       "      <td>0.841651</td>\n",
       "      <td>0.465785</td>\n",
       "      <td>0.397254</td>\n",
       "      <td>...</td>\n",
       "      <td>-3.536588</td>\n",
       "      <td>5.058556</td>\n",
       "      <td>5.898054</td>\n",
       "      <td>6.116207</td>\n",
       "      <td>6.306228</td>\n",
       "      <td>-10.719934</td>\n",
       "      <td>5.384215</td>\n",
       "      <td>18.141334</td>\n",
       "      <td>-3.398774</td>\n",
       "      <td>4.310902</td>\n",
       "    </tr>\n",
       "    <tr>\n",
       "      <th>3445</th>\n",
       "      <td>1205.602626</td>\n",
       "      <td>u</td>\n",
       "      <td>1205.567626</td>\n",
       "      <td>1205.917626</td>\n",
       "      <td>0.000357</td>\n",
       "      <td>0.370805</td>\n",
       "      <td>0.367855</td>\n",
       "      <td>0.193740</td>\n",
       "      <td>0.271778</td>\n",
       "      <td>0.217057</td>\n",
       "      <td>...</td>\n",
       "      <td>-0.052352</td>\n",
       "      <td>0.434728</td>\n",
       "      <td>0.559545</td>\n",
       "      <td>-0.040595</td>\n",
       "      <td>-0.744939</td>\n",
       "      <td>-0.705834</td>\n",
       "      <td>-0.345340</td>\n",
       "      <td>-0.434586</td>\n",
       "      <td>-0.457719</td>\n",
       "      <td>-0.302066</td>\n",
       "    </tr>\n",
       "    <tr>\n",
       "      <th>3446</th>\n",
       "      <td>1205.869425</td>\n",
       "      <td>t</td>\n",
       "      <td>1205.834425</td>\n",
       "      <td>1206.184425</td>\n",
       "      <td>0.000357</td>\n",
       "      <td>0.574571</td>\n",
       "      <td>0.536336</td>\n",
       "      <td>0.310582</td>\n",
       "      <td>0.287124</td>\n",
       "      <td>0.468396</td>\n",
       "      <td>...</td>\n",
       "      <td>7.602115</td>\n",
       "      <td>-4.575600</td>\n",
       "      <td>1.406101</td>\n",
       "      <td>-2.978368</td>\n",
       "      <td>1.717977</td>\n",
       "      <td>11.550069</td>\n",
       "      <td>-4.738052</td>\n",
       "      <td>-4.291237</td>\n",
       "      <td>-3.474019</td>\n",
       "      <td>-3.132150</td>\n",
       "    </tr>\n",
       "    <tr>\n",
       "      <th>3447</th>\n",
       "      <td>1206.152522</td>\n",
       "      <td></td>\n",
       "      <td>1206.117522</td>\n",
       "      <td>1206.467522</td>\n",
       "      <td>0.000357</td>\n",
       "      <td>0.431744</td>\n",
       "      <td>0.391007</td>\n",
       "      <td>0.554542</td>\n",
       "      <td>0.688468</td>\n",
       "      <td>0.681929</td>\n",
       "      <td>...</td>\n",
       "      <td>-1.686501</td>\n",
       "      <td>-1.405832</td>\n",
       "      <td>-1.132361</td>\n",
       "      <td>-1.400418</td>\n",
       "      <td>-1.635337</td>\n",
       "      <td>-1.081181</td>\n",
       "      <td>-0.747627</td>\n",
       "      <td>-0.437727</td>\n",
       "      <td>-0.078946</td>\n",
       "      <td>-0.597740</td>\n",
       "    </tr>\n",
       "    <tr>\n",
       "      <th>3448</th>\n",
       "      <td>1206.603440</td>\n",
       "      <td>a</td>\n",
       "      <td>1206.568440</td>\n",
       "      <td>1206.918440</td>\n",
       "      <td>0.000357</td>\n",
       "      <td>-0.032560</td>\n",
       "      <td>0.000937</td>\n",
       "      <td>-0.072859</td>\n",
       "      <td>-0.052033</td>\n",
       "      <td>-0.111156</td>\n",
       "      <td>...</td>\n",
       "      <td>-0.053287</td>\n",
       "      <td>0.107539</td>\n",
       "      <td>0.242174</td>\n",
       "      <td>0.231995</td>\n",
       "      <td>0.234771</td>\n",
       "      <td>0.165148</td>\n",
       "      <td>0.217436</td>\n",
       "      <td>0.225331</td>\n",
       "      <td>-0.098057</td>\n",
       "      <td>-0.262253</td>\n",
       "    </tr>\n",
       "    <tr>\n",
       "      <th>3449</th>\n",
       "      <td>1206.880633</td>\n",
       "      <td>g</td>\n",
       "      <td>1206.845633</td>\n",
       "      <td>1207.195633</td>\n",
       "      <td>0.000357</td>\n",
       "      <td>0.993742</td>\n",
       "      <td>2.423808</td>\n",
       "      <td>1.609095</td>\n",
       "      <td>3.906103</td>\n",
       "      <td>-1.916781</td>\n",
       "      <td>...</td>\n",
       "      <td>-0.214781</td>\n",
       "      <td>-0.203393</td>\n",
       "      <td>-0.293734</td>\n",
       "      <td>-0.352500</td>\n",
       "      <td>-0.279817</td>\n",
       "      <td>-0.146706</td>\n",
       "      <td>-0.194231</td>\n",
       "      <td>-0.147599</td>\n",
       "      <td>-0.075321</td>\n",
       "      <td>-0.133153</td>\n",
       "    </tr>\n",
       "    <tr>\n",
       "      <th>3450</th>\n",
       "      <td>1207.134864</td>\n",
       "      <td>a</td>\n",
       "      <td>1207.099864</td>\n",
       "      <td>1207.449864</td>\n",
       "      <td>0.000357</td>\n",
       "      <td>-0.241887</td>\n",
       "      <td>-0.305712</td>\n",
       "      <td>-0.413097</td>\n",
       "      <td>-0.455908</td>\n",
       "      <td>-0.563319</td>\n",
       "      <td>...</td>\n",
       "      <td>-3.410009</td>\n",
       "      <td>3.432781</td>\n",
       "      <td>1.741468</td>\n",
       "      <td>1.822611</td>\n",
       "      <td>1.289886</td>\n",
       "      <td>-0.678719</td>\n",
       "      <td>-1.402292</td>\n",
       "      <td>2.042433</td>\n",
       "      <td>3.062629</td>\n",
       "      <td>0.586512</td>\n",
       "    </tr>\n",
       "    <tr>\n",
       "      <th>3451</th>\n",
       "      <td>1207.493027</td>\n",
       "      <td>i</td>\n",
       "      <td>1207.458027</td>\n",
       "      <td>1207.808027</td>\n",
       "      <td>0.000357</td>\n",
       "      <td>1.338969</td>\n",
       "      <td>-2.046932</td>\n",
       "      <td>-1.036754</td>\n",
       "      <td>1.714020</td>\n",
       "      <td>-0.265125</td>\n",
       "      <td>...</td>\n",
       "      <td>0.044424</td>\n",
       "      <td>-0.199461</td>\n",
       "      <td>-0.242156</td>\n",
       "      <td>0.118358</td>\n",
       "      <td>0.091515</td>\n",
       "      <td>-0.106329</td>\n",
       "      <td>-0.103860</td>\n",
       "      <td>-0.028796</td>\n",
       "      <td>-0.180932</td>\n",
       "      <td>-0.132623</td>\n",
       "    </tr>\n",
       "    <tr>\n",
       "      <th>3452</th>\n",
       "      <td>1207.817996</td>\n",
       "      <td>n</td>\n",
       "      <td>1207.782996</td>\n",
       "      <td>1208.132996</td>\n",
       "      <td>0.000357</td>\n",
       "      <td>-0.326185</td>\n",
       "      <td>-0.451966</td>\n",
       "      <td>-0.480052</td>\n",
       "      <td>-0.572480</td>\n",
       "      <td>-0.523397</td>\n",
       "      <td>...</td>\n",
       "      <td>0.584964</td>\n",
       "      <td>0.403560</td>\n",
       "      <td>0.429286</td>\n",
       "      <td>0.358761</td>\n",
       "      <td>0.257468</td>\n",
       "      <td>0.414053</td>\n",
       "      <td>0.427385</td>\n",
       "      <td>0.309221</td>\n",
       "      <td>0.406631</td>\n",
       "      <td>0.378481</td>\n",
       "    </tr>\n",
       "  </tbody>\n",
       "</table>\n",
       "<p>10 rows × 15440 columns</p>\n",
       "</div>"
      ],
      "text/plain": [
       "        peak time char   start time     end time    signal         0  \\\n",
       "3443  1205.164819       1205.129819  1205.479819  0.000357 -0.100998   \n",
       "3444  1205.536387    o  1205.501387  1205.851387  0.000357  0.605787   \n",
       "3445  1205.602626    u  1205.567626  1205.917626  0.000357  0.370805   \n",
       "3446  1205.869425    t  1205.834425  1206.184425  0.000357  0.574571   \n",
       "3447  1206.152522       1206.117522  1206.467522  0.000357  0.431744   \n",
       "3448  1206.603440    a  1206.568440  1206.918440  0.000357 -0.032560   \n",
       "3449  1206.880633    g  1206.845633  1207.195633  0.000357  0.993742   \n",
       "3450  1207.134864    a  1207.099864  1207.449864  0.000357 -0.241887   \n",
       "3451  1207.493027    i  1207.458027  1207.808027  0.000357  1.338969   \n",
       "3452  1207.817996    n  1207.782996  1208.132996  0.000357 -0.326185   \n",
       "\n",
       "             1         2         3         4    ...        15425     15426  \\\n",
       "3443 -0.015492  0.084944  0.022892  0.118922    ...     0.988503  0.888722   \n",
       "3444  0.673882  0.841651  0.465785  0.397254    ...    -3.536588  5.058556   \n",
       "3445  0.367855  0.193740  0.271778  0.217057    ...    -0.052352  0.434728   \n",
       "3446  0.536336  0.310582  0.287124  0.468396    ...     7.602115 -4.575600   \n",
       "3447  0.391007  0.554542  0.688468  0.681929    ...    -1.686501 -1.405832   \n",
       "3448  0.000937 -0.072859 -0.052033 -0.111156    ...    -0.053287  0.107539   \n",
       "3449  2.423808  1.609095  3.906103 -1.916781    ...    -0.214781 -0.203393   \n",
       "3450 -0.305712 -0.413097 -0.455908 -0.563319    ...    -3.410009  3.432781   \n",
       "3451 -2.046932 -1.036754  1.714020 -0.265125    ...     0.044424 -0.199461   \n",
       "3452 -0.451966 -0.480052 -0.572480 -0.523397    ...     0.584964  0.403560   \n",
       "\n",
       "         15427     15428     15429      15430     15431      15432     15433  \\\n",
       "3443  1.186432  1.165176  0.144874   0.252931  0.142511   0.196231  1.019574   \n",
       "3444  5.898054  6.116207  6.306228 -10.719934  5.384215  18.141334 -3.398774   \n",
       "3445  0.559545 -0.040595 -0.744939  -0.705834 -0.345340  -0.434586 -0.457719   \n",
       "3446  1.406101 -2.978368  1.717977  11.550069 -4.738052  -4.291237 -3.474019   \n",
       "3447 -1.132361 -1.400418 -1.635337  -1.081181 -0.747627  -0.437727 -0.078946   \n",
       "3448  0.242174  0.231995  0.234771   0.165148  0.217436   0.225331 -0.098057   \n",
       "3449 -0.293734 -0.352500 -0.279817  -0.146706 -0.194231  -0.147599 -0.075321   \n",
       "3450  1.741468  1.822611  1.289886  -0.678719 -1.402292   2.042433  3.062629   \n",
       "3451 -0.242156  0.118358  0.091515  -0.106329 -0.103860  -0.028796 -0.180932   \n",
       "3452  0.429286  0.358761  0.257468   0.414053  0.427385   0.309221  0.406631   \n",
       "\n",
       "         15434  \n",
       "3443  0.243095  \n",
       "3444  4.310902  \n",
       "3445 -0.302066  \n",
       "3446 -3.132150  \n",
       "3447 -0.597740  \n",
       "3448 -0.262253  \n",
       "3449 -0.133153  \n",
       "3450  0.586512  \n",
       "3451 -0.132623  \n",
       "3452  0.378481  \n",
       "\n",
       "[10 rows x 15440 columns]"
      ]
     },
     "execution_count": 5,
     "metadata": {},
     "output_type": "execute_result"
    }
   ],
   "source": [
    "char_inps_raw = pd.read_csv(INPUT_FILE, index_col=0)\n",
    "char_inps_raw['char'] = char_inps_raw['char'].fillna(' ').replace('#SPACE', ' ')\n",
    "# char_inps_raw['peak_diff'] =char_inps_raw['peak_diff'].fillna(0)\n",
    "char_inps_raw = char_inps_raw.fillna(0)\n",
    "char_inps_raw.tail(10)"
   ]
  },
  {
   "cell_type": "code",
   "execution_count": 6,
   "metadata": {
    "collapsed": false
   },
   "outputs": [
    {
     "data": {
      "text/plain": [
       "'alice was beginning to get very tired of sitting by her sister on the bank and of having nothing to do once or twice she had peeped into the book her sister was reading but it had no pictures or conversations in it and what is the use of a book without pictures or conversations so she was considering in her own mind as well as she could for the day made her feel very sleepy and stupid whether the pleasure of making a daisy chai would be worth the trouble of getting up and picking the daisies when sudenly a white rabbit with pink eyes ran close by her there was nothing as remarkable in that nor did alice think it so very much out of the way to hear the rabbit say to itself oh dear oh dear i shall be too late when she thought it over afterwards it occurred to her that she ought to have wondered at this but at the time it all seemed quite natural but when the rabbit actually took a watch out of its pocket and burning with curiosity she ran across the field after it and was just about to see it pop down a large rabbit hole under the hedge in anoether moment went dow alice after it never considering how in the world she was to get out again the rabbit hole went straight on like a tunnel for some way and then dipped suddenly down and so suddenly that alice had not a moment to think about stopping herself before she found herself falling down what seemed to be a very deep well either the well was very deep or she fell very slowly for she had plenty of time as she went down to look about her and to wonder what was ging to happen next first she tried to look down and wonder what was coming next but it was too dark to make out anything then she looked at the sides of the well and noticed that they were filled with cupboardsa and book shelves here and there she saw maps and pictures hungs upon pegs she took down a jar from one of the shelves as she passed first but to her disappointment it was empty she did not like to drop the jar for fear of killing somebody underneath so she managed to put it into one of the cupboards as she feell past it well thought alice to herself after such a fall as this i shall think nothing of tumbling down stairs how brave they will think me at home why i would not say anything about it even if i fell off the top of the house which was very likely true alice was beginning to get very tired of sitting by her sister on the bank of having nothing to do once or twice she had peeped into the book her sister was reading but it had no pictures or conversations in it and whaat is the use of a book thought alice without pictures or conversations so she was consdiering in her own mind as well as she could for the hot day made her feel very sleepy and stupid whether the pleasure of making a daisy chain would be worth the trouble there was nothing so very remarkable about that in it nor did alice think it so very much out of the way to hear the rabbit say to itself oh dear oh dear i shall be too late when she thought it over afterwards she realized that she ought to have wondered at this zebra xylophone but for it flashed across her mind that she had never seen a rabbit with either a pocket or a watch to take out of it and buning with curiosity she ran across the field after it and she wanted to think about it before stpping herself and faling down what seemed to be a very deep well in another moment alice went down after it never considering how in the world she was to g et out again'"
      ]
     },
     "execution_count": 6,
     "metadata": {},
     "output_type": "execute_result"
    }
   ],
   "source": [
    "targ_s = ''.join(char_inps_raw['char'].values)\n",
    "targ_s"
   ]
  },
  {
   "cell_type": "code",
   "execution_count": 7,
   "metadata": {
    "collapsed": true
   },
   "outputs": [],
   "source": [
    "PARAM_RESULTS ={}"
   ]
  },
  {
   "cell_type": "markdown",
   "metadata": {},
   "source": [
    "## Processing "
   ]
  },
  {
   "cell_type": "code",
   "execution_count": 8,
   "metadata": {
    "collapsed": false
   },
   "outputs": [],
   "source": [
    "RATE = 44100\n",
    "WHITEN = True\n",
    "SAVE_THRESH= 0.25\n",
    "TOL = 1e-2\n",
    "\n",
    "should_loop = True\n",
    "\n",
    "\n",
    "MAX_COLS = -1\n",
    "MFCC_START = [0]\n",
    "MFCC_END = [-60]\n",
    "NUM_CLUSTERS = [50]\n",
    "N_COMPONENTS = [100]\n",
    "DO_ALL = False\n",
    "\n",
    "\n",
    "REPEATS = 4\n",
    "SMOOTHS = map(lambda x : np.exp(x), range(0,6))"
   ]
  },
  {
   "cell_type": "code",
   "execution_count": 14,
   "metadata": {
    "collapsed": false
   },
   "outputs": [
    {
     "name": "stdout",
     "output_type": "stream",
     "text": [
      "1.0 0.220967274833 0.124140427072 -13646.2184504\n",
      "2.71828182846 0.200115841297 0.112196887441 -13733.1453885\n",
      "7.38905609893 0.180422820736 0.0937386898299 -13577.2825122\n",
      "20.0855369232 0.247610773241 0.169381107492 -13546.0075913\n",
      "54.5981500331 0.15146249638 0.0586319218241 -13711.7439653\n",
      "148.413159103 0.25166521865 0.177343467246 -13616.6269812\n",
      "1.0 0.274254271648 0.205935577271 -13584.7949438\n",
      "2.71828182846 0.198088618593 0.120883098082 -13544.9115054\n",
      "7.38905609893 0.258615696496 0.188925081433 -13691.0412076\n",
      "20.0855369232 0.205039096438 0.117987694535 -13775.3532427\n",
      "54.5981500331 0.293657688966 0.232356134636 -13707.0363725\n",
      "148.413159103 0.201563857515 0.119435396308 -13753.5025525\n",
      "1.0 0.195482189401 0.116178067318 -13540.5494681\n",
      "2.71828182846 0.155227338546 0.0550126673905 -13692.8357955\n",
      "7.38905609893 0.183898059658 0.116901918205 -13567.1286493\n",
      "20.0855369232 0.136403127715 0.038364096996 -13693.4311296\n",
      "54.5981500331 0.194034173183 0.118711545422 -13532.7412975\n",
      "148.413159103 0.142195192586 0.0441549040898 -13748.1727635\n",
      "1.0 0.253982044599 0.187115454216 -13635.0486101\n",
      "2.71828182846 0.249058789458 0.176619616359 -13537.77183\n",
      "7.38905609893 0.273964668404 0.210278682591 -13581.3413067\n",
      "20.0855369232 0.249348392702 0.180238870793 -13608.5984688\n",
      "54.5981500331 0.181291630466 0.0969960188201 -13542.8607589\n",
      "148.413159103 0.246452360266 0.177705392689 -13700.0980597\n"
     ]
    }
   ],
   "source": [
    "def build_params(smooth, end, start, cluster, comp):\n",
    "    _id = datetime.datetime.now()\n",
    "    PARAM_RESULTS[_id] = {'RATE' : RATE,\n",
    "        'TOL' : TOL,\n",
    "        'INPUT_FILE' : INPUT_FILE,\n",
    "         'MAX_COLS': MAX_COLS,\n",
    "          'NUM_CLUSTERS' : cluster,\n",
    "          'N_COMPONENTS' : comp,\n",
    "          'MFCC_START' : start,\n",
    "          'MFCC_END' : end,\n",
    "          'WHITEN' : WHITEN,\n",
    "          'DO_ALL' : DO_ALL,\n",
    "          'SMOOTH' : smooth,\n",
    "          'PREDICTION' : None,\n",
    "          'ACCURACY_WO_SPACES' : None,\n",
    "         'OVERALL_ACCURACY' : None,\n",
    "         'SCORE' : None,\n",
    "         'MODEL' : None,\n",
    "        'MODEL_FNAME' : None\n",
    "                          \n",
    "         }\n",
    "    return PARAM_RESULTS[_id], _id\n",
    "\n",
    "def save(model = None, accuracy = None, _id = None):\n",
    "    global RESULTS_DF\n",
    "    if model:\n",
    "        PARAM_RESULTS[_id]['MODEL_FNAME'] = \"models/%s-%s.pkl\" % (_id, accuracy)\n",
    "        joblib.dump(model, \"models/%s-%s.pkl\" % (_id, accuracy))\n",
    "        \n",
    "    if RESULTS_DF is not None:\n",
    "        RESULTS_DF = RESULTS_DF.append(pd.DataFrame(PARAM_RESULTS).T).drop_duplicates()\n",
    "    else:\n",
    "        RESULTS_DF = pd.DataFrame(PARAM_RESULTS).T\n",
    "    \n",
    "    \n",
    "    \n",
    "    \n",
    "    RESULTS_DF.sort_values(['OVERALL_ACCURACY', 'ACCURACY_WO_SPACES'], ascending=False).to_csv(out_name)\n",
    "    \n",
    "    by_smooth = RESULTS_DF[['ACCURACY_WO_SPACES','OVERALL_ACCURACY', 'SMOOTH']].dropna().astype(float).groupby('SMOOTH')\n",
    "#     print 'max'\n",
    "#     display.display(by_smooth.max().sort_values(['OVERALL_ACCURACY', 'ACCURACY_WO_SPACES'], ascending =False).head(3))\n",
    "#     print 'mean'\n",
    "#     display.display(by_smooth.mean().sort_values(['OVERALL_ACCURACY', 'ACCURACY_WO_SPACES'], ascending =False).head(3))\n",
    "#     print 'var'\n",
    "#     display.display(by_smooth.var().sort_values(['OVERALL_ACCURACY', 'ACCURACY_WO_SPACES'], ascending =False).head(3))\n",
    "\n",
    "\n",
    "def loop():\n",
    "    \n",
    "    # Copy and take subset\n",
    "    char_inps = char_inps_raw[char_inps_raw.columns[:MAX_COLS]].copy()\n",
    "    \n",
    "    for _ in range(REPEATS):\n",
    "        # Extract features\n",
    "        for end in MFCC_END:\n",
    "            for start in MFCC_START:\n",
    "                for cluster in NUM_CLUSTERS:\n",
    "                    for comp in N_COMPONENTS:\n",
    "                        cepstrum_df = pl.extract_cepstrum(char_inps, RATE, mfcc_start=start, mfcc_end=end)\n",
    "\n",
    "                        # Cluster the sounds\n",
    "                        cepstrum_df = pl.cluster(cepstrum_df, num_clusters = cluster, n_components = comp)\n",
    "\n",
    "                        # Repeat the hmm experiement for each parameter\n",
    "\n",
    "                        # For each smoothing parameter to be tested\n",
    "                        for smooth in SMOOTHS:\n",
    "\n",
    "\n",
    "                            estimate, acc, acc_wospace, score, hmm = pl.run_hmm(cepstrum_df, targ_s, \n",
    "                                                                    cluster, t_smooth = smooth, tol = TOL,\n",
    "                                                                    do_all = DO_ALL, verbose = False)  \n",
    "                            print smooth, acc, acc_wospace, score\n",
    "                            params,_id = build_params(smooth, end, start, cluster, comp)\n",
    "                            params['OVERALL_ACCURACY'] = acc\n",
    "                            params['ACCURACY_WO_SPACES'] = acc_wospace\n",
    "                            params['PREDICTION'] = estimate\n",
    "                            params['SCORE'] = score\n",
    "                            params['MODEL'] = hmm\n",
    "\n",
    "                            if acc > SAVE_THRESH:\n",
    "                                save(hmm, acc, _id)\n",
    "                            else:\n",
    "                                save()\n",
    "if should_loop:\n",
    "    loop()"
   ]
  },
  {
   "cell_type": "code",
   "execution_count": null,
   "metadata": {
    "collapsed": false
   },
   "outputs": [],
   "source": [
    "save()"
   ]
  },
  {
   "cell_type": "markdown",
   "metadata": {},
   "source": [
    "# Visualizing process "
   ]
  },
  {
   "cell_type": "code",
   "execution_count": null,
   "metadata": {
    "collapsed": false
   },
   "outputs": [],
   "source": [
    "char_inps = char_inps_raw.copy()\n",
    "char_inps = char_inps_raw[char_inps_raw.columns[:MAX_COLS]].copy()\n",
    "char_inps.tail(10)"
   ]
  },
  {
   "cell_type": "markdown",
   "metadata": {},
   "source": [
    "## Visualize Spaces "
   ]
  },
  {
   "cell_type": "code",
   "execution_count": null,
   "metadata": {
    "collapsed": false
   },
   "outputs": [],
   "source": [
    "pl.view_char(char_inps, ' ', limit = 8, xlim = 600)"
   ]
  },
  {
   "cell_type": "code",
   "execution_count": null,
   "metadata": {
    "collapsed": false
   },
   "outputs": [],
   "source": [
    "pl.view_char(char_inps, 'e', limit = 8, xlim = 1000)"
   ]
  },
  {
   "cell_type": "markdown",
   "metadata": {},
   "source": [
    "## Get the cepstrum features from the raw signal "
   ]
  },
  {
   "cell_type": "code",
   "execution_count": null,
   "metadata": {
    "collapsed": false
   },
   "outputs": [],
   "source": [
    " # Extract features\n",
    "cepstrum_df = pl.extract_cepstrum(char_inps, RATE, mfcc_start=MFCC_START, mfcc_end=MFCC_END)\n",
    "\n",
    "cepstrum_df.head()"
   ]
  },
  {
   "cell_type": "code",
   "execution_count": null,
   "metadata": {
    "collapsed": false
   },
   "outputs": [],
   "source": [
    "inds = cepstrum_df.dtypes == np.float64\n",
    "data = cepstrum_df.ix[:,inds].values\n",
    "# Standardize data\n",
    "if WHITEN:\n",
    "    data = whiten(data)\n",
    "        \n",
    "pca = PCA(n_components=N_COMPONENTS)\n",
    "pca.fit(data)\n",
    "data = pca.transform(data)\n",
    "pca.explained_variance_ratio_.sum()"
   ]
  },
  {
   "cell_type": "markdown",
   "metadata": {},
   "source": [
    "## Visualize Cepstrum Features "
   ]
  },
  {
   "cell_type": "code",
   "execution_count": null,
   "metadata": {
    "collapsed": false
   },
   "outputs": [],
   "source": [
    "pl.view_char(cepstrum_df, ' ', xlim = 200, limit = 12)"
   ]
  },
  {
   "cell_type": "code",
   "execution_count": null,
   "metadata": {
    "collapsed": false
   },
   "outputs": [],
   "source": [
    "pl.view_char(cepstrum_df, 'e', xlim = 200, limit = 12)"
   ]
  },
  {
   "cell_type": "markdown",
   "metadata": {},
   "source": [
    "## Cluster the features"
   ]
  },
  {
   "cell_type": "code",
   "execution_count": null,
   "metadata": {
    "collapsed": false
   },
   "outputs": [],
   "source": [
    "# Cluster the sounds\n",
    "cepstrum_df = pl.cluster(cepstrum_df, num_clusters = NUM_CLUSTERS, n_components = N_COMPONENTS)\n",
    "cepstrum_df.head()"
   ]
  },
  {
   "cell_type": "code",
   "execution_count": null,
   "metadata": {
    "collapsed": false
   },
   "outputs": [],
   "source": [
    "pl.cluster_proportions(cepstrum_df, [' '] + map(lambda x : chr(x + ord('a')),  range(26)), num_clusters = NUM_CLUSTERS)"
   ]
  },
  {
   "cell_type": "code",
   "execution_count": null,
   "metadata": {
    "collapsed": false,
    "scrolled": false
   },
   "outputs": [],
   "source": [
    "cepstrum_df['Count'] = 1\n",
    "scores = cepstrum_df[['char', 'cluster', 'Count']].groupby(['cluster', 'char']).count()\n",
    "n = NUM_CLUSTERS \n",
    "fig, axes = plt.subplots((n-1)/4+1, 4, figsize=(24, n*3/2))\n",
    "\n",
    "# Repeat for each coefficient\n",
    "for cl in range(n):\n",
    "    axe = axes[cl / 4][cl % 4]\n",
    "   \n",
    "    _ = scores.ix[cl].plot(kind='bar', ax = axe)\n",
    "    _ = axe.set_title(cl)"
   ]
  },
  {
   "cell_type": "markdown",
   "metadata": {},
   "source": [
    "## Build Transmission Matrix with bigrams"
   ]
  },
  {
   "cell_type": "code",
   "execution_count": null,
   "metadata": {
    "collapsed": false
   },
   "outputs": [],
   "source": [
    "pl = reload(pl)\n",
    "A_df, n_unique, unique_chars, id_to_char, char_to_id  = pl.build_transmission_full()\n",
    "A_df.head()"
   ]
  },
  {
   "cell_type": "markdown",
   "metadata": {},
   "source": [
    "##  Check the proportion of spaces across the k means classes"
   ]
  },
  {
   "cell_type": "code",
   "execution_count": null,
   "metadata": {
    "collapsed": false
   },
   "outputs": [],
   "source": [
    "space_props= pl.get_props(cepstrum_df, NUM_CLUSTERS, ' ')\n",
    "_  = space_props.plot(kind='bar', title = 'Space Proportions')"
   ]
  },
  {
   "cell_type": "markdown",
   "metadata": {},
   "source": [
    "## Build emissions matrix"
   ]
  },
  {
   "cell_type": "code",
   "execution_count": null,
   "metadata": {
    "collapsed": false
   },
   "outputs": [],
   "source": [
    "Eta = pl.build_eta(cepstrum_df, unique_chars, NUM_CLUSTERS, do_all = DO_ALL)\n",
    "Eta\n"
   ]
  },
  {
   "cell_type": "markdown",
   "metadata": {},
   "source": [
    "## Get Unigram proportions"
   ]
  },
  {
   "cell_type": "code",
   "execution_count": null,
   "metadata": {
    "collapsed": false
   },
   "outputs": [],
   "source": [
    "char_counts = pl.get_char_counts(targ_s, unique_chars)\n",
    "char_counts"
   ]
  },
  {
   "cell_type": "markdown",
   "metadata": {},
   "source": [
    "## Run HMM"
   ]
  },
  {
   "cell_type": "code",
   "execution_count": null,
   "metadata": {
    "collapsed": false
   },
   "outputs": [],
   "source": [
    "Eta"
   ]
  },
  {
   "cell_type": "code",
   "execution_count": null,
   "metadata": {
    "collapsed": false
   },
   "outputs": [],
   "source": [
    "# smooth = 0.5\n",
    "# estimate, acc, acc_wospace, score, hmm = pl.run_hmm(cepstrum_df, targ_s, \n",
    "#                                                     NUM_CLUSTERS, t_smooth = smooth, tol = TOL,\n",
    "#                                                     do_all = DO_ALL, verbose = True)  \n",
    "# params,_id = build_params(smooth)\n",
    "# params['OVERALL_ACCURACY'] = acc\n",
    "# params['ACCURACY_WO_SPACES'] = acc_wospace\n",
    "# params['PREDICTION'] = estimate\n",
    "# params['SCORE'] = score\n",
    "# params['MODEL'] = hmm\n",
    "\n",
    "# if acc > SAVE_THRESH:\n",
    "#     save(hmm, acc, _id)\n",
    "# else:\n",
    "#     save()"
   ]
  },
  {
   "cell_type": "code",
   "execution_count": null,
   "metadata": {
    "collapsed": false
   },
   "outputs": [],
   "source": [
    "# estimate"
   ]
  },
  {
   "cell_type": "code",
   "execution_count": null,
   "metadata": {
    "collapsed": false
   },
   "outputs": [],
   "source": [
    "targ_s"
   ]
  },
  {
   "cell_type": "code",
   "execution_count": null,
   "metadata": {
    "collapsed": false,
    "scrolled": false
   },
   "outputs": [],
   "source": [
    "# smooths = map(lambda x : np.exp(x), range(-10, 10))\n",
    "# smooths = np.arange(0,2,.1)\n",
    "for smooth in smooths:\n",
    "    estimate, acc, acc_wospace, score, hmm = pl.run_hmm(cepstrum_df, targ_s, \n",
    "                                                    NUM_CLUSTERS, t_smooth = smooth, tol = TOL,\n",
    "                                                    do_all = DO_ALL, verbose = False)  \n",
    "    params,_id = build_params(smooth)\n",
    "    params['OVERALL_ACCURACY'] = acc\n",
    "    params['ACCURACY_WO_SPACES'] = acc_wospace\n",
    "    params['PREDICTION'] = estimate\n",
    "    params['SCORE'] = score\n",
    "    params['MODEL'] = hmm\n",
    "\n",
    "    if acc > SAVE_THRESH:\n",
    "        save(hmm, acc, _id)\n",
    "    else:\n",
    "        save()\n",
    "    print smooth, acc, acc_wospace, score\n",
    "    print estimate"
   ]
  },
  {
   "cell_type": "code",
   "execution_count": null,
   "metadata": {
    "collapsed": true
   },
   "outputs": [],
   "source": []
  },
  {
   "cell_type": "code",
   "execution_count": null,
   "metadata": {
    "collapsed": true
   },
   "outputs": [],
   "source": []
  },
  {
   "cell_type": "code",
   "execution_count": null,
   "metadata": {
    "collapsed": true
   },
   "outputs": [],
   "source": []
  },
  {
   "cell_type": "code",
   "execution_count": null,
   "metadata": {
    "collapsed": false,
    "scrolled": true
   },
   "outputs": [],
   "source": [
    "def scrapeone():\n",
    "    webpage = 'https://www.gutenberg.org/files/11/11-h/11-h.htm'\n",
    "    html = urllib.urlopen(webpage).read()\n",
    "    soup = BeautifulSoup(html, 'html.parser')\n",
    "    texts = soup.findAll(text=True)\n",
    "    import re\n",
    "    def visible(element):\n",
    "        if element.parent.name in ['style', 'script', '[document]', 'head', 'title']:\n",
    "            return False\n",
    "        elif re.match('<!--.*-->', str(element.encode('utf-8'))):\n",
    "            return False\n",
    "        return True\n",
    "\n",
    "    unique_chars = [' '] + map(lambda x : chr(x + ord('a')), range(26))\n",
    "\n",
    "    raw_text = filter(lambda x : x in unique_chars, ' '.join(filter(visible, texts)).replace('\\r\\n', ' ').replace('\\n', ' ').replace('\\u2018', '').replace('\\u2019', '').lower())\n",
    "    raw_text = ' '.join(raw_text.split())\n",
    "\n",
    "def scrape():\n",
    "    results = {}\n",
    "    raw_text_all = ''\n",
    "    webpages = ['https://www.gutenberg.org/files/11/11-h/11-h.htm', 'https://www.gutenberg.org/files/1342/1342-h/1342-h.htm',\n",
    "               'https://www.gutenberg.org/files/46/46-h/46-h.htm', 'https://www.gutenberg.org/files/84/84-h/84-h.htm',\n",
    "               'https://www.gutenberg.org/files/76/76-h/76-h.htm', 'https://www.gutenberg.org/files/844/844-h/844-h.htm',\n",
    "               'https://www.gutenberg.org/files/53638/53638-h/53638-h.htm', 'https://www.gutenberg.org/files/2542/2542-h/2542-h.htm',\n",
    "               'https://www.gutenberg.org/files/1400/1400-h/1400-h.htm', 'https://www.gutenberg.org/files/98/98-h/98-h.htm',\n",
    "               'https://www.gutenberg.org/files/74/74-h/74-h.htm', 'https://www.gutenberg.org/files/53641/53641-h/53641-h.html',\n",
    "               'https://www.gutenberg.org/files/1232/1232-h/1232-h.htm', 'https://www.gutenberg.org/files/1661/1661-h/1661-h.htm',\n",
    "               'https://www.gutenberg.org/files/345/345-h/345-h.htm', 'https://www.gutenberg.org/files/160/160-h/160-h.htm',\n",
    "               'https://www.gutenberg.org/files/5200/5200-h/5200-h.htm', 'http://www.gutenberg.org/cache/epub/30254/pg30254.html',\n",
    "               'https://www.gutenberg.org/files/1952/1952-h/1952-h.htm', 'https://www.gutenberg.org/files/2600/2600-h/2600-h.htm',\n",
    "               'https://www.gutenberg.org/files/174/174-h/174-h.htm', 'https://www.gutenberg.org/files/2701/2701-h/2701-h.htm']\n",
    "    for page in tqdm(webpages):\n",
    "        html = urllib.urlopen(webpage).read()\n",
    "        soup = BeautifulSoup(html, 'html.parser')\n",
    "        texts = soup.findAll(text=True)\n",
    "        import re\n",
    "        def visible(element):\n",
    "            if element.parent.name in ['style', 'script', '[document]', 'head', 'title']:\n",
    "                return False\n",
    "            elif re.match('<!--.*-->', str(element.encode('utf-8'))):\n",
    "                return False\n",
    "            return True\n",
    "\n",
    "        unique_chars = [' '] + map(lambda x : chr(x + ord('a')), range(26))\n",
    "\n",
    "        raw_text = filter(lambda x : x in unique_chars, ' '.join(filter(visible, texts)).replace('\\r\\n', ' ').replace('\\n', ' ').replace('\\u2018', '').replace('\\u2019', '').lower())\n",
    "        raw_text = ' '.join(raw_text.split())\n",
    "        results[page] = raw_text\n",
    "        raw_text_all += raw_text\n",
    "        time.sleep(2)\n",
    "# with open('data/guttenberg_text.txt', 'w') as f:\n",
    "#     f.write(raw_text_all)"
   ]
  }
 ],
 "metadata": {
  "kernelspec": {
   "display_name": "Python 2",
   "language": "python",
   "name": "python2"
  },
  "language_info": {
   "codemirror_mode": {
    "name": "ipython",
    "version": 2
   },
   "file_extension": ".py",
   "mimetype": "text/x-python",
   "name": "python",
   "nbconvert_exporter": "python",
   "pygments_lexer": "ipython2",
   "version": "2.7.11"
  }
 },
 "nbformat": 4,
 "nbformat_minor": 0
}
