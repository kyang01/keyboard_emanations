{
 "cells": [
  {
   "cell_type": "code",
   "execution_count": 11,
   "metadata": {
    "collapsed": false
   },
   "outputs": [],
   "source": [
    "file = open(\"reddit_trump (2).txt\", \"r\")\n",
    "text = file.read()\n",
    "by_line = text.split('\\n')"
   ]
  },
  {
   "cell_type": "code",
   "execution_count": 32,
   "metadata": {
    "collapsed": false
   },
   "outputs": [],
   "source": [
    "clean_lines = map(lambda x : x.split(')'), by_line[1:])\n",
    "clean_lines = map(lambda x : x[1].strip() if len(x) > 1 else x[0], clean_lines)\n",
    "example = ' '.join(clean_lines[:100]) + ' '.join(clean_lines[2001:3080])\n",
    "\n",
    "outfile = open('ex.txt', 'w')\n",
    "outfile.write(example)"
   ]
  },
  {
   "cell_type": "code",
   "execution_count": 61,
   "metadata": {
    "collapsed": false
   },
   "outputs": [],
   "source": [
    "file = open(\"TRUMP_PUNCTUATION_SHIFT.txt\", \"r\")\n",
    "text = file.read()\n",
    "outfile = open('TRUMP_NOPUNCTUATION_SHIFT.txt', 'w')\n",
    "text = text.translate(None, string.punctuation).replace(\"‘\", \"\").replace('’', \"\")\n",
    "outfile.write(text)\n",
    "outfile = open('TRUMP_NOPUNCTUATION_NOSHIFT.txt', 'w')\n",
    "outfile.write(text.lower())"
   ]
  },
  {
   "cell_type": "code",
   "execution_count": 60,
   "metadata": {
    "collapsed": false
   },
   "outputs": [],
   "source": [
    "file = open('ALICE_PUNCTUATION_SHIFT.txt', 'r')\n",
    "text = file.read()\n",
    "outfile = open('ALICE_NOPUNCTUATION_SHIFT.txt', 'w')\n",
    "text = text.translate(None, string.punctuation).replace(\"‘\", \"\").replace('’', \"\")\n",
    "outfile.write(text)\n",
    "outfile = open('ALICE_NOPUNCTUATION_NOSHIFT.txt', 'w')\n",
    "outfile.write(text.lower())"
   ]
  },
  {
   "cell_type": "code",
   "execution_count": null,
   "metadata": {
    "collapsed": true
   },
   "outputs": [],
   "source": []
  }
 ],
 "metadata": {
  "kernelspec": {
   "display_name": "Python 2",
   "language": "python",
   "name": "python2"
  },
  "language_info": {
   "codemirror_mode": {
    "name": "ipython",
    "version": 2
   },
   "file_extension": ".py",
   "mimetype": "text/x-python",
   "name": "python",
   "nbconvert_exporter": "python",
   "pygments_lexer": "ipython2",
   "version": "2.7.11"
  }
 },
 "nbformat": 4,
 "nbformat_minor": 0
}
