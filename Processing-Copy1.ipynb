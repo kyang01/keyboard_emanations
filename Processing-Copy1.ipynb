{
 "cells": [
  {
   "cell_type": "markdown",
   "metadata": {},
   "source": [
    "## Imports"
   ]
  },
  {
   "cell_type": "code",
   "execution_count": 23,
   "metadata": {
    "collapsed": false
   },
   "outputs": [],
   "source": [
    "import warnings\n",
    "warnings.filterwarnings(\"ignore\", category=UserWarning) \n",
    "warnings.filterwarnings(\"ignore\", category=FutureWarning)\n",
    "\n",
    "%matplotlib inline\n",
    "import pandas as pd\n",
    "import numpy as np\n",
    "import sys, os, time, datetime\n",
    "import matplotlib.pyplot as plt\n",
    "\n",
    "\n",
    "sys.path.append('libraries')\n",
    "import signal_processing as spl \n",
    "import prediction_lib as pl\n",
    "pl = reload(pl)\n",
    "spl = reload(spl)"
   ]
  },
  {
   "cell_type": "code",
   "execution_count": 24,
   "metadata": {
    "collapsed": true
   },
   "outputs": [],
   "source": [
    "import IPython"
   ]
  },
  {
   "cell_type": "code",
   "execution_count": 25,
   "metadata": {
    "collapsed": true
   },
   "outputs": [],
   "source": [
    "import numpy as np\n",
    "from bs4 import BeautifulSoup\n",
    "from collections import Counter\n",
    "import urllib\n",
    "import matplotlib\n",
    "import matplotlib.pyplot as plt\n",
    "from mpl_toolkits.mplot3d import Axes3D\n",
    "import matplotlib.cm as cmx\n",
    "import matplotlib.colors as colors\n",
    "import pandas as pd\n",
    "from sklearn.linear_model import LogisticRegression as LogReg\n",
    "from sklearn.linear_model import LogisticRegressionCV as LogRegCV\n",
    "from sklearn.feature_extraction.text import CountVectorizer\n",
    "from sklearn.preprocessing import LabelEncoder\n",
    "from sklearn.metrics import confusion_matrix\n",
    "from sklearn.neighbors import KNeighborsClassifier as KNN\n",
    "from sklearn.decomposition import PCA\n",
    "from tqdm import tqdm\n",
    "import sys\n",
    "from scipy import optimize\n",
    "from IPython import display\n",
    "from collections import Counter\n",
    "from sklearn.externals import joblib\n",
    "\n",
    "from scipy.cluster.vq import kmeans2,vq, whiten\n",
    "from sklearn.cluster import KMeans\n",
    "from hmmlearn.hmm import MultinomialHMM\n",
    "from python_speech_features import mfcc"
   ]
  },
  {
   "cell_type": "markdown",
   "metadata": {},
   "source": [
    "##  Load in Signal DF"
   ]
  },
  {
   "cell_type": "code",
   "execution_count": 26,
   "metadata": {
    "collapsed": false
   },
   "outputs": [],
   "source": [
    "load = True\n",
    "name = 'NOISEY_LABELED_CHARACTER_INPUTS'\n",
    "INPUT_FILE = 'data/LABELED_CHARACTER_INPUTS.csv' \n",
    "out_name = 'results/%s_RESULTS.csv' % name"
   ]
  },
  {
   "cell_type": "code",
   "execution_count": 27,
   "metadata": {
    "collapsed": false
   },
   "outputs": [],
   "source": [
    "if load and os.path.exists(out_name):\n",
    "    RESULTS_DF = pd.read_csv(out_name, index_col = 0)\n",
    "    RESULTS_DF.head()\n",
    "else:\n",
    "    RESULTS_DF = None"
   ]
  },
  {
   "cell_type": "code",
   "execution_count": 28,
   "metadata": {
    "collapsed": false
   },
   "outputs": [
    {
     "data": {
      "text/html": [
       "<div>\n",
       "<table border=\"1\" class=\"dataframe\">\n",
       "  <thead>\n",
       "    <tr style=\"text-align: right;\">\n",
       "      <th></th>\n",
       "      <th>index</th>\n",
       "      <th>peak time</th>\n",
       "      <th>signal</th>\n",
       "      <th>start time</th>\n",
       "      <th>end time</th>\n",
       "      <th>char</th>\n",
       "      <th>is_space</th>\n",
       "      <th>peak_diff</th>\n",
       "      <th>0</th>\n",
       "      <th>1</th>\n",
       "      <th>...</th>\n",
       "      <th>16791</th>\n",
       "      <th>16792</th>\n",
       "      <th>16793</th>\n",
       "      <th>16794</th>\n",
       "      <th>16795</th>\n",
       "      <th>16796</th>\n",
       "      <th>16797</th>\n",
       "      <th>16798</th>\n",
       "      <th>16799</th>\n",
       "      <th>16800</th>\n",
       "    </tr>\n",
       "  </thead>\n",
       "  <tbody>\n",
       "    <tr>\n",
       "      <th>1042</th>\n",
       "      <td>1086</td>\n",
       "      <td>596.346667</td>\n",
       "      <td>12875.447266</td>\n",
       "      <td>596.311667</td>\n",
       "      <td>596.661667</td>\n",
       "      <td>b</td>\n",
       "      <td>0</td>\n",
       "      <td>0.270667</td>\n",
       "      <td>18.0</td>\n",
       "      <td>20.0</td>\n",
       "      <td>...</td>\n",
       "      <td>98.0</td>\n",
       "      <td>98.0</td>\n",
       "      <td>-60.0</td>\n",
       "      <td>-27.0</td>\n",
       "      <td>88.0</td>\n",
       "      <td>85.0</td>\n",
       "      <td>46.0</td>\n",
       "      <td>-21.0</td>\n",
       "      <td>-80.0</td>\n",
       "      <td>0.0</td>\n",
       "    </tr>\n",
       "    <tr>\n",
       "      <th>1043</th>\n",
       "      <td>1087</td>\n",
       "      <td>596.617333</td>\n",
       "      <td>22127.296875</td>\n",
       "      <td>596.582333</td>\n",
       "      <td>596.932333</td>\n",
       "      <td>b</td>\n",
       "      <td>0</td>\n",
       "      <td>0.149333</td>\n",
       "      <td>17.0</td>\n",
       "      <td>13.0</td>\n",
       "      <td>...</td>\n",
       "      <td>9.0</td>\n",
       "      <td>7.0</td>\n",
       "      <td>6.0</td>\n",
       "      <td>10.0</td>\n",
       "      <td>11.0</td>\n",
       "      <td>10.0</td>\n",
       "      <td>10.0</td>\n",
       "      <td>11.0</td>\n",
       "      <td>9.0</td>\n",
       "      <td>0.0</td>\n",
       "    </tr>\n",
       "    <tr>\n",
       "      <th>1044</th>\n",
       "      <td>1088</td>\n",
       "      <td>596.766667</td>\n",
       "      <td>2168.157959</td>\n",
       "      <td>596.731667</td>\n",
       "      <td>597.081667</td>\n",
       "      <td>i</td>\n",
       "      <td>0</td>\n",
       "      <td>0.354667</td>\n",
       "      <td>-5.0</td>\n",
       "      <td>4.0</td>\n",
       "      <td>...</td>\n",
       "      <td>-14.0</td>\n",
       "      <td>-16.0</td>\n",
       "      <td>-17.0</td>\n",
       "      <td>-13.0</td>\n",
       "      <td>-13.0</td>\n",
       "      <td>-21.0</td>\n",
       "      <td>-21.0</td>\n",
       "      <td>-14.0</td>\n",
       "      <td>-14.0</td>\n",
       "      <td>-19.0</td>\n",
       "    </tr>\n",
       "    <tr>\n",
       "      <th>1045</th>\n",
       "      <td>1089</td>\n",
       "      <td>597.121333</td>\n",
       "      <td>1214.426758</td>\n",
       "      <td>597.086333</td>\n",
       "      <td>597.436333</td>\n",
       "      <td>t</td>\n",
       "      <td>0</td>\n",
       "      <td>0.294000</td>\n",
       "      <td>26.0</td>\n",
       "      <td>26.0</td>\n",
       "      <td>...</td>\n",
       "      <td>48.0</td>\n",
       "      <td>243.0</td>\n",
       "      <td>253.0</td>\n",
       "      <td>147.0</td>\n",
       "      <td>56.0</td>\n",
       "      <td>-3.0</td>\n",
       "      <td>99.0</td>\n",
       "      <td>157.0</td>\n",
       "      <td>53.0</td>\n",
       "      <td>0.0</td>\n",
       "    </tr>\n",
       "    <tr>\n",
       "      <th>1046</th>\n",
       "      <td>1090</td>\n",
       "      <td>597.415333</td>\n",
       "      <td>25453.357422</td>\n",
       "      <td>597.380333</td>\n",
       "      <td>597.730333</td>\n",
       "      <td></td>\n",
       "      <td>1</td>\n",
       "      <td>1.591333</td>\n",
       "      <td>10.0</td>\n",
       "      <td>6.0</td>\n",
       "      <td>...</td>\n",
       "      <td>-15.0</td>\n",
       "      <td>-15.0</td>\n",
       "      <td>-17.0</td>\n",
       "      <td>-25.0</td>\n",
       "      <td>-28.0</td>\n",
       "      <td>-21.0</td>\n",
       "      <td>-17.0</td>\n",
       "      <td>-21.0</td>\n",
       "      <td>-24.0</td>\n",
       "      <td>0.0</td>\n",
       "    </tr>\n",
       "    <tr>\n",
       "      <th>1047</th>\n",
       "      <td>1091</td>\n",
       "      <td>599.006667</td>\n",
       "      <td>6431.091797</td>\n",
       "      <td>598.971667</td>\n",
       "      <td>599.321667</td>\n",
       "      <td>h</td>\n",
       "      <td>0</td>\n",
       "      <td>0.247333</td>\n",
       "      <td>-3.0</td>\n",
       "      <td>-1.0</td>\n",
       "      <td>...</td>\n",
       "      <td>13.0</td>\n",
       "      <td>3.0</td>\n",
       "      <td>-6.0</td>\n",
       "      <td>17.0</td>\n",
       "      <td>10.0</td>\n",
       "      <td>-15.0</td>\n",
       "      <td>2.0</td>\n",
       "      <td>24.0</td>\n",
       "      <td>23.0</td>\n",
       "      <td>28.0</td>\n",
       "    </tr>\n",
       "    <tr>\n",
       "      <th>1048</th>\n",
       "      <td>1092</td>\n",
       "      <td>599.254000</td>\n",
       "      <td>3091.520508</td>\n",
       "      <td>599.219000</td>\n",
       "      <td>599.569000</td>\n",
       "      <td>o</td>\n",
       "      <td>0</td>\n",
       "      <td>0.462000</td>\n",
       "      <td>13.0</td>\n",
       "      <td>11.0</td>\n",
       "      <td>...</td>\n",
       "      <td>50.0</td>\n",
       "      <td>41.0</td>\n",
       "      <td>34.0</td>\n",
       "      <td>32.0</td>\n",
       "      <td>28.0</td>\n",
       "      <td>21.0</td>\n",
       "      <td>16.0</td>\n",
       "      <td>13.0</td>\n",
       "      <td>10.0</td>\n",
       "      <td>8.0</td>\n",
       "    </tr>\n",
       "    <tr>\n",
       "      <th>1049</th>\n",
       "      <td>1093</td>\n",
       "      <td>599.716000</td>\n",
       "      <td>913.455261</td>\n",
       "      <td>599.681000</td>\n",
       "      <td>600.031000</td>\n",
       "      <td>l</td>\n",
       "      <td>0</td>\n",
       "      <td>0.270667</td>\n",
       "      <td>2.0</td>\n",
       "      <td>4.0</td>\n",
       "      <td>...</td>\n",
       "      <td>40.0</td>\n",
       "      <td>-36.0</td>\n",
       "      <td>-24.0</td>\n",
       "      <td>100.0</td>\n",
       "      <td>-11.0</td>\n",
       "      <td>-66.0</td>\n",
       "      <td>54.0</td>\n",
       "      <td>46.0</td>\n",
       "      <td>41.0</td>\n",
       "      <td>33.0</td>\n",
       "    </tr>\n",
       "    <tr>\n",
       "      <th>1050</th>\n",
       "      <td>1094</td>\n",
       "      <td>599.986667</td>\n",
       "      <td>17315.521484</td>\n",
       "      <td>599.951667</td>\n",
       "      <td>600.301667</td>\n",
       "      <td>e</td>\n",
       "      <td>0</td>\n",
       "      <td>0.200667</td>\n",
       "      <td>-13.0</td>\n",
       "      <td>-19.0</td>\n",
       "      <td>...</td>\n",
       "      <td>-17.0</td>\n",
       "      <td>-140.0</td>\n",
       "      <td>-119.0</td>\n",
       "      <td>0.0</td>\n",
       "      <td>59.0</td>\n",
       "      <td>63.0</td>\n",
       "      <td>87.0</td>\n",
       "      <td>89.0</td>\n",
       "      <td>61.0</td>\n",
       "      <td>-7.0</td>\n",
       "    </tr>\n",
       "    <tr>\n",
       "      <th>1051</th>\n",
       "      <td>1095</td>\n",
       "      <td>600.187333</td>\n",
       "      <td>5176.197266</td>\n",
       "      <td>600.152333</td>\n",
       "      <td>600.502333</td>\n",
       "      <td></td>\n",
       "      <td>0</td>\n",
       "      <td>0.000000</td>\n",
       "      <td>-18.0</td>\n",
       "      <td>-13.0</td>\n",
       "      <td>...</td>\n",
       "      <td>-12.0</td>\n",
       "      <td>-11.0</td>\n",
       "      <td>-7.0</td>\n",
       "      <td>-4.0</td>\n",
       "      <td>1.0</td>\n",
       "      <td>8.0</td>\n",
       "      <td>5.0</td>\n",
       "      <td>-1.0</td>\n",
       "      <td>2.0</td>\n",
       "      <td>6.0</td>\n",
       "    </tr>\n",
       "  </tbody>\n",
       "</table>\n",
       "<p>10 rows × 16809 columns</p>\n",
       "</div>"
      ],
      "text/plain": [
       "      index   peak time        signal  start time    end time char  is_space  \\\n",
       "1042   1086  596.346667  12875.447266  596.311667  596.661667    b         0   \n",
       "1043   1087  596.617333  22127.296875  596.582333  596.932333    b         0   \n",
       "1044   1088  596.766667   2168.157959  596.731667  597.081667    i         0   \n",
       "1045   1089  597.121333   1214.426758  597.086333  597.436333    t         0   \n",
       "1046   1090  597.415333  25453.357422  597.380333  597.730333              1   \n",
       "1047   1091  599.006667   6431.091797  598.971667  599.321667    h         0   \n",
       "1048   1092  599.254000   3091.520508  599.219000  599.569000    o         0   \n",
       "1049   1093  599.716000    913.455261  599.681000  600.031000    l         0   \n",
       "1050   1094  599.986667  17315.521484  599.951667  600.301667    e         0   \n",
       "1051   1095  600.187333   5176.197266  600.152333  600.502333              0   \n",
       "\n",
       "      peak_diff     0     1  ...    16791  16792  16793  16794  16795  16796  \\\n",
       "1042   0.270667  18.0  20.0  ...     98.0   98.0  -60.0  -27.0   88.0   85.0   \n",
       "1043   0.149333  17.0  13.0  ...      9.0    7.0    6.0   10.0   11.0   10.0   \n",
       "1044   0.354667  -5.0   4.0  ...    -14.0  -16.0  -17.0  -13.0  -13.0  -21.0   \n",
       "1045   0.294000  26.0  26.0  ...     48.0  243.0  253.0  147.0   56.0   -3.0   \n",
       "1046   1.591333  10.0   6.0  ...    -15.0  -15.0  -17.0  -25.0  -28.0  -21.0   \n",
       "1047   0.247333  -3.0  -1.0  ...     13.0    3.0   -6.0   17.0   10.0  -15.0   \n",
       "1048   0.462000  13.0  11.0  ...     50.0   41.0   34.0   32.0   28.0   21.0   \n",
       "1049   0.270667   2.0   4.0  ...     40.0  -36.0  -24.0  100.0  -11.0  -66.0   \n",
       "1050   0.200667 -13.0 -19.0  ...    -17.0 -140.0 -119.0    0.0   59.0   63.0   \n",
       "1051   0.000000 -18.0 -13.0  ...    -12.0  -11.0   -7.0   -4.0    1.0    8.0   \n",
       "\n",
       "      16797  16798  16799  16800  \n",
       "1042   46.0  -21.0  -80.0    0.0  \n",
       "1043   10.0   11.0    9.0    0.0  \n",
       "1044  -21.0  -14.0  -14.0  -19.0  \n",
       "1045   99.0  157.0   53.0    0.0  \n",
       "1046  -17.0  -21.0  -24.0    0.0  \n",
       "1047    2.0   24.0   23.0   28.0  \n",
       "1048   16.0   13.0   10.0    8.0  \n",
       "1049   54.0   46.0   41.0   33.0  \n",
       "1050   87.0   89.0   61.0   -7.0  \n",
       "1051    5.0   -1.0    2.0    6.0  \n",
       "\n",
       "[10 rows x 16809 columns]"
      ]
     },
     "execution_count": 28,
     "metadata": {},
     "output_type": "execute_result"
    }
   ],
   "source": [
    "char_inps_raw = pd.read_csv(INPUT_FILE, index_col=0)\n",
    "char_inps_raw['char'] = char_inps_raw['char'].fillna(' ').replace('#SPACE', ' ')\n",
    "# char_inps_raw['peak_diff'] =char_inps_raw['peak_diff'].fillna(0)\n",
    "char_inps_raw = char_inps_raw.fillna(0)\n",
    "char_inps_raw.tail(10)"
   ]
  },
  {
   "cell_type": "code",
   "execution_count": 29,
   "metadata": {
    "collapsed": false
   },
   "outputs": [
    {
     "data": {
      "text/plain": [
       "'alice was beginning to get very tired of sitting by her sister on the bank and having nothing to do once or twice she had peeped into the book her sister was reading but it had no pictures or conversations in it and what is the use of a book thought alice without pictures or conversations so she was considering in her own mind a well as she could for the hot day made her feel very sleepy and stupid whether the pleasure of making a daisy chain would be worth the trouble of getting up and picking the daisies when suddenly a white rabbit with pink eyes ran close by her there was nothing so very emarkable in that nor did alice think it so very much oh dear i shall be late it occurred to her afterwards she ought to have wondered at this but at the time it all seemed quite natural but when the rabbit actually toook a watch out of its packet and looked at it and then hurried on alice started to her feet and in another moment down went alice after it never once considering burning how in the world she was going to get out again the rabbit hole '"
      ]
     },
     "execution_count": 29,
     "metadata": {},
     "output_type": "execute_result"
    }
   ],
   "source": [
    "targ_s = ''.join(char_inps_raw['char'].values)\n",
    "targ_s"
   ]
  },
  {
   "cell_type": "code",
   "execution_count": 43,
   "metadata": {
    "collapsed": true
   },
   "outputs": [],
   "source": [
    "PARAM_RESULTS ={}"
   ]
  },
  {
   "cell_type": "code",
   "execution_count": 44,
   "metadata": {
    "collapsed": false
   },
   "outputs": [],
   "source": [
    "STDEV = char_inps_raw[char_inps_raw.columns[8:]].values.std()"
   ]
  },
  {
   "cell_type": "markdown",
   "metadata": {},
   "source": [
    "## Processing "
   ]
  },
  {
   "cell_type": "code",
   "execution_count": 45,
   "metadata": {
    "collapsed": false
   },
   "outputs": [],
   "source": [
    "RATE = 44100\n",
    "WHITEN = True\n",
    "SAVE_THRESH= 0.45\n",
    "TOL = 1e-2\n",
    "NOISE = [1, .5, 1e-1, 1e-2, 1e-3]\n",
    "\n",
    "should_loop = True\n",
    "\n",
    "\n",
    "MAX_COLS = -1\n",
    "MFCC_START = [0]\n",
    "MFCC_END = [-60]\n",
    "NUM_CLUSTERS = [50]\n",
    "N_COMPONENTS = [None, 100]\n",
    "DO_ALL = False\n",
    "\n",
    "\n",
    "REPEATS = 24\n",
    "SMOOTHS = map(lambda x : np.exp(x), range(1,2))"
   ]
  },
  {
   "cell_type": "code",
   "execution_count": 46,
   "metadata": {
    "collapsed": false
   },
   "outputs": [
    {
     "data": {
      "text/plain": [
       "[<matplotlib.lines.Line2D at 0x175c5fe10>]"
      ]
     },
     "execution_count": 46,
     "metadata": {},
     "output_type": "execute_result"
    },
    {
     "data": {
      "image/png": "[encoded data removed]",
      "text/plain": [
       "<matplotlib.figure.Figure at 0x11210e990>"
      ]
     },
     "metadata": {},
     "output_type": "display_data"
    }
   ],
   "source": [
    "mean = 0\n",
    "std = 1 \n",
    "num_samples = 1000\n",
    "samples = np.random.normal(mean, std, size=num_samples)\n",
    "\n",
    "plt.plot(samples)\n",
    "plt.show()"
   ]
  },
  {
   "cell_type": "code",
   "execution_count": 47,
   "metadata": {
    "collapsed": false
   },
   "outputs": [],
   "source": [
    "# actual = data[:,0]\n",
    "# mean = 0\n",
    "# std = np.std(actual) * 1e-1\n",
    "# num_samples = len(actual)\n",
    "# samples = np.random.normal(mean, std, size=num_samples)\n",
    "# # plt.plot(actual + samples)\n",
    "# wav.write(\"NOISEY.wav\", RATE, (actual + samples))\n",
    "# IPython.display.Audio('NOISEY.wav', autoplay=True)"
   ]
  },
  {
   "cell_type": "code",
   "execution_count": null,
   "metadata": {
    "collapsed": false
   },
   "outputs": [],
   "source": [
    "def build_params(smooth, end, start, cluster, comp, noise):\n",
    "    _id = datetime.datetime.now()\n",
    "    PARAM_RESULTS[_id] = {'RATE' : RATE,\n",
    "        'TOL' : TOL,\n",
    "        'INPUT_FILE' : INPUT_FILE,\n",
    "         'MAX_COLS': MAX_COLS,\n",
    "          'NUM_CLUSTERS' : cluster,\n",
    "          'N_COMPONENTS' : comp,\n",
    "          'MFCC_START' : start,\n",
    "          'MFCC_END' : end,\n",
    "          'WHITEN' : WHITEN,\n",
    "          'DO_ALL' : DO_ALL,\n",
    "          'SMOOTH' : smooth,\n",
    "          'PREDICTION' : None,\n",
    "          'ACCURACY_WO_SPACES' : None,\n",
    "         'OVERALL_ACCURACY' : None,\n",
    "         'SCORE' : None,\n",
    "         'MODEL' : None,\n",
    "        'MODEL_FNAME' : None,\n",
    "            'NOISE' : noise\n",
    "                          \n",
    "         }\n",
    "    return PARAM_RESULTS[_id], _id\n",
    "\n",
    "def save(model = None, accuracy = None, _id = None):\n",
    "    global RESULTS_DF\n",
    "    if model:\n",
    "        PARAM_RESULTS[_id]['MODEL_FNAME'] = \"models/%s-%s.pkl\" % (_id, accuracy)\n",
    "        joblib.dump(model, \"models/%s-%s.pkl\" % (_id, accuracy))\n",
    "        \n",
    "    if RESULTS_DF is not None:\n",
    "        RESULTS_DF = RESULTS_DF.append(pd.DataFrame(PARAM_RESULTS).T).drop_duplicates()\n",
    "    else:\n",
    "        RESULTS_DF = pd.DataFrame(PARAM_RESULTS).T\n",
    "    \n",
    "    \n",
    "    \n",
    "    \n",
    "    RESULTS_DF.sort_values(['OVERALL_ACCURACY', 'ACCURACY_WO_SPACES'], ascending=False).to_csv(out_name)\n",
    "    \n",
    "    by_smooth = RESULTS_DF[['ACCURACY_WO_SPACES','OVERALL_ACCURACY', 'SMOOTH']].dropna().astype(float).groupby('SMOOTH')\n",
    "#     print 'max'\n",
    "#     display.display(by_smooth.max().sort_values(['OVERALL_ACCURACY', 'ACCURACY_WO_SPACES'], ascending =False).head(3))\n",
    "#     print 'mean'\n",
    "#     display.display(by_smooth.mean().sort_values(['OVERALL_ACCURACY', 'ACCURACY_WO_SPACES'], ascending =False).head(3))\n",
    "#     print 'var'\n",
    "#     display.display(by_smooth.var().sort_values(['OVERALL_ACCURACY', 'ACCURACY_WO_SPACES'], ascending =False).head(3))\n",
    "\n",
    "\n",
    "def loop():\n",
    "    \n",
    "    # Copy and take subset\n",
    "    char_inps = char_inps_raw[char_inps_raw.columns[:MAX_COLS]].copy()\n",
    "    \n",
    "    for _ in range(REPEATS):\n",
    "        # Extract features\n",
    "        for end in MFCC_END:\n",
    "            for start in MFCC_START:\n",
    "                for cluster in NUM_CLUSTERS:\n",
    "                    for comp in N_COMPONENTS:\n",
    "                        for nois in NOISE:\n",
    "                            cepstrum_df = pl.extract_cepstrum(char_inps, RATE, mfcc_start=start, mfcc_end=end, noise = STDEV * nois)\n",
    "\n",
    "                            # Cluster the sounds\n",
    "                            cepstrum_df = pl.cluster(cepstrum_df, num_clusters = cluster, n_components = comp)\n",
    "\n",
    "                            # Repeat the hmm experiement for each parameter\n",
    "\n",
    "                            # For each smoothing parameter to be tested\n",
    "                            for smooth in SMOOTHS:\n",
    "\n",
    "\n",
    "                                estimate, acc, acc_wospace, score, hmm = pl.run_hmm(cepstrum_df, targ_s, \n",
    "                                                                        cluster, t_smooth = smooth, tol = TOL,\n",
    "                                                                        do_all = DO_ALL, verbose = False)  \n",
    "                                print nois, smooth, acc, acc_wospace, score\n",
    "                                params,_id = build_params(smooth, end, start, cluster, comp, nois)\n",
    "                                params['OVERALL_ACCURACY'] = acc\n",
    "                                params['ACCURACY_WO_SPACES'] = acc_wospace\n",
    "                                params['PREDICTION'] = estimate\n",
    "                                params['SCORE'] = score\n",
    "                                params['MODEL'] = hmm\n",
    "\n",
    "                                if acc > SAVE_THRESH:\n",
    "                                    save(hmm, acc, _id)\n",
    "                                else:\n",
    "                                    save()\n",
    "if should_loop:\n",
    "    loop()"
   ]
  },
  {
   "cell_type": "code",
   "execution_count": null,
   "metadata": {
    "collapsed": false
   },
   "outputs": [],
   "source": [
    "RESULTS_DF = pd.DataFrame(PARAM_RESULTS).T\n",
    "WORK_DF = RESULTS_DF[RESULTS_DF['DO_ALL'] == False].sort_values('SCORE')"
   ]
  },
  {
   "cell_type": "code",
   "execution_count": null,
   "metadata": {
    "collapsed": false
   },
   "outputs": [],
   "source": [
    "# Unique chars are a-z and space\n",
    "unique_chars = np.array([' '] + map(lambda x : chr(x + ord('a')), range(26)))\n",
    "\n",
    "# Number of unique\n",
    "n_unique = len(unique_chars)\n",
    "\n",
    "# Map char to id and vice versa\n",
    "id_to_char = dict(zip(range(n_unique), unique_chars))\n",
    "char_to_id = dict(zip(unique_chars, range(n_unique)))\n",
    "results = pd.DataFrame(map(lambda x : np.squeeze(x), WORK_DF['PREDICTION'].map(lambda x : np.array(list(x))).values)).applymap(lambda x : char_to_id[x])\n",
    "results.head()"
   ]
  },
  {
   "cell_type": "code",
   "execution_count": null,
   "metadata": {
    "collapsed": false
   },
   "outputs": [],
   "source": [
    "results.to_csv('LABLED_CHAR_INPUTS_COMBINED_RESULTS-51.7%.csv')\n",
    "pl.accuracy(''.join(results.apply(lambda x : Counter(x).most_common(1)[0][0]).map(id_to_char).values), targ_s)"
   ]
  },
  {
   "cell_type": "code",
   "execution_count": null,
   "metadata": {
    "collapsed": true
   },
   "outputs": [],
   "source": []
  },
  {
   "cell_type": "code",
   "execution_count": null,
   "metadata": {
    "collapsed": false
   },
   "outputs": [],
   "source": [
    "save()"
   ]
  },
  {
   "cell_type": "markdown",
   "metadata": {},
   "source": [
    "# Visualizing process "
   ]
  },
  {
   "cell_type": "code",
   "execution_count": null,
   "metadata": {
    "collapsed": false
   },
   "outputs": [],
   "source": [
    "char_inps = char_inps_raw.copy()\n",
    "char_inps = char_inps_raw[char_inps_raw.columns[:MAX_COLS]].copy()\n",
    "char_inps.tail(10)"
   ]
  },
  {
   "cell_type": "markdown",
   "metadata": {},
   "source": [
    "## Visualize Spaces "
   ]
  },
  {
   "cell_type": "code",
   "execution_count": null,
   "metadata": {
    "collapsed": false
   },
   "outputs": [],
   "source": [
    "pl.view_char(char_inps, ' ', limit = 8, xlim = 600)"
   ]
  },
  {
   "cell_type": "code",
   "execution_count": null,
   "metadata": {
    "collapsed": false
   },
   "outputs": [],
   "source": [
    "pl.view_char(char_inps, 'e', limit = 8, xlim = 1000)"
   ]
  },
  {
   "cell_type": "markdown",
   "metadata": {},
   "source": [
    "## Get the cepstrum features from the raw signal "
   ]
  },
  {
   "cell_type": "code",
   "execution_count": null,
   "metadata": {
    "collapsed": false
   },
   "outputs": [],
   "source": [
    " # Extract features\n",
    "cepstrum_df = pl.extract_cepstrum(char_inps, RATE, mfcc_start=MFCC_START, mfcc_end=MFCC_END)\n",
    "\n",
    "cepstrum_df.head()"
   ]
  },
  {
   "cell_type": "code",
   "execution_count": null,
   "metadata": {
    "collapsed": false
   },
   "outputs": [],
   "source": [
    "inds = cepstrum_df.dtypes == np.float64\n",
    "data = cepstrum_df.ix[:,inds].values\n",
    "# Standardize data\n",
    "if WHITEN:\n",
    "    data = whiten(data)\n",
    "        \n",
    "pca = PCA(n_components=N_COMPONENTS)\n",
    "pca.fit(data)\n",
    "data = pca.transform(data)\n",
    "pca.explained_variance_ratio_.sum()"
   ]
  },
  {
   "cell_type": "markdown",
   "metadata": {},
   "source": [
    "## Visualize Cepstrum Features "
   ]
  },
  {
   "cell_type": "code",
   "execution_count": null,
   "metadata": {
    "collapsed": false
   },
   "outputs": [],
   "source": [
    "pl.view_char(cepstrum_df, ' ', xlim = 200, limit = 12)"
   ]
  },
  {
   "cell_type": "code",
   "execution_count": null,
   "metadata": {
    "collapsed": false
   },
   "outputs": [],
   "source": [
    "import sys\n",
    "import wave\n",
    "import math\n",
    "import struct\n",
    "import random\n",
    "import argparse\n",
    "from itertools import *\n",
    "\n",
    "def grouper(n, iterable, fillvalue=None):\n",
    "    \"grouper(3, 'ABCDEFG', 'x') --> ABC DEF Gxx\"\n",
    "    args = [iter(iterable)] * n\n",
    "    return izip_longest(fillvalue=fillvalue, *args)\n",
    "\n",
    "def sine_wave(frequency=440.0, framerate=44100, amplitude=0.5):\n",
    "    '''\n",
    "    Generate a sine wave at a given frequency of infinite length.\n",
    "    '''\n",
    "    period = int(framerate / frequency)\n",
    "    if amplitude > 1.0: amplitude = 1.0\n",
    "    if amplitude < 0.0: amplitude = 0.0\n",
    "    lookup_table = [float(amplitude) * math.sin(2.0*math.pi*float(frequency)*(float(i%period)/float(framerate))) for i in xrange(period)]\n",
    "    return (lookup_table[i%period] for i in count(0))\n",
    "\n",
    "def square_wave(frequency=440.0, framerate=44100, amplitude=0.5):\n",
    "    for s in sine_wave(frequency, framerate, amplitude):\n",
    "        if s > 0:\n",
    "            yield amplitude\n",
    "        elif s < 0:\n",
    "            yield -amplitude\n",
    "        else:\n",
    "            yield 0.0\n",
    "\n",
    "def damped_wave(frequency=440.0, framerate=44100, amplitude=0.5, length=44100):\n",
    "    if amplitude > 1.0: amplitude = 1.0\n",
    "    if amplitude < 0.0: amplitude = 0.0\n",
    "    return (math.exp(-(float(i%length)/float(framerate))) * s for i, s in enumerate(sine_wave(frequency, framerate, amplitude)))\n",
    "\n",
    "def white_noise(amplitude=0.9):\n",
    "    '''\n",
    "    Generate random samples.\n",
    "    '''\n",
    "    return (float(amplitude) * random.uniform(-1, 1) for i in count(0))\n",
    "\n",
    "def compute_samples(channels, nsamples=None):\n",
    "    '''\n",
    "    create a generator which computes the samples.\n",
    "\n",
    "    essentially it creates a sequence of the sum of each function in the channel\n",
    "    at each sample in the file for each channel.\n",
    "    '''\n",
    "    return islice(izip(*(imap(sum, izip(*channel)) for channel in channels)), nsamples)\n",
    "\n",
    "def write_wavefile(filename, samples, nframes=None, nchannels=2, sampwidth=2, framerate=44100, bufsize=2048):\n",
    "    \"Write samples to a wavefile.\"\n",
    "    if nframes is None:\n",
    "        nframes = -1\n",
    "\n",
    "    w = wave.open(filename, 'w')\n",
    "    w.setparams((nchannels, sampwidth, framerate, nframes, 'NONE', 'not compressed'))\n",
    "\n",
    "    max_amplitude = float(int((2 ** (sampwidth * 8)) / 2) - 1)\n",
    "\n",
    "    # split the samples into chunks (to reduce memory consumption and improve performance)\n",
    "    for chunk in grouper(bufsize, samples):\n",
    "        frames = ''.join(''.join(struct.pack('h', int(max_amplitude * sample)) for sample in channels) for channels in chunk if channels is not None)\n",
    "        w.writeframesraw(frames)\n",
    "\n",
    "    w.close()\n",
    "\n",
    "    return filename\n",
    "\n",
    "def write_pcm(f, samples, sampwidth=2, framerate=44100, bufsize=2048):\n",
    "    \"Write samples as raw PCM data.\"\n",
    "    max_amplitude = float(int((2 ** (sampwidth * 8)) / 2) - 1)\n",
    "\n",
    "    # split the samples into chunks (to reduce memory consumption and improve performance)\n",
    "    for chunk in grouper(bufsize, samples):\n",
    "        frames = ''.join(''.join(struct.pack('h', int(max_amplitude * sample)) for sample in channels) for channels in chunk if channels is not None)\n",
    "        f.write(frames)\n",
    "\n",
    "    f.close()\n",
    "\n",
    "    return filename\n",
    "\n",
    "    \n",
    "    \n",
    "frequency = 600.0\n",
    "frequency2 = 2000.0\n",
    "amplitude = 0.5\n",
    "achannels = 1\n",
    "bits = 16\n",
    "etime= 6\n",
    "\n",
    "# each channel is defined by infinite functions which are added to produce a sample.\n",
    "# channels = ((sine_wave(frequency,RATE, amplitude),) for i in range(achannels))\n",
    "\n",
    "# channels = ((sine_wave(frequency,RATE, amplitude),), (white_noise(amplitude=0.001),),\n",
    "#                 (sine_wave(frequency2,RATE, amplitude),), (white_noise(amplitude=0.001),))\n",
    "\n",
    "# channels = ((sine_wave(frequency,RATE, amplitude),), (white_noise(amplitude=0.1),),\n",
    "#                 (sine_wave(frequency2,RATE, amplitude),), (white_noise(amplitude=0.2),))\n",
    "\n",
    "channels = (( white_noise(amplitude=.1),) for i in range(achannels))\n",
    "\n",
    "# convert the channel functions into waveforms\n",
    "samples = compute_samples(channels, RATE * etime)\n",
    "\n",
    "# write the samples to a file\n",
    "filename = 'test.wav'\n",
    "\n",
    "write_wavefile(filename, samples, RATE * etime, achannels, bits / 8, RATE)\n",
    "\n",
    "IPython.display.Audio('test.wav', autoplay=True)"
   ]
  },
  {
   "cell_type": "code",
   "execution_count": null,
   "metadata": {
    "collapsed": false
   },
   "outputs": [],
   "source": [
    "pl.view_char(cepstrum_df, 'e', xlim = 200, limit = 12)"
   ]
  },
  {
   "cell_type": "markdown",
   "metadata": {},
   "source": [
    "## Cluster the features"
   ]
  },
  {
   "cell_type": "code",
   "execution_count": null,
   "metadata": {
    "collapsed": false
   },
   "outputs": [],
   "source": [
    "# Cluster the sounds\n",
    "cepstrum_df = pl.cluster(cepstrum_df, num_clusters = NUM_CLUSTERS, n_components = N_COMPONENTS)\n",
    "cepstrum_df.head()"
   ]
  },
  {
   "cell_type": "code",
   "execution_count": null,
   "metadata": {
    "collapsed": false
   },
   "outputs": [],
   "source": [
    "pl.cluster_proportions(cepstrum_df, [' '] + map(lambda x : chr(x + ord('a')),  range(26)), num_clusters = NUM_CLUSTERS)"
   ]
  },
  {
   "cell_type": "code",
   "execution_count": null,
   "metadata": {
    "collapsed": false,
    "scrolled": false
   },
   "outputs": [],
   "source": [
    "cepstrum_df['Count'] = 1\n",
    "scores = cepstrum_df[['char', 'cluster', 'Count']].groupby(['cluster', 'char']).count()\n",
    "n = NUM_CLUSTERS \n",
    "fig, axes = plt.subplots((n-1)/4+1, 4, figsize=(24, n*3/2))\n",
    "\n",
    "# Repeat for each coefficient\n",
    "for cl in range(n):\n",
    "    axe = axes[cl / 4][cl % 4]\n",
    "   \n",
    "    _ = scores.ix[cl].plot(kind='bar', ax = axe)\n",
    "    _ = axe.set_title(cl)"
   ]
  },
  {
   "cell_type": "markdown",
   "metadata": {},
   "source": [
    "## Build Transmission Matrix with bigrams"
   ]
  },
  {
   "cell_type": "code",
   "execution_count": null,
   "metadata": {
    "collapsed": false
   },
   "outputs": [],
   "source": [
    "pl = reload(pl)\n",
    "A_df, n_unique, unique_chars, id_to_char, char_to_id  = pl.build_transmission_full()\n",
    "A_df.head()"
   ]
  },
  {
   "cell_type": "markdown",
   "metadata": {},
   "source": [
    "##  Check the proportion of spaces across the k means classes"
   ]
  },
  {
   "cell_type": "code",
   "execution_count": null,
   "metadata": {
    "collapsed": false
   },
   "outputs": [],
   "source": [
    "space_props= pl.get_props(cepstrum_df, NUM_CLUSTERS, ' ')\n",
    "_  = space_props.plot(kind='bar', title = 'Space Proportions')"
   ]
  },
  {
   "cell_type": "markdown",
   "metadata": {},
   "source": [
    "## Build emissions matrix"
   ]
  },
  {
   "cell_type": "code",
   "execution_count": null,
   "metadata": {
    "collapsed": false
   },
   "outputs": [],
   "source": [
    "Eta = pl.build_eta(cepstrum_df, unique_chars, NUM_CLUSTERS, do_all = DO_ALL)\n",
    "Eta\n"
   ]
  },
  {
   "cell_type": "markdown",
   "metadata": {},
   "source": [
    "## Get Unigram proportions"
   ]
  },
  {
   "cell_type": "code",
   "execution_count": null,
   "metadata": {
    "collapsed": false
   },
   "outputs": [],
   "source": [
    "char_counts = pl.get_char_counts(targ_s, unique_chars)\n",
    "char_counts"
   ]
  },
  {
   "cell_type": "markdown",
   "metadata": {},
   "source": [
    "## Run HMM"
   ]
  },
  {
   "cell_type": "code",
   "execution_count": null,
   "metadata": {
    "collapsed": false
   },
   "outputs": [],
   "source": [
    "Eta"
   ]
  },
  {
   "cell_type": "code",
   "execution_count": null,
   "metadata": {
    "collapsed": false
   },
   "outputs": [],
   "source": [
    "# smooth = 0.5\n",
    "# estimate, acc, acc_wospace, score, hmm = pl.run_hmm(cepstrum_df, targ_s, \n",
    "#                                                     NUM_CLUSTERS, t_smooth = smooth, tol = TOL,\n",
    "#                                                     do_all = DO_ALL, verbose = True)  \n",
    "# params,_id = build_params(smooth)\n",
    "# params['OVERALL_ACCURACY'] = acc\n",
    "# params['ACCURACY_WO_SPACES'] = acc_wospace\n",
    "# params['PREDICTION'] = estimate\n",
    "# params['SCORE'] = score\n",
    "# params['MODEL'] = hmm\n",
    "\n",
    "# if acc > SAVE_THRESH:\n",
    "#     save(hmm, acc, _id)\n",
    "# else:\n",
    "#     save()"
   ]
  },
  {
   "cell_type": "code",
   "execution_count": null,
   "metadata": {
    "collapsed": false
   },
   "outputs": [],
   "source": [
    "# estimate"
   ]
  },
  {
   "cell_type": "code",
   "execution_count": null,
   "metadata": {
    "collapsed": false
   },
   "outputs": [],
   "source": [
    "targ_s"
   ]
  },
  {
   "cell_type": "code",
   "execution_count": null,
   "metadata": {
    "collapsed": false,
    "scrolled": false
   },
   "outputs": [],
   "source": [
    "# smooths = map(lambda x : np.exp(x), range(-10, 10))\n",
    "# smooths = np.arange(0,2,.1)\n",
    "for smooth in smooths:\n",
    "    estimate, acc, acc_wospace, score, hmm = pl.run_hmm(cepstrum_df, targ_s, \n",
    "                                                    NUM_CLUSTERS, t_smooth = smooth, tol = TOL,\n",
    "                                                    do_all = DO_ALL, verbose = False)  \n",
    "    params,_id = build_params(smooth)\n",
    "    params['OVERALL_ACCURACY'] = acc\n",
    "    params['ACCURACY_WO_SPACES'] = acc_wospace\n",
    "    params['PREDICTION'] = estimate\n",
    "    params['SCORE'] = score\n",
    "    params['MODEL'] = hmm\n",
    "\n",
    "    if acc > SAVE_THRESH:\n",
    "        save(hmm, acc, _id)\n",
    "    else:\n",
    "        save()\n",
    "    print smooth, acc, acc_wospace, score\n",
    "    print estimate"
   ]
  },
  {
   "cell_type": "code",
   "execution_count": null,
   "metadata": {
    "collapsed": true
   },
   "outputs": [],
   "source": []
  },
  {
   "cell_type": "code",
   "execution_count": null,
   "metadata": {
    "collapsed": true
   },
   "outputs": [],
   "source": []
  },
  {
   "cell_type": "code",
   "execution_count": null,
   "metadata": {
    "collapsed": false
   },
   "outputs": [],
   "source": [
    "save()"
   ]
  },
  {
   "cell_type": "code",
   "execution_count": null,
   "metadata": {
    "collapsed": true
   },
   "outputs": [],
   "source": []
  },
  {
   "cell_type": "code",
   "execution_count": null,
   "metadata": {
    "collapsed": false,
    "scrolled": true
   },
   "outputs": [],
   "source": [
    "def scrapeone():\n",
    "    webpage = 'https://www.gutenberg.org/files/11/11-h/11-h.htm'\n",
    "    html = urllib.urlopen(webpage).read()\n",
    "    soup = BeautifulSoup(html, 'html.parser')\n",
    "    texts = soup.findAll(text=True)\n",
    "    import re\n",
    "    def visible(element):\n",
    "        if element.parent.name in ['style', 'script', '[document]', 'head', 'title']:\n",
    "            return False\n",
    "        elif re.match('<!--.*-->', str(element.encode('utf-8'))):\n",
    "            return False\n",
    "        return True\n",
    "\n",
    "    unique_chars = [' '] + map(lambda x : chr(x + ord('a')), range(26))\n",
    "\n",
    "    raw_text = filter(lambda x : x in unique_chars, ' '.join(filter(visible, texts)).replace('\\r\\n', ' ').replace('\\n', ' ').replace('\\u2018', '').replace('\\u2019', '').lower())\n",
    "    raw_text = ' '.join(raw_text.split())\n",
    "\n",
    "def scrape():\n",
    "    results = {}\n",
    "    raw_text_all = ''\n",
    "    webpages = ['https://www.gutenberg.org/files/11/11-h/11-h.htm', 'https://www.gutenberg.org/files/1342/1342-h/1342-h.htm',\n",
    "               'https://www.gutenberg.org/files/46/46-h/46-h.htm', 'https://www.gutenberg.org/files/84/84-h/84-h.htm',\n",
    "               'https://www.gutenberg.org/files/76/76-h/76-h.htm', 'https://www.gutenberg.org/files/844/844-h/844-h.htm',\n",
    "               'https://www.gutenberg.org/files/53638/53638-h/53638-h.htm', 'https://www.gutenberg.org/files/2542/2542-h/2542-h.htm',\n",
    "               'https://www.gutenberg.org/files/1400/1400-h/1400-h.htm', 'https://www.gutenberg.org/files/98/98-h/98-h.htm',\n",
    "               'https://www.gutenberg.org/files/74/74-h/74-h.htm', 'https://www.gutenberg.org/files/53641/53641-h/53641-h.html',\n",
    "               'https://www.gutenberg.org/files/1232/1232-h/1232-h.htm', 'https://www.gutenberg.org/files/1661/1661-h/1661-h.htm',\n",
    "               'https://www.gutenberg.org/files/345/345-h/345-h.htm', 'https://www.gutenberg.org/files/160/160-h/160-h.htm',\n",
    "               'https://www.gutenberg.org/files/5200/5200-h/5200-h.htm', 'http://www.gutenberg.org/cache/epub/30254/pg30254.html',\n",
    "               'https://www.gutenberg.org/files/1952/1952-h/1952-h.htm', 'https://www.gutenberg.org/files/2600/2600-h/2600-h.htm',\n",
    "               'https://www.gutenberg.org/files/174/174-h/174-h.htm', 'https://www.gutenberg.org/files/2701/2701-h/2701-h.htm']\n",
    "    for page in tqdm(webpages):\n",
    "        html = urllib.urlopen(webpage).read()\n",
    "        soup = BeautifulSoup(html, 'html.parser')\n",
    "        texts = soup.findAll(text=True)\n",
    "        import re\n",
    "        def visible(element):\n",
    "            if element.parent.name in ['style', 'script', '[document]', 'head', 'title']:\n",
    "                return False\n",
    "            elif re.match('<!--.*-->', str(element.encode('utf-8'))):\n",
    "                return False\n",
    "            return True\n",
    "\n",
    "        unique_chars = [' '] + map(lambda x : chr(x + ord('a')), range(26))\n",
    "\n",
    "        raw_text = filter(lambda x : x in unique_chars, ' '.join(filter(visible, texts)).replace('\\r\\n', ' ').replace('\\n', ' ').replace('\\u2018', '').replace('\\u2019', '').lower())\n",
    "        raw_text = ' '.join(raw_text.split())\n",
    "        results[page] = raw_text\n",
    "        raw_text_all += raw_text\n",
    "        time.sleep(2)\n",
    "# with open('data/guttenberg_text.txt', 'w') as f:\n",
    "#     f.write(raw_text_all)"
   ]
  }
 ],
 "metadata": {
  "kernelspec": {
   "display_name": "Python 2",
   "language": "python",
   "name": "python2"
  },
  "language_info": {
   "codemirror_mode": {
    "name": "ipython",
    "version": 2
   },
   "file_extension": ".py",
   "mimetype": "text/x-python",
   "name": "python",
   "nbconvert_exporter": "python",
   "pygments_lexer": "ipython2",
   "version": "2.7.11"
  }
 },
 "nbformat": 4,
 "nbformat_minor": 0
}
