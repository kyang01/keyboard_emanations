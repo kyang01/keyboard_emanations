{
 "cells": [
  {
   "cell_type": "markdown",
   "metadata": {},
   "source": [
    "## Imports"
   ]
  },
  {
   "cell_type": "code",
   "execution_count": 1,
   "metadata": {
    "collapsed": false
   },
   "outputs": [],
   "source": [
    "import warnings\n",
    "warnings.filterwarnings(\"ignore\", category=UserWarning) \n",
    "warnings.filterwarnings(\"ignore\", category=FutureWarning)\n",
    "\n",
    "%matplotlib inline\n",
    "import pandas as pd\n",
    "import numpy as np\n",
    "import sys, os, time, datetime\n",
    "import matplotlib.pyplot as plt\n",
    "\n",
    "\n",
    "sys.path.append('libraries')\n",
    "import signal_processing as spl \n",
    "import prediction_lib as pl\n",
    "pl = reload(pl)\n",
    "spl = reload(spl)"
   ]
  },
  {
   "cell_type": "code",
   "execution_count": 2,
   "metadata": {
    "collapsed": true
   },
   "outputs": [],
   "source": [
    "import numpy as np\n",
    "from bs4 import BeautifulSoup\n",
    "from collections import Counter\n",
    "import urllib\n",
    "import matplotlib\n",
    "import matplotlib.pyplot as plt\n",
    "from mpl_toolkits.mplot3d import Axes3D\n",
    "import matplotlib.cm as cmx\n",
    "import matplotlib.colors as colors\n",
    "import pandas as pd\n",
    "from sklearn.linear_model import LogisticRegression as LogReg\n",
    "from sklearn.linear_model import LogisticRegressionCV as LogRegCV\n",
    "from sklearn.feature_extraction.text import CountVectorizer\n",
    "from sklearn.preprocessing import LabelEncoder\n",
    "from sklearn.metrics import confusion_matrix\n",
    "from sklearn.neighbors import KNeighborsClassifier as KNN\n",
    "from sklearn.decomposition import PCA\n",
    "from tqdm import tqdm\n",
    "import sys\n",
    "from scipy import optimize\n",
    "from IPython import display\n",
    "from collections import Counter\n",
    "from sklearn.externals import joblib\n",
    "\n",
    "from scipy.cluster.vq import kmeans2,vq, whiten\n",
    "from sklearn.cluster import KMeans\n",
    "from hmmlearn.hmm import MultinomialHMM\n",
    "from python_speech_features import mfcc"
   ]
  },
  {
   "cell_type": "markdown",
   "metadata": {},
   "source": [
    "##  Load in Signal DF"
   ]
  },
  {
   "cell_type": "code",
   "execution_count": 9,
   "metadata": {
    "collapsed": false
   },
   "outputs": [],
   "source": [
    "load = True\n",
    "name = 'LABELED_CHARACTER_INPUTS'\n",
    "INPUT_FILE = 'data/%s.csv' % name\n",
    "out_name = 'results/%s_RESULTS.csv' % name"
   ]
  },
  {
   "cell_type": "code",
   "execution_count": 10,
   "metadata": {
    "collapsed": false
   },
   "outputs": [
    {
     "data": {
      "text/html": [
       "<div>\n",
       "<table border=\"1\" class=\"dataframe\">\n",
       "  <thead>\n",
       "    <tr style=\"text-align: right;\">\n",
       "      <th></th>\n",
       "      <th>ACCURACY_WO_SPACES</th>\n",
       "      <th>DO_ALL</th>\n",
       "      <th>INPUT_FILE</th>\n",
       "      <th>MAX_COLS</th>\n",
       "      <th>MFCC_END</th>\n",
       "      <th>MFCC_START</th>\n",
       "      <th>MODEL</th>\n",
       "      <th>MODEL_FNAME</th>\n",
       "      <th>NUM_CLUSTERS</th>\n",
       "      <th>N_COMPONENTS</th>\n",
       "      <th>OVERALL_ACCURACY</th>\n",
       "      <th>PREDICTION</th>\n",
       "      <th>RATE</th>\n",
       "      <th>SCORE</th>\n",
       "      <th>SMOOTH</th>\n",
       "      <th>TOL</th>\n",
       "      <th>WHITEN</th>\n",
       "    </tr>\n",
       "  </thead>\n",
       "  <tbody>\n",
       "    <tr>\n",
       "      <th>2016-12-02 17:04:58.700675</th>\n",
       "      <td>0.482840</td>\n",
       "      <td>True</td>\n",
       "      <td>data/LABELED_CHARACTER_INPUTS.csv</td>\n",
       "      <td>-1</td>\n",
       "      <td>-60</td>\n",
       "      <td>0</td>\n",
       "      <td>MultinomialHMM(algorithm='viterbi', init_param...</td>\n",
       "      <td>models/2016-12-02 17:04:58.700675-0.5684410646...</td>\n",
       "      <td>50</td>\n",
       "      <td>100.0</td>\n",
       "      <td>0.568441</td>\n",
       "      <td>alice sas helingang to fed beco soved ly witth...</td>\n",
       "      <td>44100</td>\n",
       "      <td>-3820.143368</td>\n",
       "      <td>0.135335</td>\n",
       "      <td>0.01</td>\n",
       "      <td>True</td>\n",
       "    </tr>\n",
       "    <tr>\n",
       "      <th>2016-12-02 17:13:51.388016</th>\n",
       "      <td>0.473373</td>\n",
       "      <td>True</td>\n",
       "      <td>data/LABELED_CHARACTER_INPUTS.csv</td>\n",
       "      <td>-1</td>\n",
       "      <td>-60</td>\n",
       "      <td>0</td>\n",
       "      <td>MultinomialHMM(algorithm='viterbi', init_param...</td>\n",
       "      <td>models/2016-12-02 17:13:51.388016-0.5627376425...</td>\n",
       "      <td>40</td>\n",
       "      <td>100.0</td>\n",
       "      <td>0.562738</td>\n",
       "      <td>alice wad hedithing to jed bere theed ly withi...</td>\n",
       "      <td>44100</td>\n",
       "      <td>-3696.973774</td>\n",
       "      <td>0.135335</td>\n",
       "      <td>0.01</td>\n",
       "      <td>True</td>\n",
       "    </tr>\n",
       "    <tr>\n",
       "      <th>2016-12-02 17:36:26.673856</th>\n",
       "      <td>0.474556</td>\n",
       "      <td>True</td>\n",
       "      <td>data/LABELED_CHARACTER_INPUTS.csv</td>\n",
       "      <td>-1</td>\n",
       "      <td>-60</td>\n",
       "      <td>0</td>\n",
       "      <td>MultinomialHMM(algorithm='viterbi', init_param...</td>\n",
       "      <td>models/2016-12-02 17:36:26.673856-0.5598859315...</td>\n",
       "      <td>50</td>\n",
       "      <td>100.0</td>\n",
       "      <td>0.559886</td>\n",
       "      <td>allke sas hedingang fo sen bend theed be wicea...</td>\n",
       "      <td>44100</td>\n",
       "      <td>-3808.791942</td>\n",
       "      <td>20.085537</td>\n",
       "      <td>0.01</td>\n",
       "      <td>True</td>\n",
       "    </tr>\n",
       "    <tr>\n",
       "      <th>2016-12-02 17:36:18.340493</th>\n",
       "      <td>0.473373</td>\n",
       "      <td>True</td>\n",
       "      <td>data/LABELED_CHARACTER_INPUTS.csv</td>\n",
       "      <td>-1</td>\n",
       "      <td>-60</td>\n",
       "      <td>0</td>\n",
       "      <td>MultinomialHMM(algorithm='viterbi', init_param...</td>\n",
       "      <td>models/2016-12-02 17:36:18.340493-0.5589353612...</td>\n",
       "      <td>50</td>\n",
       "      <td>100.0</td>\n",
       "      <td>0.558935</td>\n",
       "      <td>allke sas hedongang fo sen bend theed be wimea...</td>\n",
       "      <td>44100</td>\n",
       "      <td>-3805.940816</td>\n",
       "      <td>7.389056</td>\n",
       "      <td>0.01</td>\n",
       "      <td>True</td>\n",
       "    </tr>\n",
       "    <tr>\n",
       "      <th>2016-12-02 17:18:29.780474</th>\n",
       "      <td>0.465089</td>\n",
       "      <td>True</td>\n",
       "      <td>data/LABELED_CHARACTER_INPUTS.csv</td>\n",
       "      <td>-1</td>\n",
       "      <td>-60</td>\n",
       "      <td>0</td>\n",
       "      <td>MultinomialHMM(algorithm='viterbi', init_param...</td>\n",
       "      <td>models/2016-12-02 17:18:29.780474-0.5570342205...</td>\n",
       "      <td>40</td>\n",
       "      <td>100.0</td>\n",
       "      <td>0.557034</td>\n",
       "      <td>alime was hexinting ce bed oury ticed be wicck...</td>\n",
       "      <td>44100</td>\n",
       "      <td>-3660.052002</td>\n",
       "      <td>0.135335</td>\n",
       "      <td>0.01</td>\n",
       "      <td>True</td>\n",
       "    </tr>\n",
       "  </tbody>\n",
       "</table>\n",
       "</div>"
      ],
      "text/plain": [
       "                            ACCURACY_WO_SPACES DO_ALL  \\\n",
       "2016-12-02 17:04:58.700675            0.482840   True   \n",
       "2016-12-02 17:13:51.388016            0.473373   True   \n",
       "2016-12-02 17:36:26.673856            0.474556   True   \n",
       "2016-12-02 17:36:18.340493            0.473373   True   \n",
       "2016-12-02 17:18:29.780474            0.465089   True   \n",
       "\n",
       "                                                   INPUT_FILE  MAX_COLS  \\\n",
       "2016-12-02 17:04:58.700675  data/LABELED_CHARACTER_INPUTS.csv        -1   \n",
       "2016-12-02 17:13:51.388016  data/LABELED_CHARACTER_INPUTS.csv        -1   \n",
       "2016-12-02 17:36:26.673856  data/LABELED_CHARACTER_INPUTS.csv        -1   \n",
       "2016-12-02 17:36:18.340493  data/LABELED_CHARACTER_INPUTS.csv        -1   \n",
       "2016-12-02 17:18:29.780474  data/LABELED_CHARACTER_INPUTS.csv        -1   \n",
       "\n",
       "                            MFCC_END  MFCC_START  \\\n",
       "2016-12-02 17:04:58.700675       -60           0   \n",
       "2016-12-02 17:13:51.388016       -60           0   \n",
       "2016-12-02 17:36:26.673856       -60           0   \n",
       "2016-12-02 17:36:18.340493       -60           0   \n",
       "2016-12-02 17:18:29.780474       -60           0   \n",
       "\n",
       "                                                                        MODEL  \\\n",
       "2016-12-02 17:04:58.700675  MultinomialHMM(algorithm='viterbi', init_param...   \n",
       "2016-12-02 17:13:51.388016  MultinomialHMM(algorithm='viterbi', init_param...   \n",
       "2016-12-02 17:36:26.673856  MultinomialHMM(algorithm='viterbi', init_param...   \n",
       "2016-12-02 17:36:18.340493  MultinomialHMM(algorithm='viterbi', init_param...   \n",
       "2016-12-02 17:18:29.780474  MultinomialHMM(algorithm='viterbi', init_param...   \n",
       "\n",
       "                                                                  MODEL_FNAME  \\\n",
       "2016-12-02 17:04:58.700675  models/2016-12-02 17:04:58.700675-0.5684410646...   \n",
       "2016-12-02 17:13:51.388016  models/2016-12-02 17:13:51.388016-0.5627376425...   \n",
       "2016-12-02 17:36:26.673856  models/2016-12-02 17:36:26.673856-0.5598859315...   \n",
       "2016-12-02 17:36:18.340493  models/2016-12-02 17:36:18.340493-0.5589353612...   \n",
       "2016-12-02 17:18:29.780474  models/2016-12-02 17:18:29.780474-0.5570342205...   \n",
       "\n",
       "                            NUM_CLUSTERS  N_COMPONENTS  OVERALL_ACCURACY  \\\n",
       "2016-12-02 17:04:58.700675            50         100.0          0.568441   \n",
       "2016-12-02 17:13:51.388016            40         100.0          0.562738   \n",
       "2016-12-02 17:36:26.673856            50         100.0          0.559886   \n",
       "2016-12-02 17:36:18.340493            50         100.0          0.558935   \n",
       "2016-12-02 17:18:29.780474            40         100.0          0.557034   \n",
       "\n",
       "                                                                   PREDICTION  \\\n",
       "2016-12-02 17:04:58.700675  alice sas helingang to fed beco soved ly witth...   \n",
       "2016-12-02 17:13:51.388016  alice wad hedithing to jed bere theed ly withi...   \n",
       "2016-12-02 17:36:26.673856  allke sas hedingang fo sen bend theed be wicea...   \n",
       "2016-12-02 17:36:18.340493  allke sas hedongang fo sen bend theed be wimea...   \n",
       "2016-12-02 17:18:29.780474  alime was hexinting ce bed oury ticed be wicck...   \n",
       "\n",
       "                             RATE        SCORE     SMOOTH   TOL WHITEN  \n",
       "2016-12-02 17:04:58.700675  44100 -3820.143368   0.135335  0.01   True  \n",
       "2016-12-02 17:13:51.388016  44100 -3696.973774   0.135335  0.01   True  \n",
       "2016-12-02 17:36:26.673856  44100 -3808.791942  20.085537  0.01   True  \n",
       "2016-12-02 17:36:18.340493  44100 -3805.940816   7.389056  0.01   True  \n",
       "2016-12-02 17:18:29.780474  44100 -3660.052002   0.135335  0.01   True  "
      ]
     },
     "execution_count": 10,
     "metadata": {},
     "output_type": "execute_result"
    }
   ],
   "source": [
    "if load and os.path.exists(out_name):\n",
    "    RESULTS_DF = pd.read_csv(out_name, index_col = 0)\n",
    "    RESULTS_DF.head()\n",
    "else:\n",
    "    RESULTS_DF = None\n"
   ]
  },
  {
   "cell_type": "code",
   "execution_count": 11,
   "metadata": {
    "collapsed": false
   },
   "outputs": [
    {
     "data": {
      "text/html": [
       "<div>\n",
       "<table border=\"1\" class=\"dataframe\">\n",
       "  <thead>\n",
       "    <tr style=\"text-align: right;\">\n",
       "      <th></th>\n",
       "      <th>index</th>\n",
       "      <th>peak time</th>\n",
       "      <th>signal</th>\n",
       "      <th>start time</th>\n",
       "      <th>end time</th>\n",
       "      <th>char</th>\n",
       "      <th>is_space</th>\n",
       "      <th>peak_diff</th>\n",
       "      <th>0</th>\n",
       "      <th>1</th>\n",
       "      <th>...</th>\n",
       "      <th>16791</th>\n",
       "      <th>16792</th>\n",
       "      <th>16793</th>\n",
       "      <th>16794</th>\n",
       "      <th>16795</th>\n",
       "      <th>16796</th>\n",
       "      <th>16797</th>\n",
       "      <th>16798</th>\n",
       "      <th>16799</th>\n",
       "      <th>16800</th>\n",
       "    </tr>\n",
       "  </thead>\n",
       "  <tbody>\n",
       "    <tr>\n",
       "      <th>1042</th>\n",
       "      <td>1086</td>\n",
       "      <td>596.346667</td>\n",
       "      <td>12875.447266</td>\n",
       "      <td>596.311667</td>\n",
       "      <td>596.661667</td>\n",
       "      <td>b</td>\n",
       "      <td>0</td>\n",
       "      <td>0.270667</td>\n",
       "      <td>18.0</td>\n",
       "      <td>20.0</td>\n",
       "      <td>...</td>\n",
       "      <td>98.0</td>\n",
       "      <td>98.0</td>\n",
       "      <td>-60.0</td>\n",
       "      <td>-27.0</td>\n",
       "      <td>88.0</td>\n",
       "      <td>85.0</td>\n",
       "      <td>46.0</td>\n",
       "      <td>-21.0</td>\n",
       "      <td>-80.0</td>\n",
       "      <td>0.0</td>\n",
       "    </tr>\n",
       "    <tr>\n",
       "      <th>1043</th>\n",
       "      <td>1087</td>\n",
       "      <td>596.617333</td>\n",
       "      <td>22127.296875</td>\n",
       "      <td>596.582333</td>\n",
       "      <td>596.932333</td>\n",
       "      <td>b</td>\n",
       "      <td>0</td>\n",
       "      <td>0.149333</td>\n",
       "      <td>17.0</td>\n",
       "      <td>13.0</td>\n",
       "      <td>...</td>\n",
       "      <td>9.0</td>\n",
       "      <td>7.0</td>\n",
       "      <td>6.0</td>\n",
       "      <td>10.0</td>\n",
       "      <td>11.0</td>\n",
       "      <td>10.0</td>\n",
       "      <td>10.0</td>\n",
       "      <td>11.0</td>\n",
       "      <td>9.0</td>\n",
       "      <td>0.0</td>\n",
       "    </tr>\n",
       "    <tr>\n",
       "      <th>1044</th>\n",
       "      <td>1088</td>\n",
       "      <td>596.766667</td>\n",
       "      <td>2168.157959</td>\n",
       "      <td>596.731667</td>\n",
       "      <td>597.081667</td>\n",
       "      <td>i</td>\n",
       "      <td>0</td>\n",
       "      <td>0.354667</td>\n",
       "      <td>-5.0</td>\n",
       "      <td>4.0</td>\n",
       "      <td>...</td>\n",
       "      <td>-14.0</td>\n",
       "      <td>-16.0</td>\n",
       "      <td>-17.0</td>\n",
       "      <td>-13.0</td>\n",
       "      <td>-13.0</td>\n",
       "      <td>-21.0</td>\n",
       "      <td>-21.0</td>\n",
       "      <td>-14.0</td>\n",
       "      <td>-14.0</td>\n",
       "      <td>-19.0</td>\n",
       "    </tr>\n",
       "    <tr>\n",
       "      <th>1045</th>\n",
       "      <td>1089</td>\n",
       "      <td>597.121333</td>\n",
       "      <td>1214.426758</td>\n",
       "      <td>597.086333</td>\n",
       "      <td>597.436333</td>\n",
       "      <td>t</td>\n",
       "      <td>0</td>\n",
       "      <td>0.294000</td>\n",
       "      <td>26.0</td>\n",
       "      <td>26.0</td>\n",
       "      <td>...</td>\n",
       "      <td>48.0</td>\n",
       "      <td>243.0</td>\n",
       "      <td>253.0</td>\n",
       "      <td>147.0</td>\n",
       "      <td>56.0</td>\n",
       "      <td>-3.0</td>\n",
       "      <td>99.0</td>\n",
       "      <td>157.0</td>\n",
       "      <td>53.0</td>\n",
       "      <td>0.0</td>\n",
       "    </tr>\n",
       "    <tr>\n",
       "      <th>1046</th>\n",
       "      <td>1090</td>\n",
       "      <td>597.415333</td>\n",
       "      <td>25453.357422</td>\n",
       "      <td>597.380333</td>\n",
       "      <td>597.730333</td>\n",
       "      <td></td>\n",
       "      <td>1</td>\n",
       "      <td>1.591333</td>\n",
       "      <td>10.0</td>\n",
       "      <td>6.0</td>\n",
       "      <td>...</td>\n",
       "      <td>-15.0</td>\n",
       "      <td>-15.0</td>\n",
       "      <td>-17.0</td>\n",
       "      <td>-25.0</td>\n",
       "      <td>-28.0</td>\n",
       "      <td>-21.0</td>\n",
       "      <td>-17.0</td>\n",
       "      <td>-21.0</td>\n",
       "      <td>-24.0</td>\n",
       "      <td>0.0</td>\n",
       "    </tr>\n",
       "    <tr>\n",
       "      <th>1047</th>\n",
       "      <td>1091</td>\n",
       "      <td>599.006667</td>\n",
       "      <td>6431.091797</td>\n",
       "      <td>598.971667</td>\n",
       "      <td>599.321667</td>\n",
       "      <td>h</td>\n",
       "      <td>0</td>\n",
       "      <td>0.247333</td>\n",
       "      <td>-3.0</td>\n",
       "      <td>-1.0</td>\n",
       "      <td>...</td>\n",
       "      <td>13.0</td>\n",
       "      <td>3.0</td>\n",
       "      <td>-6.0</td>\n",
       "      <td>17.0</td>\n",
       "      <td>10.0</td>\n",
       "      <td>-15.0</td>\n",
       "      <td>2.0</td>\n",
       "      <td>24.0</td>\n",
       "      <td>23.0</td>\n",
       "      <td>28.0</td>\n",
       "    </tr>\n",
       "    <tr>\n",
       "      <th>1048</th>\n",
       "      <td>1092</td>\n",
       "      <td>599.254000</td>\n",
       "      <td>3091.520508</td>\n",
       "      <td>599.219000</td>\n",
       "      <td>599.569000</td>\n",
       "      <td>o</td>\n",
       "      <td>0</td>\n",
       "      <td>0.462000</td>\n",
       "      <td>13.0</td>\n",
       "      <td>11.0</td>\n",
       "      <td>...</td>\n",
       "      <td>50.0</td>\n",
       "      <td>41.0</td>\n",
       "      <td>34.0</td>\n",
       "      <td>32.0</td>\n",
       "      <td>28.0</td>\n",
       "      <td>21.0</td>\n",
       "      <td>16.0</td>\n",
       "      <td>13.0</td>\n",
       "      <td>10.0</td>\n",
       "      <td>8.0</td>\n",
       "    </tr>\n",
       "    <tr>\n",
       "      <th>1049</th>\n",
       "      <td>1093</td>\n",
       "      <td>599.716000</td>\n",
       "      <td>913.455261</td>\n",
       "      <td>599.681000</td>\n",
       "      <td>600.031000</td>\n",
       "      <td>l</td>\n",
       "      <td>0</td>\n",
       "      <td>0.270667</td>\n",
       "      <td>2.0</td>\n",
       "      <td>4.0</td>\n",
       "      <td>...</td>\n",
       "      <td>40.0</td>\n",
       "      <td>-36.0</td>\n",
       "      <td>-24.0</td>\n",
       "      <td>100.0</td>\n",
       "      <td>-11.0</td>\n",
       "      <td>-66.0</td>\n",
       "      <td>54.0</td>\n",
       "      <td>46.0</td>\n",
       "      <td>41.0</td>\n",
       "      <td>33.0</td>\n",
       "    </tr>\n",
       "    <tr>\n",
       "      <th>1050</th>\n",
       "      <td>1094</td>\n",
       "      <td>599.986667</td>\n",
       "      <td>17315.521484</td>\n",
       "      <td>599.951667</td>\n",
       "      <td>600.301667</td>\n",
       "      <td>e</td>\n",
       "      <td>0</td>\n",
       "      <td>0.200667</td>\n",
       "      <td>-13.0</td>\n",
       "      <td>-19.0</td>\n",
       "      <td>...</td>\n",
       "      <td>-17.0</td>\n",
       "      <td>-140.0</td>\n",
       "      <td>-119.0</td>\n",
       "      <td>0.0</td>\n",
       "      <td>59.0</td>\n",
       "      <td>63.0</td>\n",
       "      <td>87.0</td>\n",
       "      <td>89.0</td>\n",
       "      <td>61.0</td>\n",
       "      <td>-7.0</td>\n",
       "    </tr>\n",
       "    <tr>\n",
       "      <th>1051</th>\n",
       "      <td>1095</td>\n",
       "      <td>600.187333</td>\n",
       "      <td>5176.197266</td>\n",
       "      <td>600.152333</td>\n",
       "      <td>600.502333</td>\n",
       "      <td></td>\n",
       "      <td>0</td>\n",
       "      <td>0.000000</td>\n",
       "      <td>-18.0</td>\n",
       "      <td>-13.0</td>\n",
       "      <td>...</td>\n",
       "      <td>-12.0</td>\n",
       "      <td>-11.0</td>\n",
       "      <td>-7.0</td>\n",
       "      <td>-4.0</td>\n",
       "      <td>1.0</td>\n",
       "      <td>8.0</td>\n",
       "      <td>5.0</td>\n",
       "      <td>-1.0</td>\n",
       "      <td>2.0</td>\n",
       "      <td>6.0</td>\n",
       "    </tr>\n",
       "  </tbody>\n",
       "</table>\n",
       "<p>10 rows × 16809 columns</p>\n",
       "</div>"
      ],
      "text/plain": [
       "      index   peak time        signal  start time    end time char  is_space  \\\n",
       "1042   1086  596.346667  12875.447266  596.311667  596.661667    b         0   \n",
       "1043   1087  596.617333  22127.296875  596.582333  596.932333    b         0   \n",
       "1044   1088  596.766667   2168.157959  596.731667  597.081667    i         0   \n",
       "1045   1089  597.121333   1214.426758  597.086333  597.436333    t         0   \n",
       "1046   1090  597.415333  25453.357422  597.380333  597.730333              1   \n",
       "1047   1091  599.006667   6431.091797  598.971667  599.321667    h         0   \n",
       "1048   1092  599.254000   3091.520508  599.219000  599.569000    o         0   \n",
       "1049   1093  599.716000    913.455261  599.681000  600.031000    l         0   \n",
       "1050   1094  599.986667  17315.521484  599.951667  600.301667    e         0   \n",
       "1051   1095  600.187333   5176.197266  600.152333  600.502333              0   \n",
       "\n",
       "      peak_diff     0     1  ...    16791  16792  16793  16794  16795  16796  \\\n",
       "1042   0.270667  18.0  20.0  ...     98.0   98.0  -60.0  -27.0   88.0   85.0   \n",
       "1043   0.149333  17.0  13.0  ...      9.0    7.0    6.0   10.0   11.0   10.0   \n",
       "1044   0.354667  -5.0   4.0  ...    -14.0  -16.0  -17.0  -13.0  -13.0  -21.0   \n",
       "1045   0.294000  26.0  26.0  ...     48.0  243.0  253.0  147.0   56.0   -3.0   \n",
       "1046   1.591333  10.0   6.0  ...    -15.0  -15.0  -17.0  -25.0  -28.0  -21.0   \n",
       "1047   0.247333  -3.0  -1.0  ...     13.0    3.0   -6.0   17.0   10.0  -15.0   \n",
       "1048   0.462000  13.0  11.0  ...     50.0   41.0   34.0   32.0   28.0   21.0   \n",
       "1049   0.270667   2.0   4.0  ...     40.0  -36.0  -24.0  100.0  -11.0  -66.0   \n",
       "1050   0.200667 -13.0 -19.0  ...    -17.0 -140.0 -119.0    0.0   59.0   63.0   \n",
       "1051   0.000000 -18.0 -13.0  ...    -12.0  -11.0   -7.0   -4.0    1.0    8.0   \n",
       "\n",
       "      16797  16798  16799  16800  \n",
       "1042   46.0  -21.0  -80.0    0.0  \n",
       "1043   10.0   11.0    9.0    0.0  \n",
       "1044  -21.0  -14.0  -14.0  -19.0  \n",
       "1045   99.0  157.0   53.0    0.0  \n",
       "1046  -17.0  -21.0  -24.0    0.0  \n",
       "1047    2.0   24.0   23.0   28.0  \n",
       "1048   16.0   13.0   10.0    8.0  \n",
       "1049   54.0   46.0   41.0   33.0  \n",
       "1050   87.0   89.0   61.0   -7.0  \n",
       "1051    5.0   -1.0    2.0    6.0  \n",
       "\n",
       "[10 rows x 16809 columns]"
      ]
     },
     "execution_count": 11,
     "metadata": {},
     "output_type": "execute_result"
    }
   ],
   "source": [
    "char_inps_raw = pd.read_csv(INPUT_FILE, index_col=0)\n",
    "char_inps_raw['char'] = char_inps_raw['char'].fillna(' ').replace('#SPACE', ' ')\n",
    "# char_inps_raw['peak_diff'] =char_inps_raw['peak_diff'].fillna(0)\n",
    "char_inps_raw = char_inps_raw.fillna(0)\n",
    "char_inps_raw.tail(10)"
   ]
  },
  {
   "cell_type": "code",
   "execution_count": 12,
   "metadata": {
    "collapsed": false
   },
   "outputs": [
    {
     "data": {
      "text/plain": [
       "'alice was beginning to get very tired of sitting by her sister on the bank and having nothing to do once or twice she had peeped into the book her sister was reading but it had no pictures or conversations in it and what is the use of a book thought alice without pictures or conversations so she was considering in her own mind a well as she could for the hot day made her feel very sleepy and stupid whether the pleasure of making a daisy chain would be worth the trouble of getting up and picking the daisies when suddenly a white rabbit with pink eyes ran close by her there was nothing so very emarkable in that nor did alice think it so very much oh dear i shall be late it occurred to her afterwards she ought to have wondered at this but at the time it all seemed quite natural but when the rabbit actually toook a watch out of its packet and looked at it and then hurried on alice started to her feet and in another moment down went alice after it never once considering burning how in the world she was going to get out again the rabbit hole '"
      ]
     },
     "execution_count": 12,
     "metadata": {},
     "output_type": "execute_result"
    }
   ],
   "source": [
    "targ_s = ''.join(char_inps_raw['char'].values)\n",
    "targ_s"
   ]
  },
  {
   "cell_type": "code",
   "execution_count": 13,
   "metadata": {
    "collapsed": true
   },
   "outputs": [],
   "source": [
    "PARAM_RESULTS ={}"
   ]
  },
  {
   "cell_type": "markdown",
   "metadata": {},
   "source": [
    "## Processing "
   ]
  },
  {
   "cell_type": "code",
   "execution_count": 15,
   "metadata": {
    "collapsed": false
   },
   "outputs": [],
   "source": [
    "RATE = 44100\n",
    "WHITEN = True\n",
    "SAVE_THRESH= 0.25\n",
    "TOL = 1e-2\n",
    "\n",
    "should_loop = True\n",
    "\n",
    "\n",
    "MAX_COLS = -1\n",
    "MFCC_START = [0]\n",
    "MFCC_END = [-60]\n",
    "NUM_CLUSTERS = [50]\n",
    "N_COMPONENTS = [100]\n",
    "DO_ALL = False\n",
    "\n",
    "\n",
    "REPEATS = 24\n",
    "SMOOTHS = map(lambda x : np.exp(x), range(-2,2))"
   ]
  },
  {
   "cell_type": "code",
   "execution_count": 16,
   "metadata": {
    "collapsed": false
   },
   "outputs": [
    {
     "name": "stdout",
     "output_type": "stream",
     "text": [
      "0.135335283237 0.470532319392 0.366863905325 -3789.80835827\n",
      "0.367879441171 0.470532319392 0.363313609467 -3826.64141541\n",
      "1.0 0.469581749049 0.359763313609 -3807.39166521\n",
      "2.71828182846 0.231939163498 0.0686390532544 -3838.11715369\n",
      "0.135335283237 0.454372623574 0.34201183432 -3876.72449007\n",
      "0.367879441171 0.252851711027 0.0994082840237 -3887.13428405\n",
      "1.0 0.394486692015 0.274556213018 -3903.70311445\n",
      "2.71828182846 0.442015209125 0.326627218935 -3907.5167677\n",
      "0.135335283237 0.257604562738 0.0899408284024 -3920.22081671\n",
      "0.367879441171 0.415399239544 0.289940828402 -3886.23654189\n",
      "1.0 0.467680608365 0.352662721893 -3867.15530889\n",
      "2.71828182846 0.42680608365 0.302958579882 -3898.22592841\n",
      "0.135335283237 0.455323193916 0.343195266272 -3834.35402038\n",
      "0.367879441171 0.43536121673 0.320710059172 -3808.05812262\n",
      "1.0 0.278517110266 0.131360946746 -3867.31778981\n",
      "2.71828182846 0.405893536122 0.294674556213 -3829.25339533\n",
      "0.135335283237 0.432509505703 0.31124260355 -3872.6013116\n",
      "0.367879441171 0.411596958175 0.282840236686 -3904.48447268\n",
      "1.0 0.358365019011 0.220118343195 -3936.56592813\n",
      "2.71828182846 0.40969581749 0.282840236686 -3917.08186709\n",
      "0.135335283237 0.286121673004 0.131360946746 -3866.1708303\n",
      "0.367879441171 0.269961977186 0.125443786982 -3877.1271476\n",
      "1.0 0.423003802281 0.305325443787 -3885.94688945\n",
      "2.71828182846 0.352661596958 0.224852071006 -3908.98568168\n",
      "0.135335283237 0.266159695817 0.123076923077 -3921.62241756\n",
      "0.367879441171 0.43536121673 0.314792899408 -3908.66643751\n",
      "1.0 0.349809885932 0.222485207101 -3945.65973225\n",
      "2.71828182846 0.384980988593 0.252071005917 -3943.82687076\n",
      "0.135335283237 0.349809885932 0.21775147929 -3860.74597798\n",
      "0.367879441171 0.437262357414 0.319526627219 -3865.64011549\n",
      "1.0 0.365019011407 0.240236686391 -3828.46194471\n",
      "2.71828182846 0.304182509506 0.160946745562 -3842.48190662\n",
      "0.135335283237 0.411596958175 0.298224852071 -3906.53049144\n",
      "0.367879441171 0.46102661597 0.355029585799 -3926.64800428\n",
      "1.0 0.3963878327 0.278106508876 -3943.23903\n",
      "2.71828182846 0.366920152091 0.242603550296 -3955.79314019\n",
      "0.135335283237 0.299429657795 0.153846153846 -3852.08977395\n",
      "0.367879441171 0.414448669202 0.295857988166 -3788.9709201\n",
      "1.0 0.265209125475 0.117159763314 -3824.58249054\n",
      "2.71828182846 0.337452471483 0.195266272189 -3828.44971494\n",
      "0.135335283237 0.451520912548 0.339644970414 -3866.67717616\n",
      "0.367879441171 0.430608365019 0.315976331361 -3866.06495047\n",
      "1.0 0.31463878327 0.178698224852 -3919.01695012\n",
      "2.71828182846 0.280418250951 0.134911242604 -3935.44950385\n",
      "0.135335283237 0.290874524715 0.145562130178 -3896.33922752\n",
      "0.367879441171 0.34030418251 0.198816568047 -3899.20227641\n",
      "1.0 0.25 0.087573964497 -3915.66555315\n",
      "2.71828182846 0.293726235741 0.14674556213 -3899.94797615\n",
      "0.135335283237 0.245247148289 0.0828402366864 -3889.98449005\n",
      "0.367879441171 0.268060836502 0.107692307692 -3908.57879911\n",
      "1.0 0.442015209125 0.326627218935 -3878.93009879\n",
      "2.71828182846 0.373574144487 0.239053254438 -3896.26747338\n",
      "0.135335283237 0.455323193916 0.337278106509 -3811.6729677\n",
      "0.367879441171 0.440114068441 0.318343195266 -3783.7108802\n",
      "1.0 0.250950570342 0.0863905325444 -3850.43218793\n",
      "2.71828182846 0.329847908745 0.181065088757 -3827.18448795\n",
      "0.135335283237 0.342205323194 0.211834319527 -3922.35990852\n",
      "0.367879441171 0.431558935361 0.323076923077 -3897.45646907\n",
      "1.0 0.365019011407 0.239053254438 -3968.53222089\n",
      "2.71828182846 0.408745247148 0.295857988166 -3900.15950939\n",
      "0.135335283237 0.3536121673 0.220118343195 -3921.85470534\n",
      "0.367879441171 0.413498098859 0.294674556213 -3907.15452007\n",
      "1.0 0.256653992395 0.113609467456 -3962.03225948\n",
      "2.71828182846 0.311787072243 0.168047337278 -3954.80017985\n",
      "0.135335283237 0.366920152091 0.227218934911 -3907.10207445\n",
      "0.367879441171 0.225285171103 0.0615384615385 -3956.53244551\n",
      "1.0 0.368821292776 0.236686390533 -3945.10700197\n",
      "2.71828182846 0.291825095057 0.140828402367 -3945.63180328\n",
      "0.135335283237 0.400190114068 0.28875739645 -3833.59686965\n",
      "0.367879441171 0.454372623574 0.343195266272 -3843.50509722\n",
      "1.0 0.324144486692 0.178698224852 -3832.72460597\n",
      "2.71828182846 0.344106463878 0.2 -3879.60808169\n",
      "0.135335283237 0.394486692015 0.25798816568 -3916.78366588\n",
      "0.367879441171 0.395437262357 0.25798816568 -3922.45813947\n",
      "1.0 0.374524714829 0.234319526627 -3899.15596937\n",
      "2.71828182846 0.463878326996 0.345562130178 -3916.39059712\n",
      "0.135335283237 0.294676806084 0.153846153846 -3882.35507239\n",
      "0.367879441171 0.400190114068 0.287573964497 -3864.04105951\n",
      "1.0 0.335551330798 0.211834319527 -3903.4364545\n",
      "2.71828182846 0.43536121673 0.32899408284 -3879.99007911\n",
      "0.135335283237 0.277566539924 0.127810650888 -3944.07706963\n",
      "0.367879441171 0.256653992395 0.0934911242604 -3907.63196885\n",
      "1.0 0.37072243346 0.23550295858 -3888.58270733\n",
      "2.71828182846 0.424904942966 0.301775147929 -3889.13208039\n",
      "0.135335283237 0.478136882129 0.377514792899 -3824.41288327\n",
      "0.367879441171 0.201520912548 0.0426035502959 -3852.11908612\n",
      "1.0 0.231939163498 0.0733727810651 -3834.52452089\n",
      "2.71828182846 0.300380228137 0.159763313609 -3851.86138416\n",
      "0.135335283237 0.295627376426 0.144378698225 -3862.73194064\n",
      "0.367879441171 0.384030418251 0.255621301775 -3874.63067074\n",
      "1.0 0.307984790875 0.166863905325 -3890.18650879\n",
      "2.71828182846 0.334600760456 0.191715976331 -3898.12746632\n",
      "0.135335283237 0.47433460076 0.362130177515 -3847.08111878\n",
      "0.367879441171 0.430608365019 0.304142011834 -3889.10867745\n",
      "1.0 0.307034220532 0.152662721893 -3897.20697962\n",
      "2.71828182846 0.282319391635 0.125443786982 -3899.00103089\n"
     ]
    }
   ],
   "source": [
    "def build_params(smooth, end, start, cluster, comp):\n",
    "    _id = datetime.datetime.now()\n",
    "    PARAM_RESULTS[_id] = {'RATE' : RATE,\n",
    "        'TOL' : TOL,\n",
    "        'INPUT_FILE' : INPUT_FILE,\n",
    "         'MAX_COLS': MAX_COLS,\n",
    "          'NUM_CLUSTERS' : cluster,\n",
    "          'N_COMPONENTS' : comp,\n",
    "          'MFCC_START' : start,\n",
    "          'MFCC_END' : end,\n",
    "          'WHITEN' : WHITEN,\n",
    "          'DO_ALL' : DO_ALL,\n",
    "          'SMOOTH' : smooth,\n",
    "          'PREDICTION' : None,\n",
    "          'ACCURACY_WO_SPACES' : None,\n",
    "         'OVERALL_ACCURACY' : None,\n",
    "         'SCORE' : None,\n",
    "         'MODEL' : None,\n",
    "        'MODEL_FNAME' : None\n",
    "                          \n",
    "         }\n",
    "    return PARAM_RESULTS[_id], _id\n",
    "\n",
    "def save(model = None, accuracy = None, _id = None):\n",
    "    global RESULTS_DF\n",
    "    if model:\n",
    "        PARAM_RESULTS[_id]['MODEL_FNAME'] = \"models/%s-%s.pkl\" % (_id, accuracy)\n",
    "        joblib.dump(model, \"models/%s-%s.pkl\" % (_id, accuracy))\n",
    "        \n",
    "    if RESULTS_DF is not None:\n",
    "        RESULTS_DF = RESULTS_DF.append(pd.DataFrame(PARAM_RESULTS).T).drop_duplicates()\n",
    "    else:\n",
    "        RESULTS_DF = pd.DataFrame(PARAM_RESULTS).T\n",
    "    \n",
    "    \n",
    "    \n",
    "    \n",
    "    RESULTS_DF.sort_values(['OVERALL_ACCURACY', 'ACCURACY_WO_SPACES'], ascending=False).to_csv(out_name)\n",
    "    \n",
    "    by_smooth = RESULTS_DF[['ACCURACY_WO_SPACES','OVERALL_ACCURACY', 'SMOOTH']].dropna().astype(float).groupby('SMOOTH')\n",
    "#     print 'max'\n",
    "#     display.display(by_smooth.max().sort_values(['OVERALL_ACCURACY', 'ACCURACY_WO_SPACES'], ascending =False).head(3))\n",
    "#     print 'mean'\n",
    "#     display.display(by_smooth.mean().sort_values(['OVERALL_ACCURACY', 'ACCURACY_WO_SPACES'], ascending =False).head(3))\n",
    "#     print 'var'\n",
    "#     display.display(by_smooth.var().sort_values(['OVERALL_ACCURACY', 'ACCURACY_WO_SPACES'], ascending =False).head(3))\n",
    "\n",
    "\n",
    "def loop():\n",
    "    \n",
    "    # Copy and take subset\n",
    "    char_inps = char_inps_raw[char_inps_raw.columns[:MAX_COLS]].copy()\n",
    "    \n",
    "    for _ in range(REPEATS):\n",
    "        # Extract features\n",
    "        for end in MFCC_END:\n",
    "            for start in MFCC_START:\n",
    "                for cluster in NUM_CLUSTERS:\n",
    "                    for comp in N_COMPONENTS:\n",
    "                        cepstrum_df = pl.extract_cepstrum(char_inps, RATE, mfcc_start=start, mfcc_end=end)\n",
    "\n",
    "                        # Cluster the sounds\n",
    "                        cepstrum_df = pl.cluster(cepstrum_df, num_clusters = cluster, n_components = comp)\n",
    "\n",
    "                        # Repeat the hmm experiement for each parameter\n",
    "\n",
    "                        # For each smoothing parameter to be tested\n",
    "                        for smooth in SMOOTHS:\n",
    "\n",
    "\n",
    "                            estimate, acc, acc_wospace, score, hmm = pl.run_hmm(cepstrum_df, targ_s, \n",
    "                                                                    cluster, t_smooth = smooth, tol = TOL,\n",
    "                                                                    do_all = DO_ALL, verbose = False)  \n",
    "                            print smooth, acc, acc_wospace, score\n",
    "                            params,_id = build_params(smooth, end, start, cluster, comp)\n",
    "                            params['OVERALL_ACCURACY'] = acc\n",
    "                            params['ACCURACY_WO_SPACES'] = acc_wospace\n",
    "                            params['PREDICTION'] = estimate\n",
    "                            params['SCORE'] = score\n",
    "                            params['MODEL'] = hmm\n",
    "\n",
    "                            if acc > SAVE_THRESH:\n",
    "                                save(hmm, acc, _id)\n",
    "                            else:\n",
    "                                save()\n",
    "if should_loop:\n",
    "    loop()"
   ]
  },
  {
   "cell_type": "code",
   "execution_count": null,
   "metadata": {
    "collapsed": false
   },
   "outputs": [],
   "source": [
    "save()"
   ]
  },
  {
   "cell_type": "markdown",
   "metadata": {},
   "source": [
    "# Visualizing process "
   ]
  },
  {
   "cell_type": "code",
   "execution_count": null,
   "metadata": {
    "collapsed": false
   },
   "outputs": [],
   "source": [
    "char_inps = char_inps_raw.copy()\n",
    "char_inps = char_inps_raw[char_inps_raw.columns[:MAX_COLS]].copy()\n",
    "char_inps.tail(10)"
   ]
  },
  {
   "cell_type": "markdown",
   "metadata": {},
   "source": [
    "## Visualize Spaces "
   ]
  },
  {
   "cell_type": "code",
   "execution_count": null,
   "metadata": {
    "collapsed": false
   },
   "outputs": [],
   "source": [
    "pl.view_char(char_inps, ' ', limit = 8, xlim = 600)"
   ]
  },
  {
   "cell_type": "code",
   "execution_count": null,
   "metadata": {
    "collapsed": false
   },
   "outputs": [],
   "source": [
    "pl.view_char(char_inps, 'e', limit = 8, xlim = 1000)"
   ]
  },
  {
   "cell_type": "markdown",
   "metadata": {},
   "source": [
    "## Get the cepstrum features from the raw signal "
   ]
  },
  {
   "cell_type": "code",
   "execution_count": null,
   "metadata": {
    "collapsed": false
   },
   "outputs": [],
   "source": [
    " # Extract features\n",
    "cepstrum_df = pl.extract_cepstrum(char_inps, RATE, mfcc_start=MFCC_START, mfcc_end=MFCC_END)\n",
    "\n",
    "cepstrum_df.head()"
   ]
  },
  {
   "cell_type": "code",
   "execution_count": null,
   "metadata": {
    "collapsed": false
   },
   "outputs": [],
   "source": [
    "inds = cepstrum_df.dtypes == np.float64\n",
    "data = cepstrum_df.ix[:,inds].values\n",
    "# Standardize data\n",
    "if WHITEN:\n",
    "    data = whiten(data)\n",
    "        \n",
    "pca = PCA(n_components=N_COMPONENTS)\n",
    "pca.fit(data)\n",
    "data = pca.transform(data)\n",
    "pca.explained_variance_ratio_.sum()"
   ]
  },
  {
   "cell_type": "markdown",
   "metadata": {},
   "source": [
    "## Visualize Cepstrum Features "
   ]
  },
  {
   "cell_type": "code",
   "execution_count": null,
   "metadata": {
    "collapsed": false
   },
   "outputs": [],
   "source": [
    "pl.view_char(cepstrum_df, ' ', xlim = 200, limit = 12)"
   ]
  },
  {
   "cell_type": "code",
   "execution_count": null,
   "metadata": {
    "collapsed": false
   },
   "outputs": [],
   "source": [
    "pl.view_char(cepstrum_df, 'e', xlim = 200, limit = 12)"
   ]
  },
  {
   "cell_type": "markdown",
   "metadata": {},
   "source": [
    "## Cluster the features"
   ]
  },
  {
   "cell_type": "code",
   "execution_count": null,
   "metadata": {
    "collapsed": false
   },
   "outputs": [],
   "source": [
    "# Cluster the sounds\n",
    "cepstrum_df = pl.cluster(cepstrum_df, num_clusters = NUM_CLUSTERS, n_components = N_COMPONENTS)\n",
    "cepstrum_df.head()"
   ]
  },
  {
   "cell_type": "code",
   "execution_count": null,
   "metadata": {
    "collapsed": false
   },
   "outputs": [],
   "source": [
    "pl.cluster_proportions(cepstrum_df, [' '] + map(lambda x : chr(x + ord('a')),  range(26)), num_clusters = NUM_CLUSTERS)"
   ]
  },
  {
   "cell_type": "code",
   "execution_count": null,
   "metadata": {
    "collapsed": false,
    "scrolled": false
   },
   "outputs": [],
   "source": [
    "cepstrum_df['Count'] = 1\n",
    "scores = cepstrum_df[['char', 'cluster', 'Count']].groupby(['cluster', 'char']).count()\n",
    "n = NUM_CLUSTERS \n",
    "fig, axes = plt.subplots((n-1)/4+1, 4, figsize=(24, n*3/2))\n",
    "\n",
    "# Repeat for each coefficient\n",
    "for cl in range(n):\n",
    "    axe = axes[cl / 4][cl % 4]\n",
    "   \n",
    "    _ = scores.ix[cl].plot(kind='bar', ax = axe)\n",
    "    _ = axe.set_title(cl)"
   ]
  },
  {
   "cell_type": "markdown",
   "metadata": {},
   "source": [
    "## Build Transmission Matrix with bigrams"
   ]
  },
  {
   "cell_type": "code",
   "execution_count": null,
   "metadata": {
    "collapsed": false
   },
   "outputs": [],
   "source": [
    "pl = reload(pl)\n",
    "A_df, n_unique, unique_chars, id_to_char, char_to_id  = pl.build_transmission_full()\n",
    "A_df.head()"
   ]
  },
  {
   "cell_type": "markdown",
   "metadata": {},
   "source": [
    "##  Check the proportion of spaces across the k means classes"
   ]
  },
  {
   "cell_type": "code",
   "execution_count": null,
   "metadata": {
    "collapsed": false
   },
   "outputs": [],
   "source": [
    "space_props= pl.get_props(cepstrum_df, NUM_CLUSTERS, ' ')\n",
    "_  = space_props.plot(kind='bar', title = 'Space Proportions')"
   ]
  },
  {
   "cell_type": "markdown",
   "metadata": {},
   "source": [
    "## Build emissions matrix"
   ]
  },
  {
   "cell_type": "code",
   "execution_count": null,
   "metadata": {
    "collapsed": false
   },
   "outputs": [],
   "source": [
    "Eta = pl.build_eta(cepstrum_df, unique_chars, NUM_CLUSTERS, do_all = DO_ALL)\n",
    "Eta\n"
   ]
  },
  {
   "cell_type": "markdown",
   "metadata": {},
   "source": [
    "## Get Unigram proportions"
   ]
  },
  {
   "cell_type": "code",
   "execution_count": null,
   "metadata": {
    "collapsed": false
   },
   "outputs": [],
   "source": [
    "char_counts = pl.get_char_counts(targ_s, unique_chars)\n",
    "char_counts"
   ]
  },
  {
   "cell_type": "markdown",
   "metadata": {},
   "source": [
    "## Run HMM"
   ]
  },
  {
   "cell_type": "code",
   "execution_count": null,
   "metadata": {
    "collapsed": false
   },
   "outputs": [],
   "source": [
    "Eta"
   ]
  },
  {
   "cell_type": "code",
   "execution_count": null,
   "metadata": {
    "collapsed": false
   },
   "outputs": [],
   "source": [
    "# smooth = 0.5\n",
    "# estimate, acc, acc_wospace, score, hmm = pl.run_hmm(cepstrum_df, targ_s, \n",
    "#                                                     NUM_CLUSTERS, t_smooth = smooth, tol = TOL,\n",
    "#                                                     do_all = DO_ALL, verbose = True)  \n",
    "# params,_id = build_params(smooth)\n",
    "# params['OVERALL_ACCURACY'] = acc\n",
    "# params['ACCURACY_WO_SPACES'] = acc_wospace\n",
    "# params['PREDICTION'] = estimate\n",
    "# params['SCORE'] = score\n",
    "# params['MODEL'] = hmm\n",
    "\n",
    "# if acc > SAVE_THRESH:\n",
    "#     save(hmm, acc, _id)\n",
    "# else:\n",
    "#     save()"
   ]
  },
  {
   "cell_type": "code",
   "execution_count": null,
   "metadata": {
    "collapsed": false
   },
   "outputs": [],
   "source": [
    "# estimate"
   ]
  },
  {
   "cell_type": "code",
   "execution_count": null,
   "metadata": {
    "collapsed": false
   },
   "outputs": [],
   "source": [
    "targ_s"
   ]
  },
  {
   "cell_type": "code",
   "execution_count": null,
   "metadata": {
    "collapsed": false,
    "scrolled": false
   },
   "outputs": [],
   "source": [
    "# smooths = map(lambda x : np.exp(x), range(-10, 10))\n",
    "# smooths = np.arange(0,2,.1)\n",
    "for smooth in smooths:\n",
    "    estimate, acc, acc_wospace, score, hmm = pl.run_hmm(cepstrum_df, targ_s, \n",
    "                                                    NUM_CLUSTERS, t_smooth = smooth, tol = TOL,\n",
    "                                                    do_all = DO_ALL, verbose = False)  \n",
    "    params,_id = build_params(smooth)\n",
    "    params['OVERALL_ACCURACY'] = acc\n",
    "    params['ACCURACY_WO_SPACES'] = acc_wospace\n",
    "    params['PREDICTION'] = estimate\n",
    "    params['SCORE'] = score\n",
    "    params['MODEL'] = hmm\n",
    "\n",
    "    if acc > SAVE_THRESH:\n",
    "        save(hmm, acc, _id)\n",
    "    else:\n",
    "        save()\n",
    "    print smooth, acc, acc_wospace, score\n",
    "    print estimate"
   ]
  },
  {
   "cell_type": "code",
   "execution_count": null,
   "metadata": {
    "collapsed": true
   },
   "outputs": [],
   "source": []
  },
  {
   "cell_type": "code",
   "execution_count": null,
   "metadata": {
    "collapsed": true
   },
   "outputs": [],
   "source": []
  },
  {
   "cell_type": "code",
   "execution_count": null,
   "metadata": {
    "collapsed": true
   },
   "outputs": [],
   "source": []
  },
  {
   "cell_type": "code",
   "execution_count": null,
   "metadata": {
    "collapsed": false,
    "scrolled": true
   },
   "outputs": [],
   "source": [
    "def scrapeone():\n",
    "    webpage = 'https://www.gutenberg.org/files/11/11-h/11-h.htm'\n",
    "    html = urllib.urlopen(webpage).read()\n",
    "    soup = BeautifulSoup(html, 'html.parser')\n",
    "    texts = soup.findAll(text=True)\n",
    "    import re\n",
    "    def visible(element):\n",
    "        if element.parent.name in ['style', 'script', '[document]', 'head', 'title']:\n",
    "            return False\n",
    "        elif re.match('<!--.*-->', str(element.encode('utf-8'))):\n",
    "            return False\n",
    "        return True\n",
    "\n",
    "    unique_chars = [' '] + map(lambda x : chr(x + ord('a')), range(26))\n",
    "\n",
    "    raw_text = filter(lambda x : x in unique_chars, ' '.join(filter(visible, texts)).replace('\\r\\n', ' ').replace('\\n', ' ').replace('\\u2018', '').replace('\\u2019', '').lower())\n",
    "    raw_text = ' '.join(raw_text.split())\n",
    "\n",
    "def scrape():\n",
    "    results = {}\n",
    "    raw_text_all = ''\n",
    "    webpages = ['https://www.gutenberg.org/files/11/11-h/11-h.htm', 'https://www.gutenberg.org/files/1342/1342-h/1342-h.htm',\n",
    "               'https://www.gutenberg.org/files/46/46-h/46-h.htm', 'https://www.gutenberg.org/files/84/84-h/84-h.htm',\n",
    "               'https://www.gutenberg.org/files/76/76-h/76-h.htm', 'https://www.gutenberg.org/files/844/844-h/844-h.htm',\n",
    "               'https://www.gutenberg.org/files/53638/53638-h/53638-h.htm', 'https://www.gutenberg.org/files/2542/2542-h/2542-h.htm',\n",
    "               'https://www.gutenberg.org/files/1400/1400-h/1400-h.htm', 'https://www.gutenberg.org/files/98/98-h/98-h.htm',\n",
    "               'https://www.gutenberg.org/files/74/74-h/74-h.htm', 'https://www.gutenberg.org/files/53641/53641-h/53641-h.html',\n",
    "               'https://www.gutenberg.org/files/1232/1232-h/1232-h.htm', 'https://www.gutenberg.org/files/1661/1661-h/1661-h.htm',\n",
    "               'https://www.gutenberg.org/files/345/345-h/345-h.htm', 'https://www.gutenberg.org/files/160/160-h/160-h.htm',\n",
    "               'https://www.gutenberg.org/files/5200/5200-h/5200-h.htm', 'http://www.gutenberg.org/cache/epub/30254/pg30254.html',\n",
    "               'https://www.gutenberg.org/files/1952/1952-h/1952-h.htm', 'https://www.gutenberg.org/files/2600/2600-h/2600-h.htm',\n",
    "               'https://www.gutenberg.org/files/174/174-h/174-h.htm', 'https://www.gutenberg.org/files/2701/2701-h/2701-h.htm']\n",
    "    for page in tqdm(webpages):\n",
    "        html = urllib.urlopen(webpage).read()\n",
    "        soup = BeautifulSoup(html, 'html.parser')\n",
    "        texts = soup.findAll(text=True)\n",
    "        import re\n",
    "        def visible(element):\n",
    "            if element.parent.name in ['style', 'script', '[document]', 'head', 'title']:\n",
    "                return False\n",
    "            elif re.match('<!--.*-->', str(element.encode('utf-8'))):\n",
    "                return False\n",
    "            return True\n",
    "\n",
    "        unique_chars = [' '] + map(lambda x : chr(x + ord('a')), range(26))\n",
    "\n",
    "        raw_text = filter(lambda x : x in unique_chars, ' '.join(filter(visible, texts)).replace('\\r\\n', ' ').replace('\\n', ' ').replace('\\u2018', '').replace('\\u2019', '').lower())\n",
    "        raw_text = ' '.join(raw_text.split())\n",
    "        results[page] = raw_text\n",
    "        raw_text_all += raw_text\n",
    "        time.sleep(2)\n",
    "# with open('data/guttenberg_text.txt', 'w') as f:\n",
    "#     f.write(raw_text_all)"
   ]
  }
 ],
 "metadata": {
  "kernelspec": {
   "display_name": "Python 2",
   "language": "python",
   "name": "python2"
  },
  "language_info": {
   "codemirror_mode": {
    "name": "ipython",
    "version": 2
   },
   "file_extension": ".py",
   "mimetype": "text/x-python",
   "name": "python",
   "nbconvert_exporter": "python",
   "pygments_lexer": "ipython2",
   "version": "2.7.11"
  }
 },
 "nbformat": 4,
 "nbformat_minor": 0
}
