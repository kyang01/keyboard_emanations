{
 "cells": [
  {
   "cell_type": "markdown",
   "metadata": {},
   "source": [
    "## Imports"
   ]
  },
  {
   "cell_type": "code",
   "execution_count": 16,
   "metadata": {
    "collapsed": false
   },
   "outputs": [],
   "source": [
    "import warnings\n",
    "warnings.filterwarnings(\"ignore\", category=UserWarning) \n",
    "warnings.filterwarnings(\"ignore\", category=FutureWarning)\n",
    "\n",
    "%matplotlib inline\n",
    "import pandas as pd\n",
    "import numpy as np\n",
    "import sys, os, time, datetime\n",
    "import matplotlib.pyplot as plt\n",
    "\n",
    "\n",
    "sys.path.append('libraries')\n",
    "import signal_processing as spl \n",
    "import prediction_lib as pl\n",
    "pl = reload(pl)\n",
    "spl = reload(spl)"
   ]
  },
  {
   "cell_type": "code",
   "execution_count": 17,
   "metadata": {
    "collapsed": true
   },
   "outputs": [],
   "source": [
    "import numpy as np\n",
    "import matplotlib\n",
    "import matplotlib.pyplot as plt\n",
    "from mpl_toolkits.mplot3d import Axes3D\n",
    "import matplotlib.cm as cmx\n",
    "import matplotlib.colors as colors\n",
    "import pandas as pd\n",
    "from sklearn.linear_model import LogisticRegression as LogReg\n",
    "from sklearn.linear_model import LogisticRegressionCV as LogRegCV\n",
    "from sklearn.feature_extraction.text import CountVectorizer\n",
    "from sklearn.preprocessing import LabelEncoder\n",
    "from sklearn.metrics import confusion_matrix\n",
    "from sklearn.neighbors import KNeighborsClassifier as KNN\n",
    "from sklearn.decomposition import PCA\n",
    "from tqdm import tqdm\n",
    "import sys\n",
    "from scipy import optimize\n",
    "\n",
    "from collections import Counter\n",
    "\n",
    "from scipy.cluster.vq import kmeans2,vq, whiten\n",
    "from sklearn.cluster import KMeans\n",
    "from hmmlearn.hmm import MultinomialHMM\n",
    "from python_speech_features import mfcc"
   ]
  },
  {
   "cell_type": "markdown",
   "metadata": {},
   "source": [
    "##  Load in Signal DF"
   ]
  },
  {
   "cell_type": "code",
   "execution_count": 18,
   "metadata": {
    "collapsed": true
   },
   "outputs": [],
   "source": [
    "name = name\n",
    "INPUT_FILE = 'data/%s.csv' % name"
   ]
  },
  {
   "cell_type": "code",
   "execution_count": 19,
   "metadata": {
    "collapsed": false
   },
   "outputs": [
    {
     "data": {
      "text/html": [
       "<div>\n",
       "<table border=\"1\" class=\"dataframe\">\n",
       "  <thead>\n",
       "    <tr style=\"text-align: right;\">\n",
       "      <th></th>\n",
       "      <th>index</th>\n",
       "      <th>peak time</th>\n",
       "      <th>signal</th>\n",
       "      <th>start time</th>\n",
       "      <th>end time</th>\n",
       "      <th>char</th>\n",
       "      <th>is_space</th>\n",
       "      <th>peak_diff</th>\n",
       "      <th>0</th>\n",
       "      <th>1</th>\n",
       "      <th>...</th>\n",
       "      <th>16791</th>\n",
       "      <th>16792</th>\n",
       "      <th>16793</th>\n",
       "      <th>16794</th>\n",
       "      <th>16795</th>\n",
       "      <th>16796</th>\n",
       "      <th>16797</th>\n",
       "      <th>16798</th>\n",
       "      <th>16799</th>\n",
       "      <th>16800</th>\n",
       "    </tr>\n",
       "  </thead>\n",
       "  <tbody>\n",
       "    <tr>\n",
       "      <th>1042</th>\n",
       "      <td>1086</td>\n",
       "      <td>596.346667</td>\n",
       "      <td>12875.447266</td>\n",
       "      <td>596.311667</td>\n",
       "      <td>596.661667</td>\n",
       "      <td>b</td>\n",
       "      <td>0</td>\n",
       "      <td>0.270667</td>\n",
       "      <td>18.0</td>\n",
       "      <td>20.0</td>\n",
       "      <td>...</td>\n",
       "      <td>98.0</td>\n",
       "      <td>98.0</td>\n",
       "      <td>-60.0</td>\n",
       "      <td>-27.0</td>\n",
       "      <td>88.0</td>\n",
       "      <td>85.0</td>\n",
       "      <td>46.0</td>\n",
       "      <td>-21.0</td>\n",
       "      <td>-80.0</td>\n",
       "      <td>0.0</td>\n",
       "    </tr>\n",
       "    <tr>\n",
       "      <th>1043</th>\n",
       "      <td>1087</td>\n",
       "      <td>596.617333</td>\n",
       "      <td>22127.296875</td>\n",
       "      <td>596.582333</td>\n",
       "      <td>596.932333</td>\n",
       "      <td>b</td>\n",
       "      <td>0</td>\n",
       "      <td>0.149333</td>\n",
       "      <td>17.0</td>\n",
       "      <td>13.0</td>\n",
       "      <td>...</td>\n",
       "      <td>9.0</td>\n",
       "      <td>7.0</td>\n",
       "      <td>6.0</td>\n",
       "      <td>10.0</td>\n",
       "      <td>11.0</td>\n",
       "      <td>10.0</td>\n",
       "      <td>10.0</td>\n",
       "      <td>11.0</td>\n",
       "      <td>9.0</td>\n",
       "      <td>0.0</td>\n",
       "    </tr>\n",
       "    <tr>\n",
       "      <th>1044</th>\n",
       "      <td>1088</td>\n",
       "      <td>596.766667</td>\n",
       "      <td>2168.157959</td>\n",
       "      <td>596.731667</td>\n",
       "      <td>597.081667</td>\n",
       "      <td>i</td>\n",
       "      <td>0</td>\n",
       "      <td>0.354667</td>\n",
       "      <td>-5.0</td>\n",
       "      <td>4.0</td>\n",
       "      <td>...</td>\n",
       "      <td>-14.0</td>\n",
       "      <td>-16.0</td>\n",
       "      <td>-17.0</td>\n",
       "      <td>-13.0</td>\n",
       "      <td>-13.0</td>\n",
       "      <td>-21.0</td>\n",
       "      <td>-21.0</td>\n",
       "      <td>-14.0</td>\n",
       "      <td>-14.0</td>\n",
       "      <td>-19.0</td>\n",
       "    </tr>\n",
       "    <tr>\n",
       "      <th>1045</th>\n",
       "      <td>1089</td>\n",
       "      <td>597.121333</td>\n",
       "      <td>1214.426758</td>\n",
       "      <td>597.086333</td>\n",
       "      <td>597.436333</td>\n",
       "      <td>t</td>\n",
       "      <td>0</td>\n",
       "      <td>0.294000</td>\n",
       "      <td>26.0</td>\n",
       "      <td>26.0</td>\n",
       "      <td>...</td>\n",
       "      <td>48.0</td>\n",
       "      <td>243.0</td>\n",
       "      <td>253.0</td>\n",
       "      <td>147.0</td>\n",
       "      <td>56.0</td>\n",
       "      <td>-3.0</td>\n",
       "      <td>99.0</td>\n",
       "      <td>157.0</td>\n",
       "      <td>53.0</td>\n",
       "      <td>0.0</td>\n",
       "    </tr>\n",
       "    <tr>\n",
       "      <th>1046</th>\n",
       "      <td>1090</td>\n",
       "      <td>597.415333</td>\n",
       "      <td>25453.357422</td>\n",
       "      <td>597.380333</td>\n",
       "      <td>597.730333</td>\n",
       "      <td></td>\n",
       "      <td>1</td>\n",
       "      <td>1.591333</td>\n",
       "      <td>10.0</td>\n",
       "      <td>6.0</td>\n",
       "      <td>...</td>\n",
       "      <td>-15.0</td>\n",
       "      <td>-15.0</td>\n",
       "      <td>-17.0</td>\n",
       "      <td>-25.0</td>\n",
       "      <td>-28.0</td>\n",
       "      <td>-21.0</td>\n",
       "      <td>-17.0</td>\n",
       "      <td>-21.0</td>\n",
       "      <td>-24.0</td>\n",
       "      <td>0.0</td>\n",
       "    </tr>\n",
       "    <tr>\n",
       "      <th>1047</th>\n",
       "      <td>1091</td>\n",
       "      <td>599.006667</td>\n",
       "      <td>6431.091797</td>\n",
       "      <td>598.971667</td>\n",
       "      <td>599.321667</td>\n",
       "      <td>h</td>\n",
       "      <td>0</td>\n",
       "      <td>0.247333</td>\n",
       "      <td>-3.0</td>\n",
       "      <td>-1.0</td>\n",
       "      <td>...</td>\n",
       "      <td>13.0</td>\n",
       "      <td>3.0</td>\n",
       "      <td>-6.0</td>\n",
       "      <td>17.0</td>\n",
       "      <td>10.0</td>\n",
       "      <td>-15.0</td>\n",
       "      <td>2.0</td>\n",
       "      <td>24.0</td>\n",
       "      <td>23.0</td>\n",
       "      <td>28.0</td>\n",
       "    </tr>\n",
       "    <tr>\n",
       "      <th>1048</th>\n",
       "      <td>1092</td>\n",
       "      <td>599.254000</td>\n",
       "      <td>3091.520508</td>\n",
       "      <td>599.219000</td>\n",
       "      <td>599.569000</td>\n",
       "      <td>o</td>\n",
       "      <td>0</td>\n",
       "      <td>0.462000</td>\n",
       "      <td>13.0</td>\n",
       "      <td>11.0</td>\n",
       "      <td>...</td>\n",
       "      <td>50.0</td>\n",
       "      <td>41.0</td>\n",
       "      <td>34.0</td>\n",
       "      <td>32.0</td>\n",
       "      <td>28.0</td>\n",
       "      <td>21.0</td>\n",
       "      <td>16.0</td>\n",
       "      <td>13.0</td>\n",
       "      <td>10.0</td>\n",
       "      <td>8.0</td>\n",
       "    </tr>\n",
       "    <tr>\n",
       "      <th>1049</th>\n",
       "      <td>1093</td>\n",
       "      <td>599.716000</td>\n",
       "      <td>913.455261</td>\n",
       "      <td>599.681000</td>\n",
       "      <td>600.031000</td>\n",
       "      <td>l</td>\n",
       "      <td>0</td>\n",
       "      <td>0.270667</td>\n",
       "      <td>2.0</td>\n",
       "      <td>4.0</td>\n",
       "      <td>...</td>\n",
       "      <td>40.0</td>\n",
       "      <td>-36.0</td>\n",
       "      <td>-24.0</td>\n",
       "      <td>100.0</td>\n",
       "      <td>-11.0</td>\n",
       "      <td>-66.0</td>\n",
       "      <td>54.0</td>\n",
       "      <td>46.0</td>\n",
       "      <td>41.0</td>\n",
       "      <td>33.0</td>\n",
       "    </tr>\n",
       "    <tr>\n",
       "      <th>1050</th>\n",
       "      <td>1094</td>\n",
       "      <td>599.986667</td>\n",
       "      <td>17315.521484</td>\n",
       "      <td>599.951667</td>\n",
       "      <td>600.301667</td>\n",
       "      <td>e</td>\n",
       "      <td>0</td>\n",
       "      <td>0.200667</td>\n",
       "      <td>-13.0</td>\n",
       "      <td>-19.0</td>\n",
       "      <td>...</td>\n",
       "      <td>-17.0</td>\n",
       "      <td>-140.0</td>\n",
       "      <td>-119.0</td>\n",
       "      <td>0.0</td>\n",
       "      <td>59.0</td>\n",
       "      <td>63.0</td>\n",
       "      <td>87.0</td>\n",
       "      <td>89.0</td>\n",
       "      <td>61.0</td>\n",
       "      <td>-7.0</td>\n",
       "    </tr>\n",
       "    <tr>\n",
       "      <th>1051</th>\n",
       "      <td>1095</td>\n",
       "      <td>600.187333</td>\n",
       "      <td>5176.197266</td>\n",
       "      <td>600.152333</td>\n",
       "      <td>600.502333</td>\n",
       "      <td></td>\n",
       "      <td>0</td>\n",
       "      <td>0.000000</td>\n",
       "      <td>-18.0</td>\n",
       "      <td>-13.0</td>\n",
       "      <td>...</td>\n",
       "      <td>-12.0</td>\n",
       "      <td>-11.0</td>\n",
       "      <td>-7.0</td>\n",
       "      <td>-4.0</td>\n",
       "      <td>1.0</td>\n",
       "      <td>8.0</td>\n",
       "      <td>5.0</td>\n",
       "      <td>-1.0</td>\n",
       "      <td>2.0</td>\n",
       "      <td>6.0</td>\n",
       "    </tr>\n",
       "  </tbody>\n",
       "</table>\n",
       "<p>10 rows × 16809 columns</p>\n",
       "</div>"
      ],
      "text/plain": [
       "      index   peak time        signal  start time    end time char  is_space  \\\n",
       "1042   1086  596.346667  12875.447266  596.311667  596.661667    b         0   \n",
       "1043   1087  596.617333  22127.296875  596.582333  596.932333    b         0   \n",
       "1044   1088  596.766667   2168.157959  596.731667  597.081667    i         0   \n",
       "1045   1089  597.121333   1214.426758  597.086333  597.436333    t         0   \n",
       "1046   1090  597.415333  25453.357422  597.380333  597.730333              1   \n",
       "1047   1091  599.006667   6431.091797  598.971667  599.321667    h         0   \n",
       "1048   1092  599.254000   3091.520508  599.219000  599.569000    o         0   \n",
       "1049   1093  599.716000    913.455261  599.681000  600.031000    l         0   \n",
       "1050   1094  599.986667  17315.521484  599.951667  600.301667    e         0   \n",
       "1051   1095  600.187333   5176.197266  600.152333  600.502333              0   \n",
       "\n",
       "      peak_diff     0     1  ...    16791  16792  16793  16794  16795  16796  \\\n",
       "1042   0.270667  18.0  20.0  ...     98.0   98.0  -60.0  -27.0   88.0   85.0   \n",
       "1043   0.149333  17.0  13.0  ...      9.0    7.0    6.0   10.0   11.0   10.0   \n",
       "1044   0.354667  -5.0   4.0  ...    -14.0  -16.0  -17.0  -13.0  -13.0  -21.0   \n",
       "1045   0.294000  26.0  26.0  ...     48.0  243.0  253.0  147.0   56.0   -3.0   \n",
       "1046   1.591333  10.0   6.0  ...    -15.0  -15.0  -17.0  -25.0  -28.0  -21.0   \n",
       "1047   0.247333  -3.0  -1.0  ...     13.0    3.0   -6.0   17.0   10.0  -15.0   \n",
       "1048   0.462000  13.0  11.0  ...     50.0   41.0   34.0   32.0   28.0   21.0   \n",
       "1049   0.270667   2.0   4.0  ...     40.0  -36.0  -24.0  100.0  -11.0  -66.0   \n",
       "1050   0.200667 -13.0 -19.0  ...    -17.0 -140.0 -119.0    0.0   59.0   63.0   \n",
       "1051   0.000000 -18.0 -13.0  ...    -12.0  -11.0   -7.0   -4.0    1.0    8.0   \n",
       "\n",
       "      16797  16798  16799  16800  \n",
       "1042   46.0  -21.0  -80.0    0.0  \n",
       "1043   10.0   11.0    9.0    0.0  \n",
       "1044  -21.0  -14.0  -14.0  -19.0  \n",
       "1045   99.0  157.0   53.0    0.0  \n",
       "1046  -17.0  -21.0  -24.0    0.0  \n",
       "1047    2.0   24.0   23.0   28.0  \n",
       "1048   16.0   13.0   10.0    8.0  \n",
       "1049   54.0   46.0   41.0   33.0  \n",
       "1050   87.0   89.0   61.0   -7.0  \n",
       "1051    5.0   -1.0    2.0    6.0  \n",
       "\n",
       "[10 rows x 16809 columns]"
      ]
     },
     "execution_count": 19,
     "metadata": {},
     "output_type": "execute_result"
    }
   ],
   "source": [
    "char_inps_raw = pd.read_csv(INPUT_FILE, index_col=0)\n",
    "char_inps_raw['char'] = char_inps_raw['char'].fillna(' ').replace('#SPACE', ' ')\n",
    "char_inps_raw['peak_diff'] =char_inps_raw['peak_diff'].fillna(0)\n",
    "char_inps_raw = char_inps_raw.fillna(0)\n",
    "char_inps_raw.tail(10)"
   ]
  },
  {
   "cell_type": "code",
   "execution_count": 20,
   "metadata": {
    "collapsed": false
   },
   "outputs": [
    {
     "data": {
      "text/plain": [
       "'alice was beginning to get very tired of sitting by her sister on the bank and having nothing to do once or twice she had peeped into the book her sister was reading but it had no pictures or conversations in it and what is the use of a book thought alice without pictures or conversations so she was considering in her own mind a well as she could for the hot day made her feel very sleepy and stupid whether the pleasure of making a daisy chain would be worth the trouble of getting up and picking the daisies when suddenly a white rabbit with pink eyes ran close by her there was nothing so very emarkable in that nor did alice think it so very much oh dear i shall be late it occurred to her afterwards she ought to have wondered at this but at the time it all seemed quite natural but when the rabbit actually toook a watch out of its packet and looked at it and then hurried on alice started to her feet and in another moment down went alice after it never once considering burning how in the world she was going to get out again the rabbit hole '"
      ]
     },
     "execution_count": 20,
     "metadata": {},
     "output_type": "execute_result"
    }
   ],
   "source": [
    "targ_s = ''.join(char_inps_raw['char'].values)\n",
    "targ_s"
   ]
  },
  {
   "cell_type": "code",
   "execution_count": 21,
   "metadata": {
    "collapsed": true
   },
   "outputs": [],
   "source": [
    "PARAM_RESULTS ={}"
   ]
  },
  {
   "cell_type": "markdown",
   "metadata": {},
   "source": [
    "## Processing "
   ]
  },
  {
   "cell_type": "code",
   "execution_count": 28,
   "metadata": {
    "collapsed": false
   },
   "outputs": [],
   "source": [
    "RATE = 44100\n",
    "WHITEN = True\n",
    "TOL = 1e-2\n",
    "\n",
    "\n",
    "MAX_COLS = -1\n",
    "MFCC_START = 0\n",
    "MFCC_END = -20\n",
    "NUM_CLUSTERS = 50\n",
    "N_COMPONENTS = 100\n",
    "DO_ALL = False\n",
    "\n",
    "\n",
    "REPEATS = 5\n",
    "SMOOTHS = map(lambda x : np.exp(x), range(-4, 2))"
   ]
  },
  {
   "cell_type": "code",
   "execution_count": 29,
   "metadata": {
    "collapsed": false
   },
   "outputs": [
    {
     "name": "stdout",
     "output_type": "stream",
     "text": [
      "Transmission smoothing: 0.0183156388887\n",
      "Accuracy: 0.447718631179 Without spaces: 0.347928994083\n",
      "guess:\n",
      "\n",
      "Transmission smoothing: 0.0497870683679\n",
      "Accuracy: 0.429657794677 Without spaces: 0.315976331361\n",
      "guess:\n",
      "\n",
      "Transmission smoothing: 0.135335283237\n",
      "Accuracy: 0.481939163498 Without spaces: 0.388165680473\n",
      "guess:\n",
      "\n",
      "Transmission smoothing: 0.367879441171\n",
      "Accuracy: 0.445817490494 Without spaces: 0.352662721893\n",
      "guess:\n",
      "\n",
      "Transmission smoothing: 1.0\n",
      "Accuracy: 0.408745247148 Without spaces: 0.304142011834\n",
      "guess:\n",
      "\n",
      "Transmission smoothing: 2.71828182846\n",
      "Accuracy: 0.269961977186 Without spaces: 0.160946745562\n",
      "guess:\n",
      "\n",
      "Transmission smoothing: 0.0183156388887\n",
      "Accuracy: 0.374524714829 Without spaces: 0.256804733728\n",
      "guess:\n",
      "\n",
      "Transmission smoothing: 0.0497870683679\n",
      "Accuracy: 0.479087452471 Without spaces: 0.377514792899\n",
      "guess:\n",
      "\n",
      "Transmission smoothing: 0.135335283237\n",
      "Accuracy: 0.213878326996 Without spaces: 0.0591715976331\n",
      "guess:\n",
      "\n",
      "Transmission smoothing: 0.367879441171\n",
      "Accuracy: 0.327946768061 Without spaces: 0.189349112426\n",
      "guess:\n",
      "\n",
      "Transmission smoothing: 1.0\n",
      "Accuracy: 0.41825095057 Without spaces: 0.319526627219\n",
      "guess:\n",
      "\n",
      "Transmission smoothing: 2.71828182846\n",
      "Accuracy: 0.192015209125 Without spaces: 0.0568047337278\n",
      "guess:\n",
      "\n",
      "Transmission smoothing: 0.0183156388887\n",
      "Accuracy: 0.294676806084 Without spaces: 0.149112426036\n",
      "guess:\n",
      "\n",
      "Transmission smoothing: 0.0497870683679\n",
      "Accuracy: 0.500950570342 Without spaces: 0.397633136095\n",
      "guess:\n",
      "\n",
      "Transmission smoothing: 0.135335283237\n",
      "Accuracy: 0.318441064639 Without spaces: 0.18224852071\n",
      "guess:\n",
      "\n",
      "Transmission smoothing: 0.367879441171\n",
      "Accuracy: 0.262357414449 Without spaces: 0.12899408284\n",
      "guess:\n",
      "\n",
      "Transmission smoothing: 1.0\n",
      "Accuracy: 0.294676806084 Without spaces: 0.16449704142\n",
      "guess:\n",
      "\n",
      "Transmission smoothing: 2.71828182846\n",
      "Accuracy: 0.208174904943 Without spaces: 0.0733727810651\n",
      "guess:\n",
      "\n",
      "Transmission smoothing: 0.0183156388887\n",
      "Accuracy: 0.273764258555 Without spaces: 0.125443786982\n",
      "guess:\n",
      "\n",
      "Transmission smoothing: 0.0497870683679\n",
      "Accuracy: 0.453422053232 Without spaces: 0.349112426036\n",
      "guess:\n",
      "\n",
      "Transmission smoothing: 0.135335283237\n",
      "Accuracy: 0.301330798479 Without spaces: 0.168047337278\n",
      "guess:\n",
      "\n",
      "Transmission smoothing: 0.367879441171\n",
      "Accuracy: 0.438212927757 Without spaces: 0.340828402367\n",
      "guess:\n",
      "\n",
      "Transmission smoothing: 1.0\n",
      "Accuracy: 0.399239543726 Without spaces: 0.29349112426\n",
      "guess:\n",
      "\n",
      "Transmission smoothing: 2.71828182846\n",
      "Accuracy: 0.326045627376 Without spaces: 0.214201183432\n",
      "guess:\n",
      "\n",
      "Transmission smoothing: 0.0183156388887\n",
      "Accuracy: 0.327946768061 Without spaces: 0.197633136095\n",
      "guess:\n",
      "\n",
      "Transmission smoothing: 0.0497870683679\n",
      "Accuracy: 0.255703422053 Without spaces: 0.112426035503\n",
      "guess:\n",
      "\n",
      "Transmission smoothing: 0.135335283237\n",
      "Accuracy: 0.209125475285 Without spaces: 0.0508875739645\n",
      "guess:\n",
      "\n",
      "Transmission smoothing: 0.367879441171\n",
      "Accuracy: 0.227186311787 Without spaces: 0.0792899408284\n",
      "guess:\n",
      "\n",
      "Transmission smoothing: 1.0\n",
      "Accuracy: 0.434410646388 Without spaces: 0.340828402367\n",
      "guess:\n",
      "\n",
      "Transmission smoothing: 2.71828182846\n",
      "Accuracy: 0.209125475285 Without spaces: 0.0792899408284\n",
      "guess:\n",
      "\n"
     ]
    }
   ],
   "source": [
    "def build_params(smooth):\n",
    "    _id = datetime.datetime.now()\n",
    "    PARAM_RESULTS[_id] = {'RATE' : RATE,\n",
    "        'TOL' : TOL,\n",
    "        'INPUT_FILE' : INPUT_FILE,\n",
    "         'MAX_COLS': MAX_COLS,\n",
    "          'NUM_CLUSTERS' : NUM_CLUSTERS,\n",
    "          'N_COMPONENTS' : N_COMPONENTS,\n",
    "          'MFCC_START' : MFCC_START,\n",
    "          'MFCC_START' : MFCC_START,\n",
    "          'WHITEN' : WHITEN,\n",
    "          'DO_ALL' : DO_ALL,\n",
    "          'SMOOTH' : smooth,\n",
    "          'PREDICTION' : None,\n",
    "          'ACCURACY_WO_SPACES' : None,\n",
    "         'OVERALL_ACCURACY' : None,\n",
    "         'SCORE' : None,\n",
    "         'MODEL' : None\n",
    "                          \n",
    "         }\n",
    "    return PARAM_RESULTS[_id]\n",
    "\n",
    "def loop():\n",
    "    \n",
    "    # Copy and take subset\n",
    "    char_inps = char_inps_raw[char_inps_raw.columns[:MAX_COLS]].copy()\n",
    "    \n",
    "    # Extract features\n",
    "    cepstrum_df = pl.extract_cepstrum(char_inps, RATE, mfcc_start=MFCC_START, mfcc_end=MFCC_END)\n",
    "    \n",
    "    # Cluster the sounds\n",
    "    cepstrum_df = pl.cluster(cepstrum_df, num_clusters = NUM_CLUSTERS, n_components = N_COMPONENTS)\n",
    "    \n",
    "    # Repeat the hmm experiement for each parameter\n",
    "    for _ in range(REPEATS):\n",
    "        # For each smoothing parameter to be tested\n",
    "        for smooth in SMOOTHS:\n",
    "            params = build_params(smooth)\n",
    "            \n",
    "            estimate, acc, acc_wospace, score, hmm = pl.run_hmm(cepstrum_df, targ_s, \n",
    "                                                    NUM_CLUSTERS, t_smooth = smooth, tol = TOL,\n",
    "                                                    do_all = DO_ALL)   \n",
    "            params['OVERALL_ACCURACY'] = acc\n",
    "            params['ACCURACY_WO_SPACES'] = acc_wospace\n",
    "            params['PREDICTION'] = estimate\n",
    "            params['SCORE'] = score\n",
    "            params['MODEL'] = hmm\n",
    "loop()\n",
    "\n",
    "RESULTS_DF = pd.DataFrame(PARAM_RESULTS).T\n",
    "\n",
    "RESULTS_DF.to_csv('RESULTS_DF.csv')"
   ]
  },
  {
   "cell_type": "code",
   "execution_count": 30,
   "metadata": {
    "collapsed": false
   },
   "outputs": [
    {
     "data": {
      "text/html": [
       "<div>\n",
       "<table border=\"1\" class=\"dataframe\">\n",
       "  <thead>\n",
       "    <tr style=\"text-align: right;\">\n",
       "      <th></th>\n",
       "      <th>ACCURACY_WO_SPACES</th>\n",
       "      <th>OVERALL_ACCURACY</th>\n",
       "    </tr>\n",
       "    <tr>\n",
       "      <th>SMOOTH</th>\n",
       "      <th></th>\n",
       "      <th></th>\n",
       "    </tr>\n",
       "  </thead>\n",
       "  <tbody>\n",
       "    <tr>\n",
       "      <th>0.018316</th>\n",
       "      <td>0.347929</td>\n",
       "      <td>0.447719</td>\n",
       "    </tr>\n",
       "    <tr>\n",
       "      <th>0.049787</th>\n",
       "      <td>0.397633</td>\n",
       "      <td>0.500951</td>\n",
       "    </tr>\n",
       "    <tr>\n",
       "      <th>0.135335</th>\n",
       "      <td>0.388166</td>\n",
       "      <td>0.481939</td>\n",
       "    </tr>\n",
       "    <tr>\n",
       "      <th>0.367879</th>\n",
       "      <td>0.352663</td>\n",
       "      <td>0.445817</td>\n",
       "    </tr>\n",
       "    <tr>\n",
       "      <th>1.000000</th>\n",
       "      <td>0.340828</td>\n",
       "      <td>0.434411</td>\n",
       "    </tr>\n",
       "    <tr>\n",
       "      <th>2.718282</th>\n",
       "      <td>0.261538</td>\n",
       "      <td>0.341255</td>\n",
       "    </tr>\n",
       "  </tbody>\n",
       "</table>\n",
       "</div>"
      ],
      "text/plain": [
       "          ACCURACY_WO_SPACES  OVERALL_ACCURACY\n",
       "SMOOTH                                        \n",
       "0.018316            0.347929          0.447719\n",
       "0.049787            0.397633          0.500951\n",
       "0.135335            0.388166          0.481939\n",
       "0.367879            0.352663          0.445817\n",
       "1.000000            0.340828          0.434411\n",
       "2.718282            0.261538          0.341255"
      ]
     },
     "execution_count": 30,
     "metadata": {},
     "output_type": "execute_result"
    },
    {
     "data": {
      "text/html": [
       "<div>\n",
       "<table border=\"1\" class=\"dataframe\">\n",
       "  <thead>\n",
       "    <tr style=\"text-align: right;\">\n",
       "      <th></th>\n",
       "      <th>ACCURACY_WO_SPACES</th>\n",
       "      <th>OVERALL_ACCURACY</th>\n",
       "    </tr>\n",
       "    <tr>\n",
       "      <th>SMOOTH</th>\n",
       "      <th></th>\n",
       "      <th></th>\n",
       "    </tr>\n",
       "  </thead>\n",
       "  <tbody>\n",
       "    <tr>\n",
       "      <th>0.018316</th>\n",
       "      <td>0.234162</td>\n",
       "      <td>0.359189</td>\n",
       "    </tr>\n",
       "    <tr>\n",
       "      <th>0.049787</th>\n",
       "      <td>0.263984</td>\n",
       "      <td>0.382826</td>\n",
       "    </tr>\n",
       "    <tr>\n",
       "      <th>0.135335</th>\n",
       "      <td>0.219329</td>\n",
       "      <td>0.345627</td>\n",
       "    </tr>\n",
       "    <tr>\n",
       "      <th>0.367879</th>\n",
       "      <td>0.220197</td>\n",
       "      <td>0.341065</td>\n",
       "    </tr>\n",
       "    <tr>\n",
       "      <th>1.000000</th>\n",
       "      <td>0.214675</td>\n",
       "      <td>0.331686</td>\n",
       "    </tr>\n",
       "    <tr>\n",
       "      <th>2.718282</th>\n",
       "      <td>0.133807</td>\n",
       "      <td>0.244867</td>\n",
       "    </tr>\n",
       "  </tbody>\n",
       "</table>\n",
       "</div>"
      ],
      "text/plain": [
       "          ACCURACY_WO_SPACES  OVERALL_ACCURACY\n",
       "SMOOTH                                        \n",
       "0.018316            0.234162          0.359189\n",
       "0.049787            0.263984          0.382826\n",
       "0.135335            0.219329          0.345627\n",
       "0.367879            0.220197          0.341065\n",
       "1.000000            0.214675          0.331686\n",
       "2.718282            0.133807          0.244867"
      ]
     },
     "execution_count": 30,
     "metadata": {},
     "output_type": "execute_result"
    },
    {
     "data": {
      "text/html": [
       "<div>\n",
       "<table border=\"1\" class=\"dataframe\">\n",
       "  <thead>\n",
       "    <tr style=\"text-align: right;\">\n",
       "      <th></th>\n",
       "      <th>ACCURACY_WO_SPACES</th>\n",
       "      <th>OVERALL_ACCURACY</th>\n",
       "    </tr>\n",
       "    <tr>\n",
       "      <th>SMOOTH</th>\n",
       "      <th></th>\n",
       "      <th></th>\n",
       "    </tr>\n",
       "  </thead>\n",
       "  <tbody>\n",
       "    <tr>\n",
       "      <th>0.018316</th>\n",
       "      <td>0.006142</td>\n",
       "      <td>0.004028</td>\n",
       "    </tr>\n",
       "    <tr>\n",
       "      <th>0.049787</th>\n",
       "      <td>0.007637</td>\n",
       "      <td>0.005503</td>\n",
       "    </tr>\n",
       "    <tr>\n",
       "      <th>0.135335</th>\n",
       "      <td>0.010777</td>\n",
       "      <td>0.007109</td>\n",
       "    </tr>\n",
       "    <tr>\n",
       "      <th>0.367879</th>\n",
       "      <td>0.011306</td>\n",
       "      <td>0.007431</td>\n",
       "    </tr>\n",
       "    <tr>\n",
       "      <th>1.000000</th>\n",
       "      <td>0.010827</td>\n",
       "      <td>0.007402</td>\n",
       "    </tr>\n",
       "    <tr>\n",
       "      <th>2.718282</th>\n",
       "      <td>0.005428</td>\n",
       "      <td>0.003762</td>\n",
       "    </tr>\n",
       "  </tbody>\n",
       "</table>\n",
       "</div>"
      ],
      "text/plain": [
       "          ACCURACY_WO_SPACES  OVERALL_ACCURACY\n",
       "SMOOTH                                        \n",
       "0.018316            0.006142          0.004028\n",
       "0.049787            0.007637          0.005503\n",
       "0.135335            0.010777          0.007109\n",
       "0.367879            0.011306          0.007431\n",
       "1.000000            0.010827          0.007402\n",
       "2.718282            0.005428          0.003762"
      ]
     },
     "execution_count": 30,
     "metadata": {},
     "output_type": "execute_result"
    }
   ],
   "source": [
    "RESULTS_DF[['ACCURACY_WO_SPACES','OVERALL_ACCURACY', 'SMOOTH']].dropna().astype(float).groupby('SMOOTH').max()\n",
    "RESULTS_DF[['ACCURACY_WO_SPACES','OVERALL_ACCURACY', 'SMOOTH']].dropna().astype(float).groupby('SMOOTH').mean()\n",
    "RESULTS_DF[['ACCURACY_WO_SPACES','OVERALL_ACCURACY', 'SMOOTH']].dropna().astype(float).groupby('SMOOTH').var()\n",
    "\n",
    "# RESULTS_DF"
   ]
  },
  {
   "cell_type": "markdown",
   "metadata": {},
   "source": [
    "# Visualizing process "
   ]
  },
  {
   "cell_type": "code",
   "execution_count": null,
   "metadata": {
    "collapsed": false
   },
   "outputs": [],
   "source": [
    "char_inps = char_inps_raw.copy()\n",
    "char_inps = char_inps[char_inps.columns[:MAX_COLS]]\n",
    "char_inps.tail(10)"
   ]
  },
  {
   "cell_type": "markdown",
   "metadata": {},
   "source": [
    "## Visualize Spaces "
   ]
  },
  {
   "cell_type": "code",
   "execution_count": null,
   "metadata": {
    "collapsed": false
   },
   "outputs": [],
   "source": [
    "pl.view_char(char_inps, ' ', limit = 8)"
   ]
  },
  {
   "cell_type": "code",
   "execution_count": null,
   "metadata": {
    "collapsed": false
   },
   "outputs": [],
   "source": [
    "pl.view_char(char_inps, 'e', limit = 8)"
   ]
  },
  {
   "cell_type": "markdown",
   "metadata": {},
   "source": [
    "## Get the cepstrum features from the raw signal "
   ]
  },
  {
   "cell_type": "code",
   "execution_count": null,
   "metadata": {
    "collapsed": false
   },
   "outputs": [],
   "source": [
    "cepstrum_df = pl.extract_cepstrum(char_inps, rate, mfcc_start=0, mfcc_end=19)\n",
    "cepstrum_df.head()"
   ]
  },
  {
   "cell_type": "markdown",
   "metadata": {},
   "source": [
    "## Visualize Cepstrum Features "
   ]
  },
  {
   "cell_type": "code",
   "execution_count": null,
   "metadata": {
    "collapsed": false
   },
   "outputs": [],
   "source": [
    "pl.view_char(cepstrum_df, ' ', xlim = 200, limit = 12)"
   ]
  },
  {
   "cell_type": "code",
   "execution_count": null,
   "metadata": {
    "collapsed": false
   },
   "outputs": [],
   "source": [
    "pl.view_char(cepstrum_df, 'e', xlim = 200, limit = 12)"
   ]
  },
  {
   "cell_type": "markdown",
   "metadata": {},
   "source": [
    "## Cluster the features"
   ]
  },
  {
   "cell_type": "code",
   "execution_count": null,
   "metadata": {
    "collapsed": false
   },
   "outputs": [],
   "source": [
    "cepstrum_df = pl.cluster(cepstrum_df, num_clusters = num_clusters, n_components = n_components)\n",
    "cepstrum_df.head()"
   ]
  },
  {
   "cell_type": "code",
   "execution_count": null,
   "metadata": {
    "collapsed": false
   },
   "outputs": [],
   "source": [
    "pl.cluster_proportions(cepstrum_df, [' '] + map(lambda x : chr(x + ord('a')),  range(26)), num_clusters = num_clusters)"
   ]
  },
  {
   "cell_type": "markdown",
   "metadata": {},
   "source": [
    "## Build Transmission Matrix with bigrams"
   ]
  },
  {
   "cell_type": "code",
   "execution_count": null,
   "metadata": {
    "collapsed": false
   },
   "outputs": [],
   "source": [
    "A_df, n_unique, unique_chars, id_to_char, char_to_id  = pl.build_transmission_full()\n",
    "A_df.head()"
   ]
  },
  {
   "cell_type": "markdown",
   "metadata": {},
   "source": [
    "##  Check the proportion of spaces across the k means classes"
   ]
  },
  {
   "cell_type": "code",
   "execution_count": null,
   "metadata": {
    "collapsed": false
   },
   "outputs": [],
   "source": [
    "space_props= pl.get_props(cepstrum_df, num_clusters, ' ')\n",
    "_  = space_props.plot(kind='bar', title = 'Space Proportions')"
   ]
  },
  {
   "cell_type": "markdown",
   "metadata": {},
   "source": [
    "## Build emissions matrix"
   ]
  },
  {
   "cell_type": "code",
   "execution_count": null,
   "metadata": {
    "collapsed": false
   },
   "outputs": [],
   "source": [
    "Eta = pl.build_eta(cepstrum_df, unique_chars, num_clusters)\n",
    "Eta"
   ]
  },
  {
   "cell_type": "markdown",
   "metadata": {},
   "source": [
    "## Get Unigram proportions"
   ]
  },
  {
   "cell_type": "code",
   "execution_count": null,
   "metadata": {
    "collapsed": false
   },
   "outputs": [],
   "source": [
    "char_counts = pl.get_char_counts(targ_s, unique_chars)\n",
    "char_counts"
   ]
  },
  {
   "cell_type": "markdown",
   "metadata": {},
   "source": [
    "## Run HMM"
   ]
  },
  {
   "cell_type": "code",
   "execution_count": null,
   "metadata": {
    "collapsed": true
   },
   "outputs": [],
   "source": [
    "pl = reload(pl)"
   ]
  },
  {
   "cell_type": "code",
   "execution_count": null,
   "metadata": {
    "collapsed": false
   },
   "outputs": [],
   "source": [
    "smooth = 0.7\n",
    "estimate, acc, acc_wospace, score = pl.run_hmm(cepstrum_df, targ_s, num_clusters, t_smooth = smooth, do_all = DO_ALL) "
   ]
  },
  {
   "cell_type": "code",
   "execution_count": null,
   "metadata": {
    "collapsed": false
   },
   "outputs": [],
   "source": [
    "targ_s"
   ]
  },
  {
   "cell_type": "code",
   "execution_count": null,
   "metadata": {
    "collapsed": false,
    "scrolled": false
   },
   "outputs": [],
   "source": [
    "smooths = map(lambda x : np.exp(x), range(-10, 10))\n",
    "# smooths = np.arange(0,2,.1)\n",
    "for smooth in smooths:\n",
    "    estimate, acc, acc_wospace, score = pl.run_hmm(cepstrum_df, targ_s, num_clusters, t_smooth = smooth, do_all = True)   "
   ]
  }
 ],
 "metadata": {
  "kernelspec": {
   "display_name": "Python 2",
   "language": "python",
   "name": "python2"
  },
  "language_info": {
   "codemirror_mode": {
    "name": "ipython",
    "version": 2
   },
   "file_extension": ".py",
   "mimetype": "text/x-python",
   "name": "python",
   "nbconvert_exporter": "python",
   "pygments_lexer": "ipython2",
   "version": "2.7.11"
  }
 },
 "nbformat": 4,
 "nbformat_minor": 0
}
